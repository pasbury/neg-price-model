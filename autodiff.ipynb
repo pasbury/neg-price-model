{
 "cells": [
  {
   "cell_type": "code",
   "execution_count": 6,
   "metadata": {},
   "outputs": [],
   "source": [
    "import jax.numpy as jnp\n",
    "from jax import grad, jit, vmap, value_and_grad\n",
    "from jax import random\n",
    "from jax.scipy.special import ndtr\n",
    "from jax.scipy.stats.norm import pdf as norm_prob\n",
    "\n",
    "key = random.PRNGKey(0)"
   ]
  },
  {
   "cell_type": "code",
   "execution_count": 8,
   "metadata": {},
   "outputs": [],
   "source": [
    "def norm_cdf (mu, sigma, x):\n",
    "    scaled_x = (x - mu) / sigma\n",
    "    return ndtr(scaled_x)"
   ]
  },
  {
   "cell_type": "code",
   "execution_count": 7,
   "metadata": {},
   "outputs": [
    {
     "name": "stdout",
     "output_type": "stream",
     "text": [
      "0.8413447 0.24197075 0.24197073\n"
     ]
    }
   ],
   "source": [
    "x = 1.0\n",
    "f = ndtr\n",
    "df = grad(f)\n",
    "print(f(x), df(x), norm_prob(x))"
   ]
  },
  {
   "cell_type": "code",
   "execution_count": 13,
   "metadata": {},
   "outputs": [
    {
     "name": "stdout",
     "output_type": "stream",
     "text": [
      "0.69146246 -0.17603266 -0.08801633 0.17603266\n"
     ]
    }
   ],
   "source": [
    "x = 6.0\n",
    "mu = 5.0\n",
    "sigma = 2.0\n",
    "f = norm_cdf\n",
    "df_mu, df_sigma, df_x = grad(f, (0, 1, 2))(mu, sigma, x)\n",
    "print(f(mu, sigma, x), df_mu, df_sigma, df_x)#df(x), norm_prob(x, loc=mu, scale=sigma))"
   ]
  },
  {
   "cell_type": "code",
   "execution_count": null,
   "metadata": {},
   "outputs": [],
   "source": []
  },
  {
   "cell_type": "code",
   "execution_count": null,
   "metadata": {},
   "outputs": [],
   "source": []
  }
 ],
 "metadata": {
  "interpreter": {
   "hash": "0789b99f4adc99188d8b4faac15be0fb9c8374a560d4c08f7e9a557c45f5c72c"
  },
  "kernelspec": {
   "display_name": "Python 3.8.10 64-bit ('venv': venv)",
   "language": "python",
   "name": "python3"
  },
  "language_info": {
   "codemirror_mode": {
    "name": "ipython",
    "version": 3
   },
   "file_extension": ".py",
   "mimetype": "text/x-python",
   "name": "python",
   "nbconvert_exporter": "python",
   "pygments_lexer": "ipython3",
   "version": "3.8.10"
  },
  "orig_nbformat": 4
 },
 "nbformat": 4,
 "nbformat_minor": 2
}
