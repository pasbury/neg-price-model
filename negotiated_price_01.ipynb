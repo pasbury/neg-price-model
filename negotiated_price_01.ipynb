{
 "cells": [
  {
   "cell_type": "code",
   "execution_count": 1,
   "metadata": {},
   "outputs": [],
   "source": [
    "import pandas as pd\n",
    "import pyro\n",
    "import torch\n",
    "import matplotlib.pyplot as plt\n",
    "import numpy as np\n",
    "import random"
   ]
  },
  {
   "cell_type": "code",
   "execution_count": 2,
   "metadata": {},
   "outputs": [],
   "source": [
    "# some comments\n",
    "pyro.set_rng_seed(101)"
   ]
  },
  {
   "cell_type": "code",
   "execution_count": 3,
   "metadata": {},
   "outputs": [],
   "source": [
    "%matplotlib inline"
   ]
  },
  {
   "cell_type": "code",
   "execution_count": 41,
   "metadata": {},
   "outputs": [
    {
     "data": {
      "image/png": "[encoded data removed]",
      "text/plain": [
       "<Figure size 432x288 with 1 Axes>"
      ]
     },
     "metadata": {
      "needs_background": "light"
     },
     "output_type": "display_data"
    }
   ],
   "source": [
    "# Generate items\n",
    "# For now, items described by single attribute - quality\n",
    "# Each item has a list price determined by that quality\n",
    "num_items = torch.tensor(100)\n",
    "item_quality = torch.distributions.Uniform(1, 10).sample([100])\n",
    "#pyro.sample(\"item_quality\", pyro.distributions.Uniform(1, 10).expand([num_items,]))\n",
    "list_price = torch.maximum(torch.distributions.Normal(item_quality, torch.tensor(1.0)).sample(),torch.tensor(0.0)) * 10\n",
    "plt.scatter(item_quality, list_price)\n",
    "mean_quality = torch.mean(item_quality)\n",
    "mean_list_price = torch.mean(list_price)"
   ]
  },
  {
   "cell_type": "code",
   "execution_count": 42,
   "metadata": {},
   "outputs": [],
   "source": [
    "# Generate customers\n",
    "# Each customer has a view on the value of item quality which determines their willingness to pay\n",
    "num_cust = torch.tensor(10000)\n",
    "beta_quality_loc = torch.log(pyro.sample(\"beta_quality_loc\", pyro.distributions.Uniform(5,10)))\n",
    "beta_quality_scale = torch.log(pyro.sample(\"beta_quality_scale\", pyro.distributions.Uniform(1,2)))\n",
    "beta_quality = pyro.sample(\"beta_quality\", pyro.distributions.LogNormal(beta_quality_loc, beta_quality_scale).expand([num_cust,]))\n",
    "mean_beta_quality = torch.mean(beta_quality)\n",
    "std_beta_quality = torch.std(beta_quality)\n",
    "\n",
    "#wtp_loc = torch.log(pyro.sample(\"wtp_mean\", pyro.distributions.Uniform(10,20)))\n",
    "#wtp_scale = torch.log(pyro.sample(\"wtp_scale\", pyro.distributions.Uniform(1,3)))\n",
    "#print(torch.exp(wtp_loc))\n",
    "#print(torch.exp(wtp_scale))\n",
    "\n",
    "\n",
    "#wtp = pyro.sample(\"wtp\", pyro.distributions.LogNormal(wtp_loc, wtp_scale).expand([num_cust,]))\n",
    "#mean_wtp = torch.mean(wtp)\n",
    "#std_wtp = torch.std(wtp)\n",
    "\n",
    "# Generate salespeople\n",
    "num_sales = torch.tensor(2)\n",
    "sales_wtp_bias = pyro.sample(\"sales_wtp_bias\", pyro.distributions.Uniform(-0.2,0.1).expand([num_sales,]))\n",
    "sales_wtp_uncertainty = pyro.sample(\"sales_wtp_uncertainty\", pyro.distributions.Uniform(0.1,0.3).expand([num_sales,]))\n",
    "\n",
    "#list_price = torch.quantile(wtp,torch.tensor([0.9])).squeeze().item()\n",
    "\n",
    "\n",
    "# Generate quotes\n",
    "## One per customer, randomly assign an item and a ssalesperson to each customer\n",
    "## Negotiate.  Salesperson \n",
    "# Either won with price recorded or lost with price not recorded.\n",
    "\n",
    "outcome = {}\n",
    "for c in range(num_cust):\n",
    "    s = random.randrange(num_sales)\n",
    "    i = random.randrange(num_items)\n",
    "    wtp = item_quality[i] * beta_quality[c]\n",
    "    est_wtp = pyro.sample(\"estimated_wtp\", pyro.distributions.Normal(wtp*(1+sales_wtp_bias[s]), wtp*sales_wtp_uncertainty[s]))\n",
    "    #est_wtp = pyro.sample(\"estimated_wtp\", pyro.distributions.Normal(wtp[c]*(1+sales_wtp_bias[s]), wtp[c]*sales_wtp_uncertainty[s]))\n",
    "    if wtp.item() >= list_price[i].item():\n",
    "        result = 1\n",
    "        price = list_price[i].item()\n",
    "    if wtp.item() < est_wtp:\n",
    "        result = 0\n",
    "        price = np.nan\n",
    "    else:\n",
    "        result = 1\n",
    "        price = ( est_wtp.item() + wtp.item() ) /2\n",
    "    outcome[c] = {'result':result, 'price':price, 'wtp':wtp.item(), 'est_wtp':est_wtp.item(), 'salesperson':s}\n",
    "\n"
   ]
  },
  {
   "cell_type": "code",
   "execution_count": 43,
   "metadata": {},
   "outputs": [],
   "source": [
    "df = pd.DataFrame.from_dict(outcome, orient='index')"
   ]
  },
  {
   "cell_type": "code",
   "execution_count": 44,
   "metadata": {},
   "outputs": [
    {
     "data": {
      "text/html": [
       "<div>\n",
       "<style scoped>\n",
       "    .dataframe tbody tr th:only-of-type {\n",
       "        vertical-align: middle;\n",
       "    }\n",
       "\n",
       "    .dataframe tbody tr th {\n",
       "        vertical-align: top;\n",
       "    }\n",
       "\n",
       "    .dataframe thead th {\n",
       "        text-align: right;\n",
       "    }\n",
       "</style>\n",
       "<table border=\"1\" class=\"dataframe\">\n",
       "  <thead>\n",
       "    <tr style=\"text-align: right;\">\n",
       "      <th></th>\n",
       "      <th>result</th>\n",
       "      <th>price</th>\n",
       "      <th>wtp</th>\n",
       "      <th>est_wtp</th>\n",
       "      <th>salesperson</th>\n",
       "    </tr>\n",
       "  </thead>\n",
       "  <tbody>\n",
       "    <tr>\n",
       "      <th>0</th>\n",
       "      <td>1</td>\n",
       "      <td>48.959425</td>\n",
       "      <td>53.393116</td>\n",
       "      <td>44.525734</td>\n",
       "      <td>1</td>\n",
       "    </tr>\n",
       "    <tr>\n",
       "      <th>1</th>\n",
       "      <td>0</td>\n",
       "      <td>NaN</td>\n",
       "      <td>55.234478</td>\n",
       "      <td>74.075890</td>\n",
       "      <td>1</td>\n",
       "    </tr>\n",
       "    <tr>\n",
       "      <th>2</th>\n",
       "      <td>1</td>\n",
       "      <td>13.487222</td>\n",
       "      <td>16.690929</td>\n",
       "      <td>10.283515</td>\n",
       "      <td>1</td>\n",
       "    </tr>\n",
       "    <tr>\n",
       "      <th>3</th>\n",
       "      <td>1</td>\n",
       "      <td>31.241411</td>\n",
       "      <td>34.416615</td>\n",
       "      <td>28.066208</td>\n",
       "      <td>0</td>\n",
       "    </tr>\n",
       "    <tr>\n",
       "      <th>4</th>\n",
       "      <td>1</td>\n",
       "      <td>51.493631</td>\n",
       "      <td>61.444942</td>\n",
       "      <td>41.542320</td>\n",
       "      <td>1</td>\n",
       "    </tr>\n",
       "    <tr>\n",
       "      <th>...</th>\n",
       "      <td>...</td>\n",
       "      <td>...</td>\n",
       "      <td>...</td>\n",
       "      <td>...</td>\n",
       "      <td>...</td>\n",
       "    </tr>\n",
       "    <tr>\n",
       "      <th>9995</th>\n",
       "      <td>0</td>\n",
       "      <td>NaN</td>\n",
       "      <td>18.754353</td>\n",
       "      <td>20.639214</td>\n",
       "      <td>1</td>\n",
       "    </tr>\n",
       "    <tr>\n",
       "      <th>9996</th>\n",
       "      <td>1</td>\n",
       "      <td>57.783966</td>\n",
       "      <td>64.142532</td>\n",
       "      <td>51.425400</td>\n",
       "      <td>0</td>\n",
       "    </tr>\n",
       "    <tr>\n",
       "      <th>9997</th>\n",
       "      <td>0</td>\n",
       "      <td>NaN</td>\n",
       "      <td>130.031982</td>\n",
       "      <td>174.425827</td>\n",
       "      <td>0</td>\n",
       "    </tr>\n",
       "    <tr>\n",
       "      <th>9998</th>\n",
       "      <td>0</td>\n",
       "      <td>NaN</td>\n",
       "      <td>20.784847</td>\n",
       "      <td>20.833910</td>\n",
       "      <td>0</td>\n",
       "    </tr>\n",
       "    <tr>\n",
       "      <th>9999</th>\n",
       "      <td>1</td>\n",
       "      <td>22.994631</td>\n",
       "      <td>25.799362</td>\n",
       "      <td>20.189899</td>\n",
       "      <td>0</td>\n",
       "    </tr>\n",
       "  </tbody>\n",
       "</table>\n",
       "<p>10000 rows × 5 columns</p>\n",
       "</div>"
      ],
      "text/plain": [
       "      result      price         wtp     est_wtp  salesperson\n",
       "0          1  48.959425   53.393116   44.525734            1\n",
       "1          0        NaN   55.234478   74.075890            1\n",
       "2          1  13.487222   16.690929   10.283515            1\n",
       "3          1  31.241411   34.416615   28.066208            0\n",
       "4          1  51.493631   61.444942   41.542320            1\n",
       "...      ...        ...         ...         ...          ...\n",
       "9995       0        NaN   18.754353   20.639214            1\n",
       "9996       1  57.783966   64.142532   51.425400            0\n",
       "9997       0        NaN  130.031982  174.425827            0\n",
       "9998       0        NaN   20.784847   20.833910            0\n",
       "9999       1  22.994631   25.799362   20.189899            0\n",
       "\n",
       "[10000 rows x 5 columns]"
      ]
     },
     "execution_count": 44,
     "metadata": {},
     "output_type": "execute_result"
    }
   ],
   "source": [
    "df"
   ]
  },
  {
   "cell_type": "code",
   "execution_count": 45,
   "metadata": {},
   "outputs": [
    {
     "data": {
      "text/html": [
       "<div>\n",
       "<style scoped>\n",
       "    .dataframe tbody tr th:only-of-type {\n",
       "        vertical-align: middle;\n",
       "    }\n",
       "\n",
       "    .dataframe tbody tr th {\n",
       "        vertical-align: top;\n",
       "    }\n",
       "\n",
       "    .dataframe thead th {\n",
       "        text-align: right;\n",
       "    }\n",
       "</style>\n",
       "<table border=\"1\" class=\"dataframe\">\n",
       "  <thead>\n",
       "    <tr style=\"text-align: right;\">\n",
       "      <th></th>\n",
       "      <th>result</th>\n",
       "      <th>price</th>\n",
       "      <th>wtp</th>\n",
       "      <th>est_wtp</th>\n",
       "      <th>salesperson</th>\n",
       "    </tr>\n",
       "  </thead>\n",
       "  <tbody>\n",
       "    <tr>\n",
       "      <th>count</th>\n",
       "      <td>10000.000000</td>\n",
       "      <td>6383.000000</td>\n",
       "      <td>10000.000000</td>\n",
       "      <td>10000.000000</td>\n",
       "      <td>10000.000000</td>\n",
       "    </tr>\n",
       "    <tr>\n",
       "      <th>mean</th>\n",
       "      <td>0.638300</td>\n",
       "      <td>42.591381</td>\n",
       "      <td>47.263335</td>\n",
       "      <td>43.411083</td>\n",
       "      <td>0.501000</td>\n",
       "    </tr>\n",
       "    <tr>\n",
       "      <th>std</th>\n",
       "      <td>0.480517</td>\n",
       "      <td>24.585001</td>\n",
       "      <td>26.941120</td>\n",
       "      <td>27.439961</td>\n",
       "      <td>0.500024</td>\n",
       "    </tr>\n",
       "    <tr>\n",
       "      <th>min</th>\n",
       "      <td>0.000000</td>\n",
       "      <td>4.125913</td>\n",
       "      <td>5.102670</td>\n",
       "      <td>-1.544521</td>\n",
       "      <td>0.000000</td>\n",
       "    </tr>\n",
       "    <tr>\n",
       "      <th>25%</th>\n",
       "      <td>0.000000</td>\n",
       "      <td>23.067018</td>\n",
       "      <td>25.649299</td>\n",
       "      <td>22.290218</td>\n",
       "      <td>0.000000</td>\n",
       "    </tr>\n",
       "    <tr>\n",
       "      <th>50%</th>\n",
       "      <td>1.000000</td>\n",
       "      <td>38.488941</td>\n",
       "      <td>42.938320</td>\n",
       "      <td>37.372992</td>\n",
       "      <td>1.000000</td>\n",
       "    </tr>\n",
       "    <tr>\n",
       "      <th>75%</th>\n",
       "      <td>1.000000</td>\n",
       "      <td>57.422760</td>\n",
       "      <td>63.589742</td>\n",
       "      <td>58.925856</td>\n",
       "      <td>1.000000</td>\n",
       "    </tr>\n",
       "    <tr>\n",
       "      <th>max</th>\n",
       "      <td>1.000000</td>\n",
       "      <td>165.957382</td>\n",
       "      <td>199.931549</td>\n",
       "      <td>221.671967</td>\n",
       "      <td>1.000000</td>\n",
       "    </tr>\n",
       "  </tbody>\n",
       "</table>\n",
       "</div>"
      ],
      "text/plain": [
       "             result        price           wtp       est_wtp   salesperson\n",
       "count  10000.000000  6383.000000  10000.000000  10000.000000  10000.000000\n",
       "mean       0.638300    42.591381     47.263335     43.411083      0.501000\n",
       "std        0.480517    24.585001     26.941120     27.439961      0.500024\n",
       "min        0.000000     4.125913      5.102670     -1.544521      0.000000\n",
       "25%        0.000000    23.067018     25.649299     22.290218      0.000000\n",
       "50%        1.000000    38.488941     42.938320     37.372992      1.000000\n",
       "75%        1.000000    57.422760     63.589742     58.925856      1.000000\n",
       "max        1.000000   165.957382    199.931549    221.671967      1.000000"
      ]
     },
     "execution_count": 45,
     "metadata": {},
     "output_type": "execute_result"
    }
   ],
   "source": [
    "df.describe()"
   ]
  },
  {
   "cell_type": "code",
   "execution_count": 8,
   "metadata": {},
   "outputs": [
    {
     "ename": "AttributeError",
     "evalue": "'float' object has no attribute 'item'",
     "output_type": "error",
     "traceback": [
      "\u001b[1;31m---------------------------------------------------------------------------\u001b[0m",
      "\u001b[1;31mAttributeError\u001b[0m                            Traceback (most recent call last)",
      "\u001b[1;32m~\\AppData\\Local\\Temp/ipykernel_19328/2365855007.py\u001b[0m in \u001b[0;36m<module>\u001b[1;34m\u001b[0m\n\u001b[0;32m      1\u001b[0m \u001b[1;31m# Distribution of price-like variables\u001b[0m\u001b[1;33m\u001b[0m\u001b[1;33m\u001b[0m\u001b[0m\n\u001b[0;32m      2\u001b[0m \u001b[1;33m\u001b[0m\u001b[0m\n\u001b[1;32m----> 3\u001b[1;33m \u001b[0mlist_price\u001b[0m\u001b[1;33m.\u001b[0m\u001b[0mitem\u001b[0m\u001b[1;33m(\u001b[0m\u001b[1;33m)\u001b[0m\u001b[1;33m\u001b[0m\u001b[1;33m\u001b[0m\u001b[0m\n\u001b[0m",
      "\u001b[1;31mAttributeError\u001b[0m: 'float' object has no attribute 'item'"
     ]
    }
   ],
   "source": [
    "# Distribution of price-like variables\n",
    "\n",
    "list_price.item()"
   ]
  },
  {
   "cell_type": "code",
   "execution_count": null,
   "metadata": {},
   "outputs": [],
   "source": [
    "# Comparison of list price, wtp, estimated wtp, agreed price (if any) for sample of customers\n",
    "# Random sample X, sort by wtp ascendin"
   ]
  },
  {
   "cell_type": "code",
   "execution_count": null,
   "metadata": {},
   "outputs": [],
   "source": [
    "# Distribution of discounts on won deals by salesperson"
   ]
  },
  {
   "cell_type": "code",
   "execution_count": null,
   "metadata": {},
   "outputs": [],
   "source": [
    "# Conversion rate by discount on won deals"
   ]
  },
  {
   "cell_type": "code",
   "execution_count": 23,
   "metadata": {},
   "outputs": [
    {
     "data": {
      "image/png": "[encoded data removed]",
      "text/plain": [
       "<Figure size 432x288 with 1 Axes>"
      ]
     },
     "metadata": {
      "needs_background": "light"
     },
     "output_type": "display_data"
    }
   ],
   "source": [
    "_ = plt.hist(wtp.numpy(), 100, (0, 100))\n"
   ]
  },
  {
   "cell_type": "code",
   "execution_count": null,
   "metadata": {},
   "outputs": [],
   "source": [
    "z = wtp.numpy()"
   ]
  },
  {
   "cell_type": "code",
   "execution_count": 5,
   "metadata": {},
   "outputs": [
    {
     "data": {
      "text/plain": [
       "(array([9., 0., 1.]),\n",
       " array([ 1., 23., 45., 67.]),\n",
       " <BarContainer object of 3 artists>)"
      ]
     },
     "execution_count": 5,
     "metadata": {},
     "output_type": "execute_result"
    },
    {
     "data": {
      "image/png": "[encoded data removed]",
      "text/plain": [
       "<Figure size 432x288 with 1 Axes>"
      ]
     },
     "metadata": {
      "needs_background": "light"
     },
     "output_type": "display_data"
    }
   ],
   "source": [
    "x = [1, 2, 3, 4, 5, 67, 8, 9, 20, 21]\n",
    "nb=3\n",
    "plt.hist(x, nb)\n",
    "#plt.show();"
   ]
  },
  {
   "cell_type": "code",
   "execution_count": null,
   "metadata": {},
   "outputs": [],
   "source": []
  }
 ],
 "metadata": {
  "interpreter": {
   "hash": "e7a8b3389af718b71616ac13e1d37af2291d455bef521854cd60a5c21005a631"
  },
  "kernelspec": {
   "display_name": "Python 3 (ipykernel)",
   "language": "python",
   "name": "python3"
  },
  "language_info": {
   "codemirror_mode": {
    "name": "ipython",
    "version": 3
   },
   "file_extension": ".py",
   "mimetype": "text/x-python",
   "name": "python",
   "nbconvert_exporter": "python",
   "pygments_lexer": "ipython3",
   "version": "3.9.7"
  }
 },
 "nbformat": 4,
 "nbformat_minor": 4
}
