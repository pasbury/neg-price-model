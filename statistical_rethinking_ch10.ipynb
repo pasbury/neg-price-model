{
 "cells": [
  {
   "cell_type": "code",
   "execution_count": 49,
   "metadata": {},
   "outputs": [],
   "source": [
    "import numpy as np\n",
    "import numpyro\n",
    "import numpyro.distributions as dist\n",
    "from numpyro.infer.reparam import TransformReparam, LocScaleReparam\n",
    "from numpyro.distributions.transforms import AffineTransform\n",
    "from numpyro.infer import MCMC, NUTS, Predictive, SVI, Trace_ELBO, log_likelihood\n",
    "from numpyro.infer.autoguide import AutoLaplaceApproximation\n",
    "import numpyro.optim as optim\n",
    "from numpyro import handlers\n",
    "from numpyro.handlers import mask\n",
    "import jax\n",
    "from jax.numpy import DeviceArray\n",
    "import jax.numpy as jnp\n",
    "from jax import random, lax\n",
    "from jax import nn as jnn\n",
    "from jax.scipy.special import expit\n",
    "import pandas as pd\n",
    "import matplotlib.pyplot as plt\n",
    "import arviz as az\n",
    "from sklearn.neighbors import KNeighborsRegressor\n",
    "from sklearn.model_selection import GridSearchCV\n",
    "from sklearn.model_selection import train_test_split\n",
    "from sklearn.metrics import r2_score, roc_auc_score\n",
    "from sklearn.preprocessing import StandardScaler, OrdinalEncoder"
   ]
  },
  {
   "cell_type": "code",
   "execution_count": null,
   "metadata": {},
   "outputs": [],
   "source": []
  },
  {
   "cell_type": "code",
   "execution_count": 3,
   "metadata": {},
   "outputs": [],
   "source": [
    "d = pd.read_csv('data/chimpanzees.csv', sep=';')"
   ]
  },
  {
   "cell_type": "code",
   "execution_count": 4,
   "metadata": {},
   "outputs": [
    {
     "data": {
      "text/html": [
       "<div>\n",
       "<style scoped>\n",
       "    .dataframe tbody tr th:only-of-type {\n",
       "        vertical-align: middle;\n",
       "    }\n",
       "\n",
       "    .dataframe tbody tr th {\n",
       "        vertical-align: top;\n",
       "    }\n",
       "\n",
       "    .dataframe thead th {\n",
       "        text-align: right;\n",
       "    }\n",
       "</style>\n",
       "<table border=\"1\" class=\"dataframe\">\n",
       "  <thead>\n",
       "    <tr style=\"text-align: right;\">\n",
       "      <th></th>\n",
       "      <th>actor</th>\n",
       "      <th>recipient</th>\n",
       "      <th>condition</th>\n",
       "      <th>block</th>\n",
       "      <th>trial</th>\n",
       "      <th>prosoc_left</th>\n",
       "      <th>chose_prosoc</th>\n",
       "      <th>pulled_left</th>\n",
       "    </tr>\n",
       "  </thead>\n",
       "  <tbody>\n",
       "    <tr>\n",
       "      <th>426</th>\n",
       "      <td>6</td>\n",
       "      <td>4.0</td>\n",
       "      <td>1</td>\n",
       "      <td>6</td>\n",
       "      <td>61</td>\n",
       "      <td>0</td>\n",
       "      <td>0</td>\n",
       "      <td>1</td>\n",
       "    </tr>\n",
       "    <tr>\n",
       "      <th>434</th>\n",
       "      <td>7</td>\n",
       "      <td>NaN</td>\n",
       "      <td>0</td>\n",
       "      <td>1</td>\n",
       "      <td>5</td>\n",
       "      <td>0</td>\n",
       "      <td>1</td>\n",
       "      <td>0</td>\n",
       "    </tr>\n",
       "    <tr>\n",
       "      <th>480</th>\n",
       "      <td>7</td>\n",
       "      <td>5.0</td>\n",
       "      <td>1</td>\n",
       "      <td>3</td>\n",
       "      <td>26</td>\n",
       "      <td>0</td>\n",
       "      <td>0</td>\n",
       "      <td>1</td>\n",
       "    </tr>\n",
       "    <tr>\n",
       "      <th>406</th>\n",
       "      <td>6</td>\n",
       "      <td>4.0</td>\n",
       "      <td>1</td>\n",
       "      <td>2</td>\n",
       "      <td>21</td>\n",
       "      <td>1</td>\n",
       "      <td>1</td>\n",
       "      <td>1</td>\n",
       "    </tr>\n",
       "    <tr>\n",
       "      <th>228</th>\n",
       "      <td>4</td>\n",
       "      <td>NaN</td>\n",
       "      <td>0</td>\n",
       "      <td>3</td>\n",
       "      <td>25</td>\n",
       "      <td>1</td>\n",
       "      <td>0</td>\n",
       "      <td>0</td>\n",
       "    </tr>\n",
       "  </tbody>\n",
       "</table>\n",
       "</div>"
      ],
      "text/plain": [
       "     actor  recipient  condition  block  trial  prosoc_left  chose_prosoc  \\\n",
       "426      6        4.0          1      6     61            0             0   \n",
       "434      7        NaN          0      1      5            0             1   \n",
       "480      7        5.0          1      3     26            0             0   \n",
       "406      6        4.0          1      2     21            1             1   \n",
       "228      4        NaN          0      3     25            1             0   \n",
       "\n",
       "     pulled_left  \n",
       "426            1  \n",
       "434            0  \n",
       "480            1  \n",
       "406            1  \n",
       "228            0  "
      ]
     },
     "execution_count": 4,
     "metadata": {},
     "output_type": "execute_result"
    }
   ],
   "source": [
    "d.sample(5)"
   ]
  },
  {
   "cell_type": "code",
   "execution_count": 5,
   "metadata": {},
   "outputs": [
    {
     "data": {
      "text/plain": [
       "array([1, 2, 3, 4, 5, 6, 7])"
      ]
     },
     "execution_count": 5,
     "metadata": {},
     "output_type": "execute_result"
    }
   ],
   "source": [
    "d.actor.unique()"
   ]
  },
  {
   "cell_type": "code",
   "execution_count": 15,
   "metadata": {},
   "outputs": [
    {
     "data": {
      "text/html": [
       "<div>\n",
       "<style scoped>\n",
       "    .dataframe tbody tr th:only-of-type {\n",
       "        vertical-align: middle;\n",
       "    }\n",
       "\n",
       "    .dataframe tbody tr th {\n",
       "        vertical-align: top;\n",
       "    }\n",
       "\n",
       "    .dataframe thead th {\n",
       "        text-align: right;\n",
       "    }\n",
       "</style>\n",
       "<table border=\"1\" class=\"dataframe\">\n",
       "  <thead>\n",
       "    <tr style=\"text-align: right;\">\n",
       "      <th></th>\n",
       "      <th>actor</th>\n",
       "      <th>recipient</th>\n",
       "      <th>condition</th>\n",
       "      <th>block</th>\n",
       "      <th>trial</th>\n",
       "      <th>prosoc_left</th>\n",
       "      <th>chose_prosoc</th>\n",
       "      <th>pulled_left</th>\n",
       "    </tr>\n",
       "  </thead>\n",
       "  <tbody>\n",
       "    <tr>\n",
       "      <th>count</th>\n",
       "      <td>504.000000</td>\n",
       "      <td>252.00000</td>\n",
       "      <td>504.000000</td>\n",
       "      <td>504.000000</td>\n",
       "      <td>504.000000</td>\n",
       "      <td>504.000000</td>\n",
       "      <td>504.00000</td>\n",
       "      <td>504.000000</td>\n",
       "    </tr>\n",
       "    <tr>\n",
       "      <th>mean</th>\n",
       "      <td>4.000000</td>\n",
       "      <td>5.00000</td>\n",
       "      <td>0.500000</td>\n",
       "      <td>3.500000</td>\n",
       "      <td>36.500000</td>\n",
       "      <td>0.500000</td>\n",
       "      <td>0.56746</td>\n",
       "      <td>0.579365</td>\n",
       "    </tr>\n",
       "    <tr>\n",
       "      <th>std</th>\n",
       "      <td>2.001987</td>\n",
       "      <td>2.00398</td>\n",
       "      <td>0.500497</td>\n",
       "      <td>1.709522</td>\n",
       "      <td>20.803253</td>\n",
       "      <td>0.500497</td>\n",
       "      <td>0.49592</td>\n",
       "      <td>0.494151</td>\n",
       "    </tr>\n",
       "    <tr>\n",
       "      <th>min</th>\n",
       "      <td>1.000000</td>\n",
       "      <td>2.00000</td>\n",
       "      <td>0.000000</td>\n",
       "      <td>1.000000</td>\n",
       "      <td>1.000000</td>\n",
       "      <td>0.000000</td>\n",
       "      <td>0.00000</td>\n",
       "      <td>0.000000</td>\n",
       "    </tr>\n",
       "    <tr>\n",
       "      <th>25%</th>\n",
       "      <td>2.000000</td>\n",
       "      <td>3.00000</td>\n",
       "      <td>0.000000</td>\n",
       "      <td>2.000000</td>\n",
       "      <td>18.750000</td>\n",
       "      <td>0.000000</td>\n",
       "      <td>0.00000</td>\n",
       "      <td>0.000000</td>\n",
       "    </tr>\n",
       "    <tr>\n",
       "      <th>50%</th>\n",
       "      <td>4.000000</td>\n",
       "      <td>5.00000</td>\n",
       "      <td>0.500000</td>\n",
       "      <td>3.500000</td>\n",
       "      <td>36.500000</td>\n",
       "      <td>0.500000</td>\n",
       "      <td>1.00000</td>\n",
       "      <td>1.000000</td>\n",
       "    </tr>\n",
       "    <tr>\n",
       "      <th>75%</th>\n",
       "      <td>6.000000</td>\n",
       "      <td>7.00000</td>\n",
       "      <td>1.000000</td>\n",
       "      <td>5.000000</td>\n",
       "      <td>54.250000</td>\n",
       "      <td>1.000000</td>\n",
       "      <td>1.00000</td>\n",
       "      <td>1.000000</td>\n",
       "    </tr>\n",
       "    <tr>\n",
       "      <th>max</th>\n",
       "      <td>7.000000</td>\n",
       "      <td>8.00000</td>\n",
       "      <td>1.000000</td>\n",
       "      <td>6.000000</td>\n",
       "      <td>72.000000</td>\n",
       "      <td>1.000000</td>\n",
       "      <td>1.00000</td>\n",
       "      <td>1.000000</td>\n",
       "    </tr>\n",
       "  </tbody>\n",
       "</table>\n",
       "</div>"
      ],
      "text/plain": [
       "            actor  recipient   condition       block       trial  prosoc_left  \\\n",
       "count  504.000000  252.00000  504.000000  504.000000  504.000000   504.000000   \n",
       "mean     4.000000    5.00000    0.500000    3.500000   36.500000     0.500000   \n",
       "std      2.001987    2.00398    0.500497    1.709522   20.803253     0.500497   \n",
       "min      1.000000    2.00000    0.000000    1.000000    1.000000     0.000000   \n",
       "25%      2.000000    3.00000    0.000000    2.000000   18.750000     0.000000   \n",
       "50%      4.000000    5.00000    0.500000    3.500000   36.500000     0.500000   \n",
       "75%      6.000000    7.00000    1.000000    5.000000   54.250000     1.000000   \n",
       "max      7.000000    8.00000    1.000000    6.000000   72.000000     1.000000   \n",
       "\n",
       "       chose_prosoc  pulled_left  \n",
       "count     504.00000   504.000000  \n",
       "mean        0.56746     0.579365  \n",
       "std         0.49592     0.494151  \n",
       "min         0.00000     0.000000  \n",
       "25%         0.00000     0.000000  \n",
       "50%         1.00000     1.000000  \n",
       "75%         1.00000     1.000000  \n",
       "max         1.00000     1.000000  "
      ]
     },
     "execution_count": 15,
     "metadata": {},
     "output_type": "execute_result"
    }
   ],
   "source": [
    "d.describe()"
   ]
  },
  {
   "cell_type": "code",
   "execution_count": 17,
   "metadata": {},
   "outputs": [
    {
     "name": "stderr",
     "output_type": "stream",
     "text": [
      "sample: 100%|██████████| 12000/12000 [00:06<00:00, 1995.67it/s, 7 steps of size 4.26e-01. acc. prob=0.91]\n"
     ]
    },
    {
     "name": "stdout",
     "output_type": "stream",
     "text": [
      "\n",
      "                    mean       std    median      5.0%     95.0%     n_eff     r_hat\n",
      "alpha_actor[0]     -0.44      0.33     -0.43     -0.98      0.11   2981.42      1.00\n",
      "alpha_actor[1]      3.90      0.75      3.85      2.63      5.05   7967.28      1.00\n",
      "alpha_actor[2]     -0.74      0.34     -0.73     -1.29     -0.19   3073.01      1.00\n",
      "alpha_actor[3]     -0.74      0.34     -0.74     -1.28     -0.17   3036.30      1.00\n",
      "alpha_actor[4]     -0.44      0.33     -0.43     -0.97      0.11   2988.23      1.00\n",
      "alpha_actor[5]      0.49      0.33      0.48     -0.05      1.04   3056.73      1.00\n",
      "alpha_actor[6]      1.97      0.42      1.96      1.29      2.67   4199.00      1.00\n",
      "     beta[0,0]     -0.05      0.28     -0.05     -0.51      0.43   2585.59      1.00\n",
      "     beta[0,1]      0.47      0.29      0.47      0.00      0.94   2595.29      1.00\n",
      "     beta[1,0]     -0.40      0.29     -0.39     -0.86      0.09   2719.74      1.00\n",
      "     beta[1,1]      0.36      0.28      0.36     -0.10      0.82   2683.97      1.00\n",
      "\n",
      "Number of divergences: 0\n"
     ]
    }
   ],
   "source": [
    "def model(actor, condition, prosoc_left, pulled_left):\n",
    "    num_conditions = len(np.unique(condition))\n",
    "    num_actors = len(np.unique(actor))\n",
    "\n",
    "    #alpha = numpyro.sample('alpha', dist.Normal(0,1))\n",
    "    alpha_actor = numpyro.sample('alpha_actor', dist.Normal(0,1.5).expand([num_actors,]))\n",
    "    beta = numpyro.sample('beta', dist.Normal(0,0.5).expand([num_conditions, 2]))\n",
    "    l = alpha_actor[actor] + beta[condition, prosoc_left]\n",
    "    obs = numpyro.sample('obs', dist.BernoulliLogits(l), obs=pulled_left)\n",
    "\n",
    "\n",
    "m11_1 = MCMC(NUTS(model), num_warmup=2000, num_samples=10000)\n",
    "m11_1.run(random.PRNGKey(42), d.actor.values-1, d.condition.values, d.prosoc_left.values, d.pulled_left.values)\n",
    "m11_1.print_summary()\n"
   ]
  },
  {
   "cell_type": "code",
   "execution_count": 26,
   "metadata": {},
   "outputs": [
    {
     "data": {
      "image/png": "[encoded data removed]",
      "text/plain": [
       "<Figure size 432x338.4 with 1 Axes>"
      ]
     },
     "metadata": {
      "needs_background": "light"
     },
     "output_type": "display_data"
    }
   ],
   "source": [
    "post = m11_1.get_samples(group_by_chain=True)\n",
    "p_left = expit(post[\"alpha_actor\"])\n",
    "az.plot_forest({\" \": p_left}, combined=True, hdi_prob=0.89)\n",
    "plt.gca().set(xlim=(-0.01, 1.01))\n",
    "plt.gca().set_ylabel(ylabel ='alpha_actor_prob_pull_left', rotation='vertical')\n",
    "plt.show()"
   ]
  },
  {
   "cell_type": "code",
   "execution_count": 36,
   "metadata": {},
   "outputs": [
    {
     "data": {
      "image/png": "[encoded data removed]",
      "text/plain": [
       "<Figure size 432x316.8 with 1 Axes>"
      ]
     },
     "metadata": {
      "needs_background": "light"
     },
     "output_type": "display_data"
    }
   ],
   "source": [
    "p_left = post[\"beta\"]\n",
    "az.plot_forest({\" \": p_left}, combined=True, hdi_prob=0.89)\n",
    "plt.gca().set_ylabel(ylabel ='beta_prob_pull_left', rotation='vertical')\n",
    "plt.show()"
   ]
  },
  {
   "cell_type": "code",
   "execution_count": 37,
   "metadata": {},
   "outputs": [],
   "source": [
    "diff_right = p_left[...,1,0] - p_left[...,0,0]\n",
    "diff_left = p_left[...,1,1] - p_left[...,0,1]"
   ]
  },
  {
   "cell_type": "code",
   "execution_count": 38,
   "metadata": {},
   "outputs": [
    {
     "data": {
      "text/plain": [
       "array([<AxesSubplot:title={'center':'89.0% HDI'}>], dtype=object)"
      ]
     },
     "execution_count": 38,
     "metadata": {},
     "output_type": "execute_result"
    },
    {
     "data": {
      "image/png": "[encoded data removed]",
      "text/plain": [
       "<Figure size 432x302.4 with 1 Axes>"
      ]
     },
     "metadata": {
      "needs_background": "light"
     },
     "output_type": "display_data"
    }
   ],
   "source": [
    "diff = jnp.stack((diff_right, diff_left), axis=-1)\n",
    "az.plot_forest({\"diff\": diff}, combined=True, hdi_prob=0.89)"
   ]
  },
  {
   "cell_type": "code",
   "execution_count": 33,
   "metadata": {},
   "outputs": [
    {
     "data": {
      "text/plain": [
       "(1, 10000, 2)"
      ]
     },
     "execution_count": 33,
     "metadata": {},
     "output_type": "execute_result"
    }
   ],
   "source": [
    "diff.shape"
   ]
  },
  {
   "cell_type": "code",
   "execution_count": 45,
   "metadata": {},
   "outputs": [
    {
     "data": {
      "text/html": [
       "<div>\n",
       "<style scoped>\n",
       "    .dataframe tbody tr th:only-of-type {\n",
       "        vertical-align: middle;\n",
       "    }\n",
       "\n",
       "    .dataframe tbody tr th {\n",
       "        vertical-align: top;\n",
       "    }\n",
       "\n",
       "    .dataframe thead th {\n",
       "        text-align: right;\n",
       "    }\n",
       "</style>\n",
       "<table border=\"1\" class=\"dataframe\">\n",
       "  <thead>\n",
       "    <tr style=\"text-align: right;\">\n",
       "      <th></th>\n",
       "      <th>actor</th>\n",
       "      <th>condition</th>\n",
       "      <th>prosoc_left</th>\n",
       "      <th>num_trials</th>\n",
       "      <th>pulled_left</th>\n",
       "    </tr>\n",
       "  </thead>\n",
       "  <tbody>\n",
       "    <tr>\n",
       "      <th>0</th>\n",
       "      <td>1</td>\n",
       "      <td>0</td>\n",
       "      <td>0</td>\n",
       "      <td>18</td>\n",
       "      <td>6</td>\n",
       "    </tr>\n",
       "    <tr>\n",
       "      <th>1</th>\n",
       "      <td>1</td>\n",
       "      <td>0</td>\n",
       "      <td>1</td>\n",
       "      <td>18</td>\n",
       "      <td>9</td>\n",
       "    </tr>\n",
       "    <tr>\n",
       "      <th>2</th>\n",
       "      <td>1</td>\n",
       "      <td>1</td>\n",
       "      <td>0</td>\n",
       "      <td>18</td>\n",
       "      <td>5</td>\n",
       "    </tr>\n",
       "    <tr>\n",
       "      <th>3</th>\n",
       "      <td>1</td>\n",
       "      <td>1</td>\n",
       "      <td>1</td>\n",
       "      <td>18</td>\n",
       "      <td>10</td>\n",
       "    </tr>\n",
       "    <tr>\n",
       "      <th>4</th>\n",
       "      <td>2</td>\n",
       "      <td>0</td>\n",
       "      <td>0</td>\n",
       "      <td>18</td>\n",
       "      <td>18</td>\n",
       "    </tr>\n",
       "    <tr>\n",
       "      <th>5</th>\n",
       "      <td>2</td>\n",
       "      <td>0</td>\n",
       "      <td>1</td>\n",
       "      <td>18</td>\n",
       "      <td>18</td>\n",
       "    </tr>\n",
       "    <tr>\n",
       "      <th>6</th>\n",
       "      <td>2</td>\n",
       "      <td>1</td>\n",
       "      <td>0</td>\n",
       "      <td>18</td>\n",
       "      <td>18</td>\n",
       "    </tr>\n",
       "    <tr>\n",
       "      <th>7</th>\n",
       "      <td>2</td>\n",
       "      <td>1</td>\n",
       "      <td>1</td>\n",
       "      <td>18</td>\n",
       "      <td>18</td>\n",
       "    </tr>\n",
       "    <tr>\n",
       "      <th>8</th>\n",
       "      <td>3</td>\n",
       "      <td>0</td>\n",
       "      <td>0</td>\n",
       "      <td>18</td>\n",
       "      <td>5</td>\n",
       "    </tr>\n",
       "    <tr>\n",
       "      <th>9</th>\n",
       "      <td>3</td>\n",
       "      <td>0</td>\n",
       "      <td>1</td>\n",
       "      <td>18</td>\n",
       "      <td>11</td>\n",
       "    </tr>\n",
       "  </tbody>\n",
       "</table>\n",
       "</div>"
      ],
      "text/plain": [
       "   actor  condition  prosoc_left  num_trials  pulled_left\n",
       "0      1          0            0          18            6\n",
       "1      1          0            1          18            9\n",
       "2      1          1            0          18            5\n",
       "3      1          1            1          18           10\n",
       "4      2          0            0          18           18\n",
       "5      2          0            1          18           18\n",
       "6      2          1            0          18           18\n",
       "7      2          1            1          18           18\n",
       "8      3          0            0          18            5\n",
       "9      3          0            1          18           11"
      ]
     },
     "execution_count": 45,
     "metadata": {},
     "output_type": "execute_result"
    }
   ],
   "source": [
    "dd = d[['actor', 'condition', 'prosoc_left', 'pulled_left']].groupby(['actor', 'condition', 'prosoc_left']).agg(\n",
    "    num_trials=pd.NamedAgg(column='actor', aggfunc='count'),\n",
    "    pulled_left=pd.NamedAgg(column='pulled_left', aggfunc='sum'),\n",
    ").reset_index()\n",
    "dd[:10]"
   ]
  },
  {
   "cell_type": "code",
   "execution_count": 46,
   "metadata": {},
   "outputs": [
    {
     "name": "stderr",
     "output_type": "stream",
     "text": [
      "sample: 100%|██████████| 12000/12000 [00:07<00:00, 1676.78it/s, 7 steps of size 4.39e-01. acc. prob=0.90]\n"
     ]
    },
    {
     "name": "stdout",
     "output_type": "stream",
     "text": [
      "\n",
      "                    mean       std    median      5.0%     95.0%     n_eff     r_hat\n",
      "alpha_actor[0]     -0.44      0.33     -0.43     -1.01      0.09   3110.04      1.00\n",
      "alpha_actor[1]      3.90      0.75      3.85      2.66      5.07   8167.88      1.00\n",
      "alpha_actor[2]     -0.74      0.34     -0.74     -1.27     -0.16   3232.98      1.00\n",
      "alpha_actor[3]     -0.74      0.34     -0.74     -1.30     -0.18   3207.16      1.00\n",
      "alpha_actor[4]     -0.44      0.33     -0.44     -0.96      0.13   3057.65      1.00\n",
      "alpha_actor[5]      0.49      0.33      0.48     -0.07      1.03   3133.99      1.00\n",
      "alpha_actor[6]      1.97      0.42      1.96      1.25      2.62   4211.10      1.00\n",
      "     beta[0,0]     -0.05      0.28     -0.05     -0.51      0.43   2686.25      1.00\n",
      "     beta[0,1]      0.47      0.29      0.47     -0.01      0.93   2686.49      1.00\n",
      "     beta[1,0]     -0.39      0.29     -0.39     -0.88      0.07   2752.10      1.00\n",
      "     beta[1,1]      0.36      0.29      0.36     -0.10      0.83   2754.16      1.00\n",
      "\n",
      "Number of divergences: 0\n"
     ]
    }
   ],
   "source": [
    "def model(actor, condition, prosoc_left, num_trials, pulled_left):\n",
    "    num_conditions = len(np.unique(condition))\n",
    "    num_actors = len(np.unique(actor))\n",
    "\n",
    "    #alpha = numpyro.sample('alpha', dist.Normal(0,1))\n",
    "    alpha_actor = numpyro.sample('alpha_actor', dist.Normal(0,1.5).expand([num_actors,]))\n",
    "    beta = numpyro.sample('beta', dist.Normal(0,0.5).expand([num_conditions, 2]))\n",
    "    l = alpha_actor[actor] + beta[condition, prosoc_left]\n",
    "    obs = numpyro.sample('obs', dist.BinomialLogits(l, num_trials), obs=pulled_left)\n",
    "\n",
    "\n",
    "m11_2 = MCMC(NUTS(model), num_warmup=2000, num_samples=10000)\n",
    "m11_2.run(random.PRNGKey(42), dd.actor.values-1, dd.condition.values, dd.prosoc_left.values, dd.num_trials.values, dd.pulled_left.values)\n",
    "m11_2.print_summary()"
   ]
  },
  {
   "cell_type": "code",
   "execution_count": 58,
   "metadata": {},
   "outputs": [],
   "source": [
    "d = pd.read_csv('data/UCBadmit.csv', sep=';')\n",
    "enc = OrdinalEncoder(dtype=np.int16)\n",
    "d[['department', 'gender']] = enc.fit_transform(d[['dept', 'applicant.gender']])"
   ]
  },
  {
   "cell_type": "code",
   "execution_count": 55,
   "metadata": {},
   "outputs": [
    {
     "data": {
      "text/html": [
       "<div>\n",
       "<style scoped>\n",
       "    .dataframe tbody tr th:only-of-type {\n",
       "        vertical-align: middle;\n",
       "    }\n",
       "\n",
       "    .dataframe tbody tr th {\n",
       "        vertical-align: top;\n",
       "    }\n",
       "\n",
       "    .dataframe thead th {\n",
       "        text-align: right;\n",
       "    }\n",
       "</style>\n",
       "<table border=\"1\" class=\"dataframe\">\n",
       "  <thead>\n",
       "    <tr style=\"text-align: right;\">\n",
       "      <th></th>\n",
       "      <th>dept</th>\n",
       "      <th>applicant.gender</th>\n",
       "      <th>admit</th>\n",
       "      <th>reject</th>\n",
       "      <th>applications</th>\n",
       "      <th>department</th>\n",
       "      <th>gender</th>\n",
       "    </tr>\n",
       "  </thead>\n",
       "  <tbody>\n",
       "    <tr>\n",
       "      <th>1</th>\n",
       "      <td>A</td>\n",
       "      <td>male</td>\n",
       "      <td>512</td>\n",
       "      <td>313</td>\n",
       "      <td>825</td>\n",
       "      <td>0.0</td>\n",
       "      <td>1.0</td>\n",
       "    </tr>\n",
       "    <tr>\n",
       "      <th>2</th>\n",
       "      <td>A</td>\n",
       "      <td>female</td>\n",
       "      <td>89</td>\n",
       "      <td>19</td>\n",
       "      <td>108</td>\n",
       "      <td>0.0</td>\n",
       "      <td>0.0</td>\n",
       "    </tr>\n",
       "    <tr>\n",
       "      <th>3</th>\n",
       "      <td>B</td>\n",
       "      <td>male</td>\n",
       "      <td>353</td>\n",
       "      <td>207</td>\n",
       "      <td>560</td>\n",
       "      <td>1.0</td>\n",
       "      <td>1.0</td>\n",
       "    </tr>\n",
       "    <tr>\n",
       "      <th>4</th>\n",
       "      <td>B</td>\n",
       "      <td>female</td>\n",
       "      <td>17</td>\n",
       "      <td>8</td>\n",
       "      <td>25</td>\n",
       "      <td>1.0</td>\n",
       "      <td>0.0</td>\n",
       "    </tr>\n",
       "    <tr>\n",
       "      <th>5</th>\n",
       "      <td>C</td>\n",
       "      <td>male</td>\n",
       "      <td>120</td>\n",
       "      <td>205</td>\n",
       "      <td>325</td>\n",
       "      <td>2.0</td>\n",
       "      <td>1.0</td>\n",
       "    </tr>\n",
       "    <tr>\n",
       "      <th>6</th>\n",
       "      <td>C</td>\n",
       "      <td>female</td>\n",
       "      <td>202</td>\n",
       "      <td>391</td>\n",
       "      <td>593</td>\n",
       "      <td>2.0</td>\n",
       "      <td>0.0</td>\n",
       "    </tr>\n",
       "    <tr>\n",
       "      <th>7</th>\n",
       "      <td>D</td>\n",
       "      <td>male</td>\n",
       "      <td>138</td>\n",
       "      <td>279</td>\n",
       "      <td>417</td>\n",
       "      <td>3.0</td>\n",
       "      <td>1.0</td>\n",
       "    </tr>\n",
       "    <tr>\n",
       "      <th>8</th>\n",
       "      <td>D</td>\n",
       "      <td>female</td>\n",
       "      <td>131</td>\n",
       "      <td>244</td>\n",
       "      <td>375</td>\n",
       "      <td>3.0</td>\n",
       "      <td>0.0</td>\n",
       "    </tr>\n",
       "    <tr>\n",
       "      <th>9</th>\n",
       "      <td>E</td>\n",
       "      <td>male</td>\n",
       "      <td>53</td>\n",
       "      <td>138</td>\n",
       "      <td>191</td>\n",
       "      <td>4.0</td>\n",
       "      <td>1.0</td>\n",
       "    </tr>\n",
       "    <tr>\n",
       "      <th>10</th>\n",
       "      <td>E</td>\n",
       "      <td>female</td>\n",
       "      <td>94</td>\n",
       "      <td>299</td>\n",
       "      <td>393</td>\n",
       "      <td>4.0</td>\n",
       "      <td>0.0</td>\n",
       "    </tr>\n",
       "    <tr>\n",
       "      <th>11</th>\n",
       "      <td>F</td>\n",
       "      <td>male</td>\n",
       "      <td>22</td>\n",
       "      <td>351</td>\n",
       "      <td>373</td>\n",
       "      <td>5.0</td>\n",
       "      <td>1.0</td>\n",
       "    </tr>\n",
       "    <tr>\n",
       "      <th>12</th>\n",
       "      <td>F</td>\n",
       "      <td>female</td>\n",
       "      <td>24</td>\n",
       "      <td>317</td>\n",
       "      <td>341</td>\n",
       "      <td>5.0</td>\n",
       "      <td>0.0</td>\n",
       "    </tr>\n",
       "  </tbody>\n",
       "</table>\n",
       "</div>"
      ],
      "text/plain": [
       "   dept applicant.gender  admit  reject  applications  department  gender\n",
       "1     A             male    512     313           825         0.0     1.0\n",
       "2     A           female     89      19           108         0.0     0.0\n",
       "3     B             male    353     207           560         1.0     1.0\n",
       "4     B           female     17       8            25         1.0     0.0\n",
       "5     C             male    120     205           325         2.0     1.0\n",
       "6     C           female    202     391           593         2.0     0.0\n",
       "7     D             male    138     279           417         3.0     1.0\n",
       "8     D           female    131     244           375         3.0     0.0\n",
       "9     E             male     53     138           191         4.0     1.0\n",
       "10    E           female     94     299           393         4.0     0.0\n",
       "11    F             male     22     351           373         5.0     1.0\n",
       "12    F           female     24     317           341         5.0     0.0"
      ]
     },
     "execution_count": 55,
     "metadata": {},
     "output_type": "execute_result"
    }
   ],
   "source": [
    "d"
   ]
  },
  {
   "cell_type": "code",
   "execution_count": 79,
   "metadata": {},
   "outputs": [
    {
     "name": "stderr",
     "output_type": "stream",
     "text": [
      "sample: 100%|██████████| 12000/12000 [00:06<00:00, 1945.58it/s, 7 steps of size 8.15e-01. acc. prob=0.93]\n"
     ]
    },
    {
     "name": "stdout",
     "output_type": "stream",
     "text": [
      "\n",
      "                     mean       std    median      5.0%     95.0%     n_eff     r_hat\n",
      "alpha_gender[0]     -0.83      0.05     -0.83     -0.91     -0.75   8116.68      1.00\n",
      "alpha_gender[1]     -0.22      0.04     -0.22     -0.28     -0.16   7553.61      1.00\n",
      "\n",
      "Number of divergences: 0\n"
     ]
    }
   ],
   "source": [
    "def model(dept, gender, apps, admits=None):\n",
    "\n",
    "\n",
    "    alpha_gender = numpyro.sample('alpha_gender', dist.Normal(0,1.5).expand([2,]))\n",
    "    l = alpha_gender[gender]\n",
    "    obs = numpyro.sample('obs', dist.BinomialLogits(l, apps), obs=admits)\n",
    "\n",
    "\n",
    "m11_3 = MCMC(NUTS(model), num_warmup=2000, num_samples=10000)\n",
    "m11_3.run(random.PRNGKey(42), d.department.values, d.gender.values, d.applications.values, d.admit.values )\n",
    "m11_3.print_summary()"
   ]
  },
  {
   "cell_type": "code",
   "execution_count": 60,
   "metadata": {},
   "outputs": [],
   "source": [
    "az11_3 = az.from_numpyro(m11_3)"
   ]
  },
  {
   "cell_type": "code",
   "execution_count": 65,
   "metadata": {},
   "outputs": [
    {
     "data": {
      "text/plain": [
       "array([<AxesSubplot:title={'center':'94.0% HDI'}>], dtype=object)"
      ]
     },
     "execution_count": 65,
     "metadata": {},
     "output_type": "execute_result"
    },
    {
     "data": {
      "image/png": "[encoded data removed]",
      "text/plain": [
       "<Figure size 432x302.4 with 1 Axes>"
      ]
     },
     "metadata": {
      "needs_background": "light"
     },
     "output_type": "display_data"
    }
   ],
   "source": [
    "az.plot_forest(az11_3)"
   ]
  },
  {
   "cell_type": "code",
   "execution_count": 75,
   "metadata": {},
   "outputs": [],
   "source": [
    "post = az11_3['posterior'].stack(sample=(\"chain\", \"draw\"))\n",
    "alpha_male = post.alpha_gender[1,:]\n",
    "alpha_female = post.alpha_gender[0,:]\n",
    "abs_diff = expit(alpha_male) - expit(alpha_female)\n",
    "rel_diff = alpha_male - alpha_female\n"
   ]
  },
  {
   "cell_type": "code",
   "execution_count": 77,
   "metadata": {},
   "outputs": [
    {
     "data": {
      "image/png": "[encoded data removed]",
      "text/plain": [
       "<Figure size 432x288 with 1 Axes>"
      ]
     },
     "metadata": {
      "needs_background": "light"
     },
     "output_type": "display_data"
    }
   ],
   "source": [
    "_ = plt.hist(abs_diff, bins=50)"
   ]
  },
  {
   "cell_type": "code",
   "execution_count": 78,
   "metadata": {},
   "outputs": [
    {
     "data": {
      "image/png": "[encoded data removed]",
      "text/plain": [
       "<Figure size 432x288 with 1 Axes>"
      ]
     },
     "metadata": {
      "needs_background": "light"
     },
     "output_type": "display_data"
    }
   ],
   "source": [
    "_ = plt.hist(rel_diff, bins=50)"
   ]
  },
  {
   "cell_type": "code",
   "execution_count": 89,
   "metadata": {},
   "outputs": [],
   "source": [
    "# pred vs actual\n",
    "post_samples = m11_3.get_samples()\n",
    "pred = Predictive(model = m11_3.sampler.model, posterior_samples=post_samples)(random.PRNGKey(2), d.department.values, d.gender.values, d.applications.values)['obs']\n",
    "admit_rate = pred / d.applications.values"
   ]
  },
  {
   "cell_type": "code",
   "execution_count": 93,
   "metadata": {},
   "outputs": [
    {
     "data": {
      "text/plain": [
       "<matplotlib.collections.PathCollection at 0x7f57c85a6340>"
      ]
     },
     "execution_count": 93,
     "metadata": {},
     "output_type": "execute_result"
    },
    {
     "data": {
      "image/png": "[encoded data removed]",
      "text/plain": [
       "<Figure size 432x288 with 1 Axes>"
      ]
     },
     "metadata": {
      "needs_background": "light"
     },
     "output_type": "display_data"
    }
   ],
   "source": [
    "plt.errorbar(range(12), admit_rate.mean(axis=0), admit_rate.std(axis=0), fmt=\"o\",\n",
    "    c=\"k\",\n",
    "    mfc=\"none\",\n",
    "    ms=7,\n",
    "    elinewidth=1,)\n",
    "plt.scatter(range(12), d.admit/d.applications)"
   ]
  },
  {
   "cell_type": "code",
   "execution_count": 104,
   "metadata": {},
   "outputs": [
    {
     "data": {
      "text/plain": [
       "6"
      ]
     },
     "execution_count": 104,
     "metadata": {},
     "output_type": "execute_result"
    }
   ],
   "source": [
    "dept_id = jnp.repeat(jnp.arange(6), 2)\n",
    "dept_id\n",
    "len(jnp.unique(dept_id))"
   ]
  },
  {
   "cell_type": "code",
   "execution_count": 109,
   "metadata": {},
   "outputs": [
    {
     "name": "stderr",
     "output_type": "stream",
     "text": [
      "sample: 100%|██████████| 12000/12000 [00:05<00:00, 2163.10it/s, 79 steps of size 6.12e-02. acc. prob=0.90]\n"
     ]
    },
    {
     "name": "stdout",
     "output_type": "stream",
     "text": [
      "\n",
      "                     mean       std    median      5.0%     95.0%     n_eff     r_hat\n",
      "  alpha_dept[0]      1.09      0.54      1.10      0.19      1.98    795.64      1.00\n",
      "  alpha_dept[1]      1.04      0.54      1.05      0.16      1.94    801.46      1.00\n",
      "  alpha_dept[2]     -0.17      0.54     -0.17     -1.05      0.74    794.28      1.00\n",
      "  alpha_dept[3]     -0.21      0.54     -0.20     -1.08      0.69    788.45      1.00\n",
      "  alpha_dept[4]     -0.65      0.54     -0.64     -1.55      0.24    795.22      1.00\n",
      "  alpha_dept[5]     -2.21      0.56     -2.20     -3.12     -1.27    837.96      1.00\n",
      "alpha_gender[0]     -0.41      0.54     -0.42     -1.31      0.47    789.37      1.00\n",
      "alpha_gender[1]     -0.51      0.54     -0.52     -1.42      0.36    784.72      1.00\n",
      "\n",
      "Number of divergences: 0\n"
     ]
    }
   ],
   "source": [
    "def model(dept, gender, apps, admits=None):\n",
    "\n",
    "    alpha_gender = numpyro.sample('alpha_gender', dist.Normal(0,1.5).expand([2]))\n",
    "    alpha_dept = numpyro.sample('alpha_dept', dist.Normal(0,1.5).expand([6]))\n",
    "    l = alpha_gender[gender] + alpha_dept[dept]\n",
    "    obs = numpyro.sample('obs', dist.BinomialLogits(l, apps), obs=admits)\n",
    "    \n",
    "m11_3 = MCMC(NUTS(model), num_warmup=2000, num_samples=10000)\n",
    "m11_3.run(random.PRNGKey(42), dept_id, d.gender.values, d.applications.values, d.admit.values )\n",
    "m11_3.print_summary()\n"
   ]
  },
  {
   "cell_type": "code",
   "execution_count": 112,
   "metadata": {},
   "outputs": [
    {
     "data": {
      "text/plain": [
       "array([<AxesSubplot:title={'center':'89.0% HDI'}>], dtype=object)"
      ]
     },
     "execution_count": 112,
     "metadata": {},
     "output_type": "execute_result"
    },
    {
     "data": {
      "image/png": "[encoded data removed]",
      "text/plain": [
       "<Figure size 432x417.6 with 1 Axes>"
      ]
     },
     "metadata": {
      "needs_background": "light"
     },
     "output_type": "display_data"
    }
   ],
   "source": [
    "post = m11_3.get_samples()\n",
    "az.plot_forest(m11_3, hdi_prob=0.89)"
   ]
  },
  {
   "cell_type": "code",
   "execution_count": 115,
   "metadata": {},
   "outputs": [],
   "source": [
    "d = pd.read_csv('data/Kline.csv', sep=';')"
   ]
  },
  {
   "cell_type": "code",
   "execution_count": 123,
   "metadata": {},
   "outputs": [
    {
     "data": {
      "text/html": [
       "<div>\n",
       "<style scoped>\n",
       "    .dataframe tbody tr th:only-of-type {\n",
       "        vertical-align: middle;\n",
       "    }\n",
       "\n",
       "    .dataframe tbody tr th {\n",
       "        vertical-align: top;\n",
       "    }\n",
       "\n",
       "    .dataframe thead th {\n",
       "        text-align: right;\n",
       "    }\n",
       "</style>\n",
       "<table border=\"1\" class=\"dataframe\">\n",
       "  <thead>\n",
       "    <tr style=\"text-align: right;\">\n",
       "      <th></th>\n",
       "      <th>culture</th>\n",
       "      <th>population</th>\n",
       "      <th>contact</th>\n",
       "      <th>total_tools</th>\n",
       "      <th>mean_TU</th>\n",
       "      <th>log_pop</th>\n",
       "      <th>contact_ind</th>\n",
       "    </tr>\n",
       "  </thead>\n",
       "  <tbody>\n",
       "    <tr>\n",
       "      <th>0</th>\n",
       "      <td>Malekula</td>\n",
       "      <td>1100</td>\n",
       "      <td>low</td>\n",
       "      <td>13</td>\n",
       "      <td>3.2</td>\n",
       "      <td>7.003065</td>\n",
       "      <td>1</td>\n",
       "    </tr>\n",
       "    <tr>\n",
       "      <th>1</th>\n",
       "      <td>Tikopia</td>\n",
       "      <td>1500</td>\n",
       "      <td>low</td>\n",
       "      <td>22</td>\n",
       "      <td>4.7</td>\n",
       "      <td>7.313220</td>\n",
       "      <td>1</td>\n",
       "    </tr>\n",
       "    <tr>\n",
       "      <th>2</th>\n",
       "      <td>Santa Cruz</td>\n",
       "      <td>3600</td>\n",
       "      <td>low</td>\n",
       "      <td>24</td>\n",
       "      <td>4.0</td>\n",
       "      <td>8.188689</td>\n",
       "      <td>1</td>\n",
       "    </tr>\n",
       "    <tr>\n",
       "      <th>3</th>\n",
       "      <td>Yap</td>\n",
       "      <td>4791</td>\n",
       "      <td>high</td>\n",
       "      <td>43</td>\n",
       "      <td>5.0</td>\n",
       "      <td>8.474494</td>\n",
       "      <td>0</td>\n",
       "    </tr>\n",
       "    <tr>\n",
       "      <th>4</th>\n",
       "      <td>Lau Fiji</td>\n",
       "      <td>7400</td>\n",
       "      <td>high</td>\n",
       "      <td>33</td>\n",
       "      <td>5.0</td>\n",
       "      <td>8.909235</td>\n",
       "      <td>0</td>\n",
       "    </tr>\n",
       "    <tr>\n",
       "      <th>5</th>\n",
       "      <td>Trobriand</td>\n",
       "      <td>8000</td>\n",
       "      <td>high</td>\n",
       "      <td>19</td>\n",
       "      <td>4.0</td>\n",
       "      <td>8.987197</td>\n",
       "      <td>0</td>\n",
       "    </tr>\n",
       "    <tr>\n",
       "      <th>6</th>\n",
       "      <td>Chuuk</td>\n",
       "      <td>9200</td>\n",
       "      <td>high</td>\n",
       "      <td>40</td>\n",
       "      <td>3.8</td>\n",
       "      <td>9.126959</td>\n",
       "      <td>0</td>\n",
       "    </tr>\n",
       "    <tr>\n",
       "      <th>7</th>\n",
       "      <td>Manus</td>\n",
       "      <td>13000</td>\n",
       "      <td>low</td>\n",
       "      <td>28</td>\n",
       "      <td>6.6</td>\n",
       "      <td>9.472705</td>\n",
       "      <td>1</td>\n",
       "    </tr>\n",
       "    <tr>\n",
       "      <th>8</th>\n",
       "      <td>Tonga</td>\n",
       "      <td>17500</td>\n",
       "      <td>high</td>\n",
       "      <td>55</td>\n",
       "      <td>5.4</td>\n",
       "      <td>9.769956</td>\n",
       "      <td>0</td>\n",
       "    </tr>\n",
       "    <tr>\n",
       "      <th>9</th>\n",
       "      <td>Hawaii</td>\n",
       "      <td>275000</td>\n",
       "      <td>low</td>\n",
       "      <td>71</td>\n",
       "      <td>6.6</td>\n",
       "      <td>12.524526</td>\n",
       "      <td>1</td>\n",
       "    </tr>\n",
       "  </tbody>\n",
       "</table>\n",
       "</div>"
      ],
      "text/plain": [
       "      culture  population contact  total_tools  mean_TU    log_pop  \\\n",
       "0    Malekula        1100     low           13      3.2   7.003065   \n",
       "1     Tikopia        1500     low           22      4.7   7.313220   \n",
       "2  Santa Cruz        3600     low           24      4.0   8.188689   \n",
       "3         Yap        4791    high           43      5.0   8.474494   \n",
       "4    Lau Fiji        7400    high           33      5.0   8.909235   \n",
       "5   Trobriand        8000    high           19      4.0   8.987197   \n",
       "6       Chuuk        9200    high           40      3.8   9.126959   \n",
       "7       Manus       13000     low           28      6.6   9.472705   \n",
       "8       Tonga       17500    high           55      5.4   9.769956   \n",
       "9      Hawaii      275000     low           71      6.6  12.524526   \n",
       "\n",
       "   contact_ind  \n",
       "0            1  \n",
       "1            1  \n",
       "2            1  \n",
       "3            0  \n",
       "4            0  \n",
       "5            0  \n",
       "6            0  \n",
       "7            1  \n",
       "8            0  \n",
       "9            1  "
      ]
     },
     "execution_count": 123,
     "metadata": {},
     "output_type": "execute_result"
    }
   ],
   "source": [
    "d"
   ]
  },
  {
   "cell_type": "code",
   "execution_count": 122,
   "metadata": {},
   "outputs": [],
   "source": [
    "d['log_pop'] = np.log(d['population'])\n",
    "d['contact_ind'] = enc.fit_transform(d['contact'].values.reshape(-1,1))\n"
   ]
  },
  {
   "cell_type": "code",
   "execution_count": 130,
   "metadata": {},
   "outputs": [
    {
     "name": "stderr",
     "output_type": "stream",
     "text": [
      "sample: 100%|██████████| 12000/12000 [00:05<00:00, 2306.20it/s, 7 steps of size 9.70e-02. acc. prob=0.94] \n"
     ]
    },
    {
     "name": "stdout",
     "output_type": "stream",
     "text": [
      "\n",
      "                  mean       std    median      5.0%     95.0%     n_eff     r_hat\n",
      "a_contact[0]      2.82      0.46      2.83      2.06      3.56   3979.08      1.00\n",
      "a_contact[1]      1.68      0.29      1.69      1.21      2.14   3831.33      1.00\n",
      " b_logpop[0]      0.09      0.05      0.09      0.01      0.17   3925.07      1.00\n",
      " b_logpop[1]      0.19      0.03      0.19      0.15      0.24   3807.85      1.00\n",
      "\n",
      "Number of divergences: 0\n"
     ]
    }
   ],
   "source": [
    "def model(contact_ind, log_pop, total_tools=None):\n",
    "\n",
    "    a_contact = numpyro.sample('a_contact', dist.Normal(3,0.5).expand([2]))\n",
    "    b_contact_logpop = numpyro.sample('b_logpop', dist.Normal(0,0.2).expand([2]))\n",
    "    log_expected = a_contact[contact_ind] + b_contact_logpop[contact_ind]*log_pop\n",
    "    obs = numpyro.sample('obs', dist.Poisson(jnp.exp(log_expected)), obs=total_tools)\n",
    "    \n",
    "m11_4 = MCMC(NUTS(model), num_warmup=2000, num_samples=10000)\n",
    "m11_4.run(random.PRNGKey(42), d.contact_ind.values, d.log_pop.values, d.total_tools.values )\n",
    "m11_4.print_summary()"
   ]
  },
  {
   "cell_type": "code",
   "execution_count": 132,
   "metadata": {},
   "outputs": [
    {
     "data": {
      "text/plain": [
       "array([<AxesSubplot:title={'center':'89.0% HDI'}>], dtype=object)"
      ]
     },
     "execution_count": 132,
     "metadata": {},
     "output_type": "execute_result"
    },
    {
     "data": {
      "image/png": "[encoded data removed]",
      "text/plain": [
       "<Figure size 432x388.8 with 1 Axes>"
      ]
     },
     "metadata": {
      "needs_background": "light"
     },
     "output_type": "display_data"
    }
   ],
   "source": [
    "az.plot_forest(m11_4, hdi_prob=0.89)"
   ]
  },
  {
   "cell_type": "code",
   "execution_count": 141,
   "metadata": {},
   "outputs": [
    {
     "data": {
      "text/plain": [
       "array([[0.7194029092788696, 'Malekula'],\n",
       "       [0.024715078994631767, 'Tikopia'],\n",
       "       [0.05312381684780121, 'Santa Cruz'],\n",
       "       [0.28341051936149597, 'Yap'],\n",
       "       [0.12398253381252289, 'Lau Fiji'],\n",
       "       [1.8382948637008667, 'Trobriand'],\n",
       "       [0.037042561918497086, 'Chuuk'],\n",
       "       [0.1950041800737381, 'Manus'],\n",
       "       [1.538270354270935, 'Tonga'],\n",
       "       [1.8349541425704956, 'Hawaii']], dtype=object)"
      ]
     },
     "execution_count": 141,
     "metadata": {},
     "output_type": "execute_result"
    }
   ],
   "source": [
    "# check for influential points using WAIC pointwise penalty, which is the variance of the logprobs across the posterier samples for each y datapoint\n",
    "logprob = log_likelihood(model, m11_4.get_samples(), d.contact_ind.values, d.log_pop.values, d.total_tools.values )[\"obs\"]\n",
    "penalty = logprob.var(axis=0)\n",
    "np.array([ penalty, d.culture.values ]).T"
   ]
  },
  {
   "cell_type": "code",
   "execution_count": null,
   "metadata": {},
   "outputs": [],
   "source": []
  },
  {
   "cell_type": "code",
   "execution_count": null,
   "metadata": {},
   "outputs": [],
   "source": []
  },
  {
   "cell_type": "code",
   "execution_count": null,
   "metadata": {},
   "outputs": [],
   "source": []
  }
 ],
 "metadata": {
  "interpreter": {
   "hash": "0789b99f4adc99188d8b4faac15be0fb9c8374a560d4c08f7e9a557c45f5c72c"
  },
  "kernelspec": {
   "display_name": "Python 3.8.10 64-bit ('venv': venv)",
   "language": "python",
   "name": "python3"
  },
  "language_info": {
   "codemirror_mode": {
    "name": "ipython",
    "version": 3
   },
   "file_extension": ".py",
   "mimetype": "text/x-python",
   "name": "python",
   "nbconvert_exporter": "python",
   "pygments_lexer": "ipython3",
   "version": "3.8.10"
  },
  "orig_nbformat": 4
 },
 "nbformat": 4,
 "nbformat_minor": 2
}
