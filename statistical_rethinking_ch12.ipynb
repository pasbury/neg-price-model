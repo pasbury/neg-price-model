{
 "cells": [
  {
   "cell_type": "code",
   "execution_count": 2,
   "metadata": {},
   "outputs": [
    {
     "name": "stderr",
     "output_type": "stream",
     "text": [
      "/home/pasbury/neg-price-model/venv/lib/python3.8/site-packages/jax/experimental/optimizers.py:28: FutureWarning: jax.experimental.optimizers is deprecated, import jax.example_libraries.optimizers instead\n",
      "  warnings.warn('jax.experimental.optimizers is deprecated, '\n",
      "/home/pasbury/neg-price-model/venv/lib/python3.8/site-packages/jax/experimental/stax.py:28: FutureWarning: jax.experimental.stax is deprecated, import jax.example_libraries.stax instead\n",
      "  warnings.warn('jax.experimental.stax is deprecated, '\n"
     ]
    }
   ],
   "source": [
    "import numpy as np\n",
    "import numpyro\n",
    "import numpyro.distributions as dist\n",
    "from numpyro.infer.reparam import TransformReparam, LocScaleReparam\n",
    "from numpyro.distributions.transforms import AffineTransform, OrderedTransform\n",
    "from numpyro.infer import MCMC, NUTS, Predictive, SVI, Trace_ELBO, log_likelihood\n",
    "from numpyro.infer.autoguide import AutoLaplaceApproximation\n",
    "import numpyro.optim as optim\n",
    "from numpyro import handlers\n",
    "from numpyro.handlers import mask\n",
    "import jax\n",
    "from jax.numpy import DeviceArray\n",
    "import jax.numpy as jnp\n",
    "from jax import random, lax\n",
    "from jax import nn as jnn\n",
    "from jax.scipy.special import expit\n",
    "import pandas as pd\n",
    "import matplotlib.pyplot as plt\n",
    "import arviz as az\n",
    "from sklearn.neighbors import KNeighborsRegressor\n",
    "from sklearn.model_selection import GridSearchCV\n",
    "from sklearn.model_selection import train_test_split\n",
    "from sklearn.metrics import r2_score, roc_auc_score\n",
    "from sklearn.preprocessing import StandardScaler, OrdinalEncoder"
   ]
  },
  {
   "cell_type": "code",
   "execution_count": 3,
   "metadata": {},
   "outputs": [],
   "source": [
    "d = pd.read_csv('data/Trolley.csv', sep=';')"
   ]
  },
  {
   "cell_type": "code",
   "execution_count": 4,
   "metadata": {},
   "outputs": [
    {
     "data": {
      "text/html": [
       "<div>\n",
       "<style scoped>\n",
       "    .dataframe tbody tr th:only-of-type {\n",
       "        vertical-align: middle;\n",
       "    }\n",
       "\n",
       "    .dataframe tbody tr th {\n",
       "        vertical-align: top;\n",
       "    }\n",
       "\n",
       "    .dataframe thead th {\n",
       "        text-align: right;\n",
       "    }\n",
       "</style>\n",
       "<table border=\"1\" class=\"dataframe\">\n",
       "  <thead>\n",
       "    <tr style=\"text-align: right;\">\n",
       "      <th></th>\n",
       "      <th>case</th>\n",
       "      <th>response</th>\n",
       "      <th>order</th>\n",
       "      <th>id</th>\n",
       "      <th>age</th>\n",
       "      <th>male</th>\n",
       "      <th>edu</th>\n",
       "      <th>action</th>\n",
       "      <th>intention</th>\n",
       "      <th>contact</th>\n",
       "      <th>story</th>\n",
       "      <th>action2</th>\n",
       "    </tr>\n",
       "  </thead>\n",
       "  <tbody>\n",
       "    <tr>\n",
       "      <th>9509</th>\n",
       "      <td>nfrub</td>\n",
       "      <td>4</td>\n",
       "      <td>26</td>\n",
       "      <td>98;087</td>\n",
       "      <td>45</td>\n",
       "      <td>0</td>\n",
       "      <td>Some College</td>\n",
       "      <td>1</td>\n",
       "      <td>0</td>\n",
       "      <td>0</td>\n",
       "      <td>rub</td>\n",
       "      <td>1</td>\n",
       "    </tr>\n",
       "    <tr>\n",
       "      <th>3660</th>\n",
       "      <td>cfaqu</td>\n",
       "      <td>6</td>\n",
       "      <td>2</td>\n",
       "      <td>97;145</td>\n",
       "      <td>27</td>\n",
       "      <td>1</td>\n",
       "      <td>Some College</td>\n",
       "      <td>0</td>\n",
       "      <td>0</td>\n",
       "      <td>1</td>\n",
       "      <td>aqu</td>\n",
       "      <td>1</td>\n",
       "    </tr>\n",
       "    <tr>\n",
       "      <th>8404</th>\n",
       "      <td>cibur</td>\n",
       "      <td>4</td>\n",
       "      <td>29</td>\n",
       "      <td>97;871</td>\n",
       "      <td>39</td>\n",
       "      <td>1</td>\n",
       "      <td>Bachelor's Degree</td>\n",
       "      <td>0</td>\n",
       "      <td>1</td>\n",
       "      <td>1</td>\n",
       "      <td>bur</td>\n",
       "      <td>1</td>\n",
       "    </tr>\n",
       "    <tr>\n",
       "      <th>6349</th>\n",
       "      <td>ikbur</td>\n",
       "      <td>2</td>\n",
       "      <td>20</td>\n",
       "      <td>97;622</td>\n",
       "      <td>67</td>\n",
       "      <td>1</td>\n",
       "      <td>Graduate Degree</td>\n",
       "      <td>1</td>\n",
       "      <td>1</td>\n",
       "      <td>0</td>\n",
       "      <td>bur</td>\n",
       "      <td>1</td>\n",
       "    </tr>\n",
       "    <tr>\n",
       "      <th>6388</th>\n",
       "      <td>ilswi</td>\n",
       "      <td>6</td>\n",
       "      <td>18</td>\n",
       "      <td>97;624</td>\n",
       "      <td>44</td>\n",
       "      <td>1</td>\n",
       "      <td>Bachelor's Degree</td>\n",
       "      <td>0</td>\n",
       "      <td>1</td>\n",
       "      <td>0</td>\n",
       "      <td>swi</td>\n",
       "      <td>0</td>\n",
       "    </tr>\n",
       "  </tbody>\n",
       "</table>\n",
       "</div>"
      ],
      "text/plain": [
       "       case  response  order      id  age  male                edu  action  \\\n",
       "9509  nfrub         4     26  98;087   45     0       Some College       1   \n",
       "3660  cfaqu         6      2  97;145   27     1       Some College       0   \n",
       "8404  cibur         4     29  97;871   39     1  Bachelor's Degree       0   \n",
       "6349  ikbur         2     20  97;622   67     1    Graduate Degree       1   \n",
       "6388  ilswi         6     18  97;624   44     1  Bachelor's Degree       0   \n",
       "\n",
       "      intention  contact story  action2  \n",
       "9509          0        0   rub        1  \n",
       "3660          0        1   aqu        1  \n",
       "8404          1        1   bur        1  \n",
       "6349          1        0   bur        1  \n",
       "6388          1        0   swi        0  "
      ]
     },
     "execution_count": 4,
     "metadata": {},
     "output_type": "execute_result"
    }
   ],
   "source": [
    "d.sample(5)"
   ]
  },
  {
   "cell_type": "code",
   "execution_count": 5,
   "metadata": {},
   "outputs": [
    {
     "data": {
      "text/plain": [
       "<AxesSubplot:>"
      ]
     },
     "execution_count": 5,
     "metadata": {},
     "output_type": "execute_result"
    },
    {
     "data": {
      "image/png": "[encoded data removed]",
      "text/plain": [
       "<Figure size 432x288 with 1 Axes>"
      ]
     },
     "metadata": {
      "needs_background": "light"
     },
     "output_type": "display_data"
    }
   ],
   "source": [
    "d['response'].hist(bins=7)"
   ]
  },
  {
   "cell_type": "code",
   "execution_count": 6,
   "metadata": {},
   "outputs": [
    {
     "data": {
      "text/plain": [
       "[<matplotlib.lines.Line2D at 0x7ff3f7ee20d0>]"
      ]
     },
     "execution_count": 6,
     "metadata": {},
     "output_type": "execute_result"
    },
    {
     "data": {
      "image/png": "[encoded data removed]",
      "text/plain": [
       "<Figure size 432x288 with 1 Axes>"
      ]
     },
     "metadata": {
      "needs_background": "light"
     },
     "output_type": "display_data"
    }
   ],
   "source": [
    "cum_prob = d['response'].value_counts().sort_index().cumsum() / d['response'].count()\n",
    "plt.plot(cum_prob)"
   ]
  },
  {
   "cell_type": "code",
   "execution_count": 10,
   "metadata": {},
   "outputs": [
    {
     "name": "stdout",
     "output_type": "stream",
     "text": [
      "cutpoint values:  1   -1.916091\n",
      "2   -1.266606\n",
      "3   -0.718634\n",
      "4    0.247786\n",
      "5    0.889864\n",
      "6    1.769381\n",
      "7         inf\n",
      "Name: response, dtype: float64\n"
     ]
    },
    {
     "data": {
      "text/plain": [
       "[<matplotlib.lines.Line2D at 0x7ff3b8592310>]"
      ]
     },
     "execution_count": 10,
     "metadata": {},
     "output_type": "execute_result"
    },
    {
     "data": {
      "image/png": "[encoded data removed]",
      "text/plain": [
       "<Figure size 432x288 with 1 Axes>"
      ]
     },
     "metadata": {
      "needs_background": "light"
     },
     "output_type": "display_data"
    }
   ],
   "source": [
    "ak = np.log(cum_prob/(1-cum_prob))\n",
    "print('cutpoint values: ',ak)\n",
    "plt.plot(ak)"
   ]
  },
  {
   "cell_type": "code",
   "execution_count": 8,
   "metadata": {},
   "outputs": [],
   "source": [
    "def model(y):\n",
    "    cutpoints = numpyro.sample(\n",
    "        \"cutpoints\",\n",
    "        dist.TransformedDistribution(\n",
    "            dist.Normal(0, 1.5).expand([6]), OrderedTransform()\n",
    "        ),\n",
    "    )\n",
    "    response = numpyro.sample('response', dist.OrderedLogistic(0, cutpoints), obs=y)"
   ]
  },
  {
   "cell_type": "code",
   "execution_count": 9,
   "metadata": {},
   "outputs": [
    {
     "name": "stderr",
     "output_type": "stream",
     "text": [
      "sample: 100%|██████████| 1000/1000 [00:03<00:00, 304.42it/s, 3 steps of size 4.05e-01. acc. prob=0.93]\n"
     ]
    },
    {
     "name": "stdout",
     "output_type": "stream",
     "text": [
      "\n",
      "                  mean       std    median      5.0%     95.0%     n_eff     r_hat\n",
      "cutpoints[0]     -1.92      0.03     -1.92     -1.97     -1.86    383.46      1.00\n",
      "cutpoints[1]     -1.27      0.02     -1.27     -1.30     -1.22    490.99      1.00\n",
      "cutpoints[2]     -0.72      0.02     -0.72     -0.76     -0.69    454.52      1.00\n",
      "cutpoints[3]      0.25      0.02      0.25      0.22      0.28    510.31      1.00\n",
      "cutpoints[4]      0.89      0.02      0.89      0.86      0.93    517.06      1.00\n",
      "cutpoints[5]      1.77      0.03      1.77      1.73      1.82    585.34      1.00\n",
      "\n",
      "Number of divergences: 0\n"
     ]
    }
   ],
   "source": [
    "m12_4 = MCMC(NUTS(model), num_warmup=500, num_samples=500)\n",
    "m12_4.run(random.PRNGKey(0), y=d.response.values - 1)\n",
    "m12_4.print_summary()"
   ]
  },
  {
   "cell_type": "code",
   "execution_count": 11,
   "metadata": {},
   "outputs": [],
   "source": [
    "post = m12_4.get_samples()"
   ]
  },
  {
   "cell_type": "code",
   "execution_count": 16,
   "metadata": {},
   "outputs": [],
   "source": [
    "cp_mean = post['cutpoints'].mean(axis=0)\n",
    "cum_prob = expit(cp_mean)"
   ]
  },
  {
   "cell_type": "code",
   "execution_count": 17,
   "metadata": {},
   "outputs": [
    {
     "data": {
      "text/plain": [
       "DeviceArray([0.1283588 , 0.22004355, 0.32802457, 0.56201154, 0.70925593,\n",
       "             0.85450315], dtype=float32)"
      ]
     },
     "execution_count": 17,
     "metadata": {},
     "output_type": "execute_result"
    }
   ],
   "source": [
    "cum_prob"
   ]
  },
  {
   "cell_type": "code",
   "execution_count": null,
   "metadata": {},
   "outputs": [],
   "source": []
  },
  {
   "cell_type": "code",
   "execution_count": 18,
   "metadata": {},
   "outputs": [
    {
     "data": {
      "text/plain": [
       "action  intention  contact\n",
       "1       0          0          2648\n",
       "0       1          0          1986\n",
       "        0          0          1655\n",
       "1       1          0          1655\n",
       "0       0          1           993\n",
       "        1          1           993\n",
       "dtype: int64"
      ]
     },
     "execution_count": 18,
     "metadata": {},
     "output_type": "execute_result"
    }
   ],
   "source": [
    "d.groupby(['action', 'intention', 'contact']).size().loc[lambda x: x>0].sort_values(ascending=False)"
   ]
  },
  {
   "cell_type": "code",
   "execution_count": 21,
   "metadata": {},
   "outputs": [
    {
     "name": "stderr",
     "output_type": "stream",
     "text": [
      "sample: 100%|██████████| 1000/1000 [00:18<00:00, 52.78it/s, 15 steps of size 2.43e-01. acc. prob=0.92]\n"
     ]
    },
    {
     "name": "stdout",
     "output_type": "stream",
     "text": [
      "\n",
      "                  mean       std    median      5.0%     95.0%     n_eff     r_hat\n",
      "         b_a     -0.47      0.06     -0.47     -0.56     -0.38    225.74      1.00\n",
      "        b_ai     -0.45      0.08     -0.45     -0.58     -0.32    240.70      1.00\n",
      "         b_c     -0.33      0.07     -0.33     -0.44     -0.21    271.40      1.00\n",
      "        b_ci     -1.27      0.10     -1.27     -1.41     -1.10    368.00      1.00\n",
      "         b_i     -0.28      0.06     -0.28     -0.39     -0.19    253.10      1.00\n",
      "cutpoints[0]     -2.63      0.05     -2.63     -2.72     -2.55    250.92      1.00\n",
      "cutpoints[1]     -1.94      0.05     -1.93     -2.01     -1.86    240.02      1.00\n",
      "cutpoints[2]     -1.34      0.05     -1.34     -1.43     -1.28    248.64      1.00\n",
      "cutpoints[3]     -0.31      0.05     -0.31     -0.39     -0.24    263.76      1.00\n",
      "cutpoints[4]      0.36      0.05      0.36      0.29      0.44    279.61      1.00\n",
      "cutpoints[5]      1.27      0.05      1.27      1.20      1.36    325.27      1.00\n",
      "\n",
      "Number of divergences: 0\n"
     ]
    }
   ],
   "source": [
    "def model(a, c, i, y):\n",
    "    cutpoints = numpyro.sample(\n",
    "        \"cutpoints\",\n",
    "        dist.TransformedDistribution(\n",
    "            dist.Normal(0, 1.5).expand([6]), OrderedTransform()\n",
    "        ),\n",
    "    )\n",
    "    b_a = numpyro.sample(\"b_a\", dist.Normal(0, 1.5))\n",
    "    b_c = numpyro.sample(\"b_c\", dist.Normal(0, 1.5))\n",
    "    b_i = numpyro.sample(\"b_i\", dist.Normal(0, 1.5))\n",
    "    b_ai = numpyro.sample(\"b_ai\", dist.Normal(0, 1.5))\n",
    "    b_ci = numpyro.sample(\"b_ci\", dist.Normal(0, 1.5))\n",
    "    beta = b_i + b_ai*a + b_ci*c\n",
    "    phi = b_a*a + b_c*c +beta*i\n",
    "    response = numpyro.sample('response', dist.OrderedLogistic(phi, cutpoints), obs=y)\n",
    "m12_5 = MCMC(NUTS(model), num_warmup=500, num_samples=500)\n",
    "m12_5.run(random.PRNGKey(0), a=d.action.values, c=d.contact.values, i=d.intention.values, y=d.response.values - 1)\n",
    "m12_5.print_summary()"
   ]
  },
  {
   "cell_type": "code",
   "execution_count": 26,
   "metadata": {},
   "outputs": [
    {
     "data": {
      "text/plain": [
       "array([<AxesSubplot:title={'center':'89.0% HDI'}>], dtype=object)"
      ]
     },
     "execution_count": 26,
     "metadata": {},
     "output_type": "execute_result"
    },
    {
     "data": {
      "image/png": "[encoded data removed]",
      "text/plain": [
       "<Figure size 432x727.2 with 1 Axes>"
      ]
     },
     "metadata": {
      "needs_background": "light"
     },
     "output_type": "display_data"
    }
   ],
   "source": [
    "az12_5 = az.from_numpyro(m12_5)\n",
    "az.plot_forest(az12_5, hdi_prob=0.89)"
   ]
  },
  {
   "cell_type": "code",
   "execution_count": 40,
   "metadata": {},
   "outputs": [],
   "source": [
    "dir_samp = dist.Dirichlet(jnp.repeat(2,7)).expand([10,]).sample(random.PRNGKey(0))"
   ]
  },
  {
   "cell_type": "code",
   "execution_count": 41,
   "metadata": {},
   "outputs": [
    {
     "data": {
      "text/plain": [
       "[<matplotlib.lines.Line2D at 0x7ff37c657f40>,\n",
       " <matplotlib.lines.Line2D at 0x7ff37c657f70>,\n",
       " <matplotlib.lines.Line2D at 0x7ff37c663b20>,\n",
       " <matplotlib.lines.Line2D at 0x7ff37c663a60>,\n",
       " <matplotlib.lines.Line2D at 0x7ff37c663a90>,\n",
       " <matplotlib.lines.Line2D at 0x7ff37c663d30>,\n",
       " <matplotlib.lines.Line2D at 0x7ff37c663fa0>]"
      ]
     },
     "execution_count": 41,
     "metadata": {},
     "output_type": "execute_result"
    },
    {
     "data": {
      "image/png": "[encoded data removed]",
      "text/plain": [
       "<Figure size 432x288 with 1 Axes>"
      ]
     },
     "metadata": {
      "needs_background": "light"
     },
     "output_type": "display_data"
    }
   ],
   "source": [
    "plt.plot(dir_samp)"
   ]
  },
  {
   "cell_type": "code",
   "execution_count": 42,
   "metadata": {},
   "outputs": [
    {
     "data": {
      "text/plain": [
       "array(['Middle School', \"Bachelor's Degree\", 'Some College',\n",
       "       \"Master's Degree\", 'High School Graduate', 'Graduate Degree',\n",
       "       'Some High School', 'Elementary School'], dtype=object)"
      ]
     },
     "execution_count": 42,
     "metadata": {},
     "output_type": "execute_result"
    }
   ],
   "source": [
    "d.edu.unique()"
   ]
  },
  {
   "cell_type": "code",
   "execution_count": 44,
   "metadata": {},
   "outputs": [],
   "source": [
    "d['e'] = d.edu.map({'Middle School':1, \"Bachelor's Degree\":5, 'Some College':4,\n",
    "       \"Master's Degree\":6, 'High School Graduate':3, 'Graduate Degree':7,\n",
    "       'Some High School':2, 'Elementary School':0})"
   ]
  },
  {
   "cell_type": "code",
   "execution_count": 58,
   "metadata": {},
   "outputs": [
    {
     "name": "stderr",
     "output_type": "stream",
     "text": [
      "sample: 100%|██████████| 1000/1000 [01:32<00:00, 10.85it/s, 31 steps of size 9.44e-02. acc. prob=0.89]\n"
     ]
    },
    {
     "name": "stdout",
     "output_type": "stream",
     "text": [
      "\n",
      "                  mean       std    median      5.0%     95.0%     n_eff     r_hat\n",
      "         b_a     -0.71      0.04     -0.71     -0.77     -0.64    247.93      1.00\n",
      "         b_c     -0.96      0.05     -0.96     -1.04     -0.89    160.64      1.00\n",
      "         b_e     -0.35      0.17     -0.33     -0.61     -0.07    105.92      1.00\n",
      "         b_i     -0.72      0.04     -0.72     -0.78     -0.66    292.15      1.00\n",
      "cutpoints[0]     -3.12      0.16     -3.10     -3.34     -2.84    119.55      1.00\n",
      "cutpoints[1]     -2.43      0.16     -2.42     -2.69     -2.20    118.65      1.00\n",
      "cutpoints[2]     -1.85      0.15     -1.83     -2.12     -1.64    117.78      1.00\n",
      "cutpoints[3]     -0.83      0.15     -0.80     -1.09     -0.60    118.93      1.00\n",
      "cutpoints[4]     -0.16      0.15     -0.14     -0.41      0.08    121.41      1.00\n",
      "cutpoints[5]      0.75      0.15      0.77      0.53      1.00    119.11      1.00\n",
      "cutpoints[6]     10.69      1.88     10.61      7.70     13.95    132.85      1.00\n",
      "  delta_j[0]      0.25      0.14      0.23      0.04      0.47    186.64      1.00\n",
      "  delta_j[1]      0.13      0.08      0.12      0.01      0.25    329.06      1.00\n",
      "  delta_j[2]      0.19      0.10      0.18      0.01      0.34    347.68      1.00\n",
      "  delta_j[3]      0.18      0.09      0.17      0.04      0.31    205.30      1.00\n",
      "  delta_j[4]      0.04      0.03      0.03      0.00      0.08    260.83      1.00\n",
      "  delta_j[5]      0.09      0.06      0.08      0.01      0.18    280.17      1.00\n",
      "  delta_j[6]      0.12      0.08      0.10      0.01      0.23    447.15      1.01\n",
      "\n",
      "Number of divergences: 198\n"
     ]
    }
   ],
   "source": [
    "def model(a, c, i, e, y):\n",
    "    cutpoints = numpyro.sample(\n",
    "        \"cutpoints\",\n",
    "        dist.TransformedDistribution(\n",
    "            dist.Normal(0, 1.5).expand([7]), OrderedTransform()\n",
    "        ),\n",
    "    )\n",
    "    b_a = numpyro.sample(\"b_a\", dist.Normal(0, 1))\n",
    "    b_c = numpyro.sample(\"b_c\", dist.Normal(0, 1))\n",
    "    b_i = numpyro.sample(\"b_i\", dist.Normal(0, 1))\n",
    "    b_e = numpyro.sample(\"b_e\", dist.Normal(0, 1))\n",
    "    delta_j = numpyro.sample(\"delta_j\", dist.Dirichlet(jnp.repeat(2,7)))\n",
    "    delta_j = jnp.concatenate((jnp.array([0,]), delta_j))\n",
    "    delta_e = jnp.sum(jnp.where(jnp.arange(8) <= e[..., None], delta_j, 0), -1)\n",
    "    phi = b_a*a + b_c*c + b_i*i + b_e*delta_e\n",
    "\n",
    "    response = numpyro.sample('response', dist.OrderedLogistic(phi, cutpoints), obs=y)\n",
    "\n",
    "m12_5 = MCMC(NUTS(model), num_warmup=500, num_samples=500)\n",
    "m12_5.run(random.PRNGKey(0), a=d.action.values, c=d.contact.values, i=d.intention.values, e=d.e.values, y=d.response.values - 1)\n",
    "m12_5.print_summary()"
   ]
  },
  {
   "cell_type": "code",
   "execution_count": 51,
   "metadata": {},
   "outputs": [
    {
     "data": {
      "text/plain": [
       "(9930, 1)"
      ]
     },
     "execution_count": 51,
     "metadata": {},
     "output_type": "execute_result"
    }
   ],
   "source": [
    "delta_j = jnp.array([0, 0.1, 0.1, 0.1, 0.1, 0.1, 0.2, 0.3])\n",
    "e=d.e.values\n",
    "e[..., None].shape\n"
   ]
  },
  {
   "cell_type": "code",
   "execution_count": 55,
   "metadata": {},
   "outputs": [],
   "source": [
    "delta_e = jnp.sum(jnp.where(jnp.arange(8) <= e[..., None], delta_j, 0), -1)"
   ]
  },
  {
   "cell_type": "code",
   "execution_count": 56,
   "metadata": {},
   "outputs": [
    {
     "data": {
      "text/plain": [
       "(9930,)"
      ]
     },
     "execution_count": 56,
     "metadata": {},
     "output_type": "execute_result"
    }
   ],
   "source": [
    "delta_e.shape"
   ]
  },
  {
   "cell_type": "code",
   "execution_count": null,
   "metadata": {},
   "outputs": [],
   "source": []
  }
 ],
 "metadata": {
  "interpreter": {
   "hash": "0789b99f4adc99188d8b4faac15be0fb9c8374a560d4c08f7e9a557c45f5c72c"
  },
  "kernelspec": {
   "display_name": "Python 3.8.10 64-bit ('venv': venv)",
   "language": "python",
   "name": "python3"
  },
  "language_info": {
   "codemirror_mode": {
    "name": "ipython",
    "version": 3
   },
   "file_extension": ".py",
   "mimetype": "text/x-python",
   "name": "python",
   "nbconvert_exporter": "python",
   "pygments_lexer": "ipython3",
   "version": "3.8.10"
  },
  "orig_nbformat": 4
 },
 "nbformat": 4,
 "nbformat_minor": 2
}
