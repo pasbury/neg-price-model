{
 "cells": [
  {
   "cell_type": "code",
   "execution_count": 1,
   "metadata": {},
   "outputs": [
    {
     "name": "stderr",
     "output_type": "stream",
     "text": [
      "/home/pasbury/neg-price-model/venv/lib/python3.8/site-packages/jax/experimental/optimizers.py:28: FutureWarning: jax.experimental.optimizers is deprecated, import jax.example_libraries.optimizers instead\n",
      "  warnings.warn('jax.experimental.optimizers is deprecated, '\n",
      "/home/pasbury/neg-price-model/venv/lib/python3.8/site-packages/jax/experimental/stax.py:28: FutureWarning: jax.experimental.stax is deprecated, import jax.example_libraries.stax instead\n",
      "  warnings.warn('jax.experimental.stax is deprecated, '\n"
     ]
    }
   ],
   "source": [
    "import numpy as np\n",
    "import numpyro\n",
    "import numpyro.distributions as dist\n",
    "from numpyro.infer.reparam import TransformReparam, LocScaleReparam\n",
    "from numpyro.distributions.transforms import AffineTransform, OrderedTransform\n",
    "from numpyro.infer import MCMC, NUTS, Predictive, SVI, Trace_ELBO, log_likelihood\n",
    "from numpyro.infer.autoguide import AutoLaplaceApproximation\n",
    "import numpyro.optim as optim\n",
    "from numpyro import handlers\n",
    "from numpyro.handlers import mask\n",
    "import jax\n",
    "from jax.numpy import DeviceArray\n",
    "import jax.numpy as jnp\n",
    "from jax import random, lax\n",
    "from jax import nn as jnn\n",
    "from jax.scipy.special import expit\n",
    "import pandas as pd\n",
    "import matplotlib.pyplot as plt\n",
    "import arviz as az\n",
    "from sklearn.neighbors import KNeighborsRegressor\n",
    "from sklearn.model_selection import GridSearchCV\n",
    "from sklearn.model_selection import train_test_split\n",
    "from sklearn.metrics import r2_score, roc_auc_score\n",
    "from sklearn.preprocessing import StandardScaler, OrdinalEncoder"
   ]
  },
  {
   "cell_type": "code",
   "execution_count": 2,
   "metadata": {},
   "outputs": [],
   "source": [
    "d = pd.read_csv('data/reedfrogs.csv', sep=';')"
   ]
  },
  {
   "cell_type": "code",
   "execution_count": 5,
   "metadata": {},
   "outputs": [
    {
     "data": {
      "text/html": [
       "<div>\n",
       "<style scoped>\n",
       "    .dataframe tbody tr th:only-of-type {\n",
       "        vertical-align: middle;\n",
       "    }\n",
       "\n",
       "    .dataframe tbody tr th {\n",
       "        vertical-align: top;\n",
       "    }\n",
       "\n",
       "    .dataframe thead th {\n",
       "        text-align: right;\n",
       "    }\n",
       "</style>\n",
       "<table border=\"1\" class=\"dataframe\">\n",
       "  <thead>\n",
       "    <tr style=\"text-align: right;\">\n",
       "      <th></th>\n",
       "      <th>density</th>\n",
       "      <th>pred</th>\n",
       "      <th>size</th>\n",
       "      <th>surv</th>\n",
       "      <th>propsurv</th>\n",
       "    </tr>\n",
       "  </thead>\n",
       "  <tbody>\n",
       "    <tr>\n",
       "      <th>count</th>\n",
       "      <td>48.000000</td>\n",
       "      <td>48</td>\n",
       "      <td>48</td>\n",
       "      <td>48.000000</td>\n",
       "      <td>48.000000</td>\n",
       "    </tr>\n",
       "    <tr>\n",
       "      <th>unique</th>\n",
       "      <td>NaN</td>\n",
       "      <td>2</td>\n",
       "      <td>2</td>\n",
       "      <td>NaN</td>\n",
       "      <td>NaN</td>\n",
       "    </tr>\n",
       "    <tr>\n",
       "      <th>top</th>\n",
       "      <td>NaN</td>\n",
       "      <td>no</td>\n",
       "      <td>big</td>\n",
       "      <td>NaN</td>\n",
       "      <td>NaN</td>\n",
       "    </tr>\n",
       "    <tr>\n",
       "      <th>freq</th>\n",
       "      <td>NaN</td>\n",
       "      <td>24</td>\n",
       "      <td>24</td>\n",
       "      <td>NaN</td>\n",
       "      <td>NaN</td>\n",
       "    </tr>\n",
       "    <tr>\n",
       "      <th>mean</th>\n",
       "      <td>23.333333</td>\n",
       "      <td>NaN</td>\n",
       "      <td>NaN</td>\n",
       "      <td>16.312500</td>\n",
       "      <td>0.721607</td>\n",
       "    </tr>\n",
       "    <tr>\n",
       "      <th>std</th>\n",
       "      <td>10.382746</td>\n",
       "      <td>NaN</td>\n",
       "      <td>NaN</td>\n",
       "      <td>9.884775</td>\n",
       "      <td>0.266416</td>\n",
       "    </tr>\n",
       "    <tr>\n",
       "      <th>min</th>\n",
       "      <td>10.000000</td>\n",
       "      <td>NaN</td>\n",
       "      <td>NaN</td>\n",
       "      <td>4.000000</td>\n",
       "      <td>0.114286</td>\n",
       "    </tr>\n",
       "    <tr>\n",
       "      <th>25%</th>\n",
       "      <td>10.000000</td>\n",
       "      <td>NaN</td>\n",
       "      <td>NaN</td>\n",
       "      <td>9.000000</td>\n",
       "      <td>0.496429</td>\n",
       "    </tr>\n",
       "    <tr>\n",
       "      <th>50%</th>\n",
       "      <td>25.000000</td>\n",
       "      <td>NaN</td>\n",
       "      <td>NaN</td>\n",
       "      <td>12.500000</td>\n",
       "      <td>0.885714</td>\n",
       "    </tr>\n",
       "    <tr>\n",
       "      <th>75%</th>\n",
       "      <td>35.000000</td>\n",
       "      <td>NaN</td>\n",
       "      <td>NaN</td>\n",
       "      <td>23.000000</td>\n",
       "      <td>0.920000</td>\n",
       "    </tr>\n",
       "    <tr>\n",
       "      <th>max</th>\n",
       "      <td>35.000000</td>\n",
       "      <td>NaN</td>\n",
       "      <td>NaN</td>\n",
       "      <td>35.000000</td>\n",
       "      <td>1.000000</td>\n",
       "    </tr>\n",
       "  </tbody>\n",
       "</table>\n",
       "</div>"
      ],
      "text/plain": [
       "          density pred size       surv   propsurv\n",
       "count   48.000000   48   48  48.000000  48.000000\n",
       "unique        NaN    2    2        NaN        NaN\n",
       "top           NaN   no  big        NaN        NaN\n",
       "freq          NaN   24   24        NaN        NaN\n",
       "mean    23.333333  NaN  NaN  16.312500   0.721607\n",
       "std     10.382746  NaN  NaN   9.884775   0.266416\n",
       "min     10.000000  NaN  NaN   4.000000   0.114286\n",
       "25%     10.000000  NaN  NaN   9.000000   0.496429\n",
       "50%     25.000000  NaN  NaN  12.500000   0.885714\n",
       "75%     35.000000  NaN  NaN  23.000000   0.920000\n",
       "max     35.000000  NaN  NaN  35.000000   1.000000"
      ]
     },
     "execution_count": 5,
     "metadata": {},
     "output_type": "execute_result"
    }
   ],
   "source": [
    "d.describe(include='all')"
   ]
  },
  {
   "cell_type": "code",
   "execution_count": 6,
   "metadata": {},
   "outputs": [
    {
     "data": {
      "text/html": [
       "<div>\n",
       "<style scoped>\n",
       "    .dataframe tbody tr th:only-of-type {\n",
       "        vertical-align: middle;\n",
       "    }\n",
       "\n",
       "    .dataframe tbody tr th {\n",
       "        vertical-align: top;\n",
       "    }\n",
       "\n",
       "    .dataframe thead th {\n",
       "        text-align: right;\n",
       "    }\n",
       "</style>\n",
       "<table border=\"1\" class=\"dataframe\">\n",
       "  <thead>\n",
       "    <tr style=\"text-align: right;\">\n",
       "      <th></th>\n",
       "      <th>density</th>\n",
       "      <th>pred</th>\n",
       "      <th>size</th>\n",
       "      <th>surv</th>\n",
       "      <th>propsurv</th>\n",
       "    </tr>\n",
       "  </thead>\n",
       "  <tbody>\n",
       "    <tr>\n",
       "      <th>36</th>\n",
       "      <td>35</td>\n",
       "      <td>no</td>\n",
       "      <td>small</td>\n",
       "      <td>31</td>\n",
       "      <td>0.885714</td>\n",
       "    </tr>\n",
       "    <tr>\n",
       "      <th>46</th>\n",
       "      <td>35</td>\n",
       "      <td>pred</td>\n",
       "      <td>small</td>\n",
       "      <td>31</td>\n",
       "      <td>0.885714</td>\n",
       "    </tr>\n",
       "    <tr>\n",
       "      <th>2</th>\n",
       "      <td>10</td>\n",
       "      <td>no</td>\n",
       "      <td>big</td>\n",
       "      <td>7</td>\n",
       "      <td>0.700000</td>\n",
       "    </tr>\n",
       "    <tr>\n",
       "      <th>30</th>\n",
       "      <td>25</td>\n",
       "      <td>pred</td>\n",
       "      <td>small</td>\n",
       "      <td>8</td>\n",
       "      <td>0.320000</td>\n",
       "    </tr>\n",
       "    <tr>\n",
       "      <th>32</th>\n",
       "      <td>35</td>\n",
       "      <td>no</td>\n",
       "      <td>big</td>\n",
       "      <td>34</td>\n",
       "      <td>0.971429</td>\n",
       "    </tr>\n",
       "  </tbody>\n",
       "</table>\n",
       "</div>"
      ],
      "text/plain": [
       "    density  pred   size  surv  propsurv\n",
       "36       35    no  small    31  0.885714\n",
       "46       35  pred  small    31  0.885714\n",
       "2        10    no    big     7  0.700000\n",
       "30       25  pred  small     8  0.320000\n",
       "32       35    no    big    34  0.971429"
      ]
     },
     "execution_count": 6,
     "metadata": {},
     "output_type": "execute_result"
    }
   ],
   "source": [
    "d.sample(5)"
   ]
  },
  {
   "cell_type": "code",
   "execution_count": 13,
   "metadata": {},
   "outputs": [
    {
     "name": "stderr",
     "output_type": "stream",
     "text": [
      "sample: 100%|██████████| 1000/1000 [00:03<00:00, 285.88it/s, 7 steps of size 4.41e-01. acc. prob=0.89]\n"
     ]
    },
    {
     "name": "stdout",
     "output_type": "stream",
     "text": [
      "\n",
      "                       mean       std    median      5.0%     95.0%     n_eff     r_hat\n",
      " row_intercept[0]      1.74      0.78      1.70      0.50      3.10    649.05      1.01\n",
      " row_intercept[1]      2.40      0.94      2.38      0.87      3.83    561.79      1.01\n",
      " row_intercept[2]      0.71      0.68      0.69     -0.49      1.73    730.98      1.00\n",
      " row_intercept[3]      2.41      0.83      2.35      1.11      3.66    662.06      1.00\n",
      " row_intercept[4]      1.70      0.71      1.61      0.67      2.99    866.90      1.00\n",
      " row_intercept[5]      1.74      0.76      1.68      0.54      2.94    851.08      1.00\n",
      " row_intercept[6]      2.42      0.93      2.32      0.83      3.84    635.44      1.00\n",
      " row_intercept[7]      1.73      0.77      1.65      0.64      3.11    496.03      1.00\n",
      " row_intercept[8]     -0.36      0.57     -0.37     -1.29      0.47    966.46      1.00\n",
      " row_intercept[9]      1.70      0.76      1.68      0.46      2.89    668.53      1.00\n",
      "row_intercept[10]      0.73      0.65      0.71     -0.33      1.71    789.88      1.00\n",
      "row_intercept[11]      0.36      0.65      0.33     -0.54      1.36    961.51      1.00\n",
      "row_intercept[12]      0.74      0.64      0.75     -0.18      1.77    700.59      1.00\n",
      "row_intercept[13]      0.01      0.56      0.01     -0.94      0.86    726.47      1.00\n",
      "row_intercept[14]      1.68      0.78      1.63      0.42      2.97    647.93      1.00\n",
      "row_intercept[15]      1.75      0.73      1.74      0.50      2.91    408.92      1.00\n",
      "row_intercept[16]      2.49      0.70      2.45      1.41      3.72    665.56      1.00\n",
      "row_intercept[17]      2.16      0.62      2.11      1.32      3.32    709.23      1.00\n",
      "row_intercept[18]      1.77      0.52      1.74      0.99      2.58    522.23      1.00\n",
      "row_intercept[19]      3.14      0.82      3.08      1.92      4.47    355.69      1.00\n",
      "row_intercept[20]      2.14      0.62      2.09      1.11      3.17    908.05      1.00\n",
      "row_intercept[21]      2.13      0.63      2.07      1.15      3.22    643.72      1.00\n",
      "row_intercept[22]      2.11      0.57      2.07      1.26      3.01    640.27      1.00\n",
      "row_intercept[23]      1.59      0.53      1.57      0.66      2.37    495.26      1.00\n",
      "row_intercept[24]     -1.09      0.45     -1.07     -1.88     -0.41   1514.81      1.00\n",
      "row_intercept[25]      0.09      0.36      0.11     -0.50      0.67    527.26      1.00\n",
      "row_intercept[26]     -1.54      0.47     -1.52     -2.28     -0.76    741.52      1.00\n",
      "row_intercept[27]     -0.52      0.41     -0.52     -1.06      0.36    598.68      1.00\n",
      "row_intercept[28]      0.07      0.39      0.08     -0.54      0.74    896.64      1.00\n",
      "row_intercept[29]      1.30      0.50      1.27      0.49      2.12    872.22      1.00\n",
      "row_intercept[30]     -0.73      0.43     -0.71     -1.46     -0.09    804.26      1.00\n",
      "row_intercept[31]     -0.39      0.43     -0.40     -1.16      0.22    435.78      1.00\n",
      "row_intercept[32]      2.92      0.70      2.90      1.80      4.03    364.96      1.00\n",
      "row_intercept[33]      2.48      0.61      2.47      1.41      3.33    504.54      1.00\n",
      "row_intercept[34]      2.45      0.56      2.39      1.53      3.30   1070.25      1.00\n",
      "row_intercept[35]      1.89      0.49      1.86      1.17      2.83    466.48      1.00\n",
      "row_intercept[36]      1.91      0.51      1.87      1.05      2.74    747.09      1.00\n",
      "row_intercept[37]      3.37      0.85      3.34      1.98      4.69    598.94      1.00\n",
      "row_intercept[38]      2.48      0.57      2.43      1.50      3.43    801.40      1.00\n",
      "row_intercept[39]      2.18      0.56      2.15      1.26      3.03    648.60      1.00\n",
      "row_intercept[40]     -1.87      0.42     -1.86     -2.52     -1.22    587.21      1.00\n",
      "row_intercept[41]     -0.60      0.34     -0.59     -1.19     -0.08    568.33      1.00\n",
      "row_intercept[42]     -0.53      0.35     -0.51     -1.12      0.03    243.99      1.00\n",
      "row_intercept[43]     -0.38      0.36     -0.37     -0.94      0.21    429.48      1.00\n",
      "row_intercept[44]      0.50      0.35      0.49     -0.06      1.06    667.56      1.00\n",
      "row_intercept[45]     -0.63      0.36     -0.63     -1.22     -0.07    618.98      1.00\n",
      "row_intercept[46]      1.92      0.50      1.88      1.18      2.80    724.26      1.00\n",
      "row_intercept[47]     -0.05      0.33     -0.05     -0.62      0.42    553.68      1.00\n",
      "\n",
      "Number of divergences: 0\n"
     ]
    }
   ],
   "source": [
    "def model(row, density, surv):\n",
    "    n_row = row.shape[0]\n",
    "    alpha = numpyro.sample(\"row_intercept\", dist.Normal(0,1.5).expand([n_row,]))\n",
    "    #alpha = numpyro.sample(\"row_intercept\", dist.Normal(0,1.5).expand([48,]))\n",
    "    p = expit(alpha[row])\n",
    "    surv = numpyro.sample(\"survived\", dist.Binomial(density,p), obs=surv)\n",
    "    \n",
    "m13_1 = MCMC(NUTS(model), num_warmup=500, num_samples=500)\n",
    "m13_1.run(random.PRNGKey(0), row=d.index.values, density=d.density.values, surv=d.surv.values)\n",
    "m13_1.print_summary()\n",
    "\n"
   ]
  },
  {
   "cell_type": "code",
   "execution_count": 46,
   "metadata": {},
   "outputs": [
    {
     "data": {
      "image/png": "[encoded data removed]",
      "text/plain": [
       "<Figure size 432x288 with 1 Axes>"
      ]
     },
     "metadata": {
      "needs_background": "light"
     },
     "output_type": "display_data"
    }
   ],
   "source": [
    "az_13_1 = az.from_numpyro(m13_1)\n",
    "a = az_13_1['posterior']['row_intercept'].squeeze()\n",
    "plt.hist(a.mean(axis=0), bins=5)\n",
    "_ = plt.hist(a.values.flatten(), bins = 50)"
   ]
  },
  {
   "cell_type": "code",
   "execution_count": 47,
   "metadata": {},
   "outputs": [
    {
     "name": "stderr",
     "output_type": "stream",
     "text": [
      "sample: 100%|██████████| 1000/1000 [00:03<00:00, 255.15it/s, 7 steps of size 4.63e-01. acc. prob=0.87]\n"
     ]
    },
    {
     "name": "stdout",
     "output_type": "stream",
     "text": [
      "\n",
      "                       mean       std    median      5.0%     95.0%     n_eff     r_hat\n",
      "        alpha_loc      1.35      0.26      1.33      0.93      1.77    465.83      1.00\n",
      "      alpha_scale      1.62      0.21      1.60      1.29      1.97    252.78      1.00\n",
      " row_intercept[0]      2.09      0.84      2.01      0.63      3.36    721.85      1.00\n",
      " row_intercept[1]      3.07      1.10      3.00      1.12      4.61    531.62      1.00\n",
      " row_intercept[2]      1.01      0.70      0.99     -0.14      2.08    397.82      1.00\n",
      " row_intercept[3]      3.07      1.11      2.98      1.29      4.75    502.45      1.00\n",
      " row_intercept[4]      2.13      0.81      2.06      0.78      3.41    613.88      1.00\n",
      " row_intercept[5]      2.22      0.98      2.07      0.82      3.86    409.11      1.01\n",
      " row_intercept[6]      3.09      1.14      2.94      1.33      4.86    515.89      1.00\n",
      " row_intercept[7]      2.15      0.86      2.10      0.78      3.58    573.56      1.00\n",
      " row_intercept[8]     -0.21      0.63     -0.23     -1.23      0.81    787.18      1.00\n",
      " row_intercept[9]      2.15      0.90      2.07      0.81      3.59    900.94      1.00\n",
      "row_intercept[10]      1.05      0.75      1.00     -0.36      2.04    432.25      1.00\n",
      "row_intercept[11]      0.62      0.61      0.61     -0.28      1.61    449.28      1.00\n",
      "row_intercept[12]      1.00      0.68      0.97     -0.06      2.17    698.32      1.00\n",
      "row_intercept[13]      0.19      0.60      0.17     -0.70      1.24   1423.90      1.00\n",
      "row_intercept[14]      2.12      0.89      2.06      0.80      3.58    531.89      1.00\n",
      "row_intercept[15]      2.14      0.87      2.04      0.67      3.39    636.27      1.00\n",
      "row_intercept[16]      2.83      0.76      2.78      1.53      3.86    727.98      1.00\n",
      "row_intercept[17]      2.40      0.64      2.37      1.33      3.44    767.82      1.00\n",
      "row_intercept[18]      2.06      0.62      2.00      1.00      2.99    555.60      1.00\n",
      "row_intercept[19]      3.67      1.00      3.64      1.98      5.22    512.03      1.00\n",
      "row_intercept[20]      2.36      0.68      2.32      1.27      3.41    459.42      1.00\n",
      "row_intercept[21]      2.39      0.65      2.35      1.26      3.30    768.57      1.00\n",
      "row_intercept[22]      2.39      0.66      2.32      1.28      3.47    618.43      1.00\n",
      "row_intercept[23]      1.68      0.51      1.68      0.83      2.55   1757.36      1.00\n",
      "row_intercept[24]     -1.02      0.51     -0.99     -1.84     -0.20    993.66      1.00\n",
      "row_intercept[25]      0.19      0.41      0.19     -0.43      0.95    490.86      1.00\n",
      "row_intercept[26]     -1.44      0.49     -1.42     -2.19     -0.61    627.78      1.00\n",
      "row_intercept[27]     -0.46      0.37     -0.48     -1.13      0.07    609.56      1.00\n",
      "row_intercept[28]      0.15      0.42      0.15     -0.48      0.85    555.52      1.00\n",
      "row_intercept[29]      1.41      0.50      1.39      0.64      2.18    895.90      1.00\n",
      "row_intercept[30]     -0.61      0.44     -0.59     -1.27      0.14    465.67      1.00\n",
      "row_intercept[31]     -0.31      0.43     -0.30     -1.03      0.37    550.76      1.00\n",
      "row_intercept[32]      3.19      0.75      3.14      1.98      4.44    400.82      1.00\n",
      "row_intercept[33]      2.74      0.69      2.70      1.65      3.83    524.08      1.00\n",
      "row_intercept[34]      2.69      0.61      2.63      1.81      3.72    790.77      1.00\n",
      "row_intercept[35]      2.04      0.51      2.00      1.15      2.79    824.90      1.00\n",
      "row_intercept[36]      2.05      0.50      2.03      1.26      2.87    875.92      1.00\n",
      "row_intercept[37]      3.94      1.03      3.77      2.50      5.73    357.21      1.01\n",
      "row_intercept[38]      2.73      0.68      2.64      1.74      3.97    626.98      1.00\n",
      "row_intercept[39]      2.38      0.56      2.35      1.46      3.23    680.12      1.00\n",
      "row_intercept[40]     -1.83      0.50     -1.78     -2.61     -1.00    921.72      1.00\n",
      "row_intercept[41]     -0.56      0.35     -0.55     -1.11     -0.00    792.09      1.00\n",
      "row_intercept[42]     -0.46      0.33     -0.43     -1.08      0.02    591.56      1.00\n",
      "row_intercept[43]     -0.37      0.34     -0.36     -0.87      0.21    889.26      1.00\n",
      "row_intercept[44]      0.59      0.32      0.58      0.12      1.10    393.40      1.00\n",
      "row_intercept[45]     -0.57      0.34     -0.57     -1.16     -0.05    588.54      1.00\n",
      "row_intercept[46]      2.03      0.53      1.99      1.19      2.89    642.23      1.00\n",
      "row_intercept[47]      0.02      0.33      0.01     -0.55      0.53    417.23      1.00\n",
      "\n",
      "Number of divergences: 0\n"
     ]
    }
   ],
   "source": [
    "def model(row, density, surv):\n",
    "    n_row = row.shape[0]\n",
    "    alpha_loc = numpyro.sample(\"alpha_loc\", dist.Normal(0,1.5))\n",
    "    alpha_scale = numpyro.sample(\"alpha_scale\", dist.Exponential(1))\n",
    "    alpha = numpyro.sample(\"row_intercept\", dist.Normal(alpha_loc,alpha_scale).expand([n_row,]))\n",
    "\n",
    "    p = expit(alpha[row])\n",
    "    surv = numpyro.sample(\"survived\", dist.Binomial(density,p), obs=surv)\n",
    "    \n",
    "m13_2 = MCMC(NUTS(model), num_warmup=500, num_samples=500)\n",
    "m13_2.run(random.PRNGKey(0), row=d.index.values, density=d.density.values, surv=d.surv.values)\n",
    "m13_2.print_summary()\n"
   ]
  },
  {
   "cell_type": "code",
   "execution_count": 48,
   "metadata": {},
   "outputs": [
    {
     "data": {
      "image/png": "[encoded data removed]",
      "text/plain": [
       "<Figure size 432x288 with 1 Axes>"
      ]
     },
     "metadata": {
      "needs_background": "light"
     },
     "output_type": "display_data"
    }
   ],
   "source": [
    "az_13_2 = az.from_numpyro(m13_2)\n",
    "a = az_13_2['posterior']['row_intercept'].squeeze()\n",
    "plt.hist(a.mean(axis=0), bins=5)\n",
    "_ = plt.hist(a.values.flatten(), bins = 50)"
   ]
  },
  {
   "cell_type": "code",
   "execution_count": 49,
   "metadata": {},
   "outputs": [
    {
     "name": "stderr",
     "output_type": "stream",
     "text": [
      "/home/pasbury/neg-price-model/venv/lib/python3.8/site-packages/arviz/stats/stats.py:1458: UserWarning: For one or more samples the posterior variance of the log predictive densities exceeds 0.4. This could be indication of WAIC starting to fail. \n",
      "See http://arxiv.org/abs/1507.04544 for details\n",
      "  warnings.warn(\n",
      "/home/pasbury/neg-price-model/venv/lib/python3.8/site-packages/arviz/stats/stats.py:1458: UserWarning: For one or more samples the posterior variance of the log predictive densities exceeds 0.4. This could be indication of WAIC starting to fail. \n",
      "See http://arxiv.org/abs/1507.04544 for details\n",
      "  warnings.warn(\n"
     ]
    },
    {
     "data": {
      "text/html": [
       "<div>\n",
       "<style scoped>\n",
       "    .dataframe tbody tr th:only-of-type {\n",
       "        vertical-align: middle;\n",
       "    }\n",
       "\n",
       "    .dataframe tbody tr th {\n",
       "        vertical-align: top;\n",
       "    }\n",
       "\n",
       "    .dataframe thead th {\n",
       "        text-align: right;\n",
       "    }\n",
       "</style>\n",
       "<table border=\"1\" class=\"dataframe\">\n",
       "  <thead>\n",
       "    <tr style=\"text-align: right;\">\n",
       "      <th></th>\n",
       "      <th>rank</th>\n",
       "      <th>waic</th>\n",
       "      <th>p_waic</th>\n",
       "      <th>d_waic</th>\n",
       "      <th>weight</th>\n",
       "      <th>se</th>\n",
       "      <th>dse</th>\n",
       "      <th>warning</th>\n",
       "      <th>waic_scale</th>\n",
       "    </tr>\n",
       "  </thead>\n",
       "  <tbody>\n",
       "    <tr>\n",
       "      <th>m13_2 Hierarchical</th>\n",
       "      <td>0</td>\n",
       "      <td>202.040299</td>\n",
       "      <td>21.761850</td>\n",
       "      <td>0.000000</td>\n",
       "      <td>1.0</td>\n",
       "      <td>7.590102</td>\n",
       "      <td>0.000000</td>\n",
       "      <td>True</td>\n",
       "      <td>deviance</td>\n",
       "    </tr>\n",
       "    <tr>\n",
       "      <th>m13_1 Varying imntercepts</th>\n",
       "      <td>1</td>\n",
       "      <td>216.093825</td>\n",
       "      <td>26.269321</td>\n",
       "      <td>14.053527</td>\n",
       "      <td>0.0</td>\n",
       "      <td>4.978521</td>\n",
       "      <td>4.791401</td>\n",
       "      <td>True</td>\n",
       "      <td>deviance</td>\n",
       "    </tr>\n",
       "  </tbody>\n",
       "</table>\n",
       "</div>"
      ],
      "text/plain": [
       "                           rank        waic     p_waic     d_waic  weight  \\\n",
       "m13_2 Hierarchical            0  202.040299  21.761850   0.000000     1.0   \n",
       "m13_1 Varying imntercepts     1  216.093825  26.269321  14.053527     0.0   \n",
       "\n",
       "                                 se       dse  warning waic_scale  \n",
       "m13_2 Hierarchical         7.590102  0.000000     True   deviance  \n",
       "m13_1 Varying imntercepts  4.978521  4.791401     True   deviance  "
      ]
     },
     "execution_count": 49,
     "metadata": {},
     "output_type": "execute_result"
    }
   ],
   "source": [
    "# logprob1= log_likelihood(m1.model, samples1, d.W.values, d.S.values, d.F.values)\n",
    "# az1 = az.from_dict({}, log_likelihood={\"blooms\": logprob1[\"blooms\"][None, ...]})\n",
    "\n",
    "# logprob2= log_likelihood(m2.model, samples2, d.B.values, d.W.values, d.S.values, d.F.values)\n",
    "# az2 = az.from_dict({}, log_likelihood={\"blooms\": logprob2[\"blooms\"][None, ...]})\n",
    "\n",
    "compare = az.compare({\"m13_1 Varying imntercepts\": az_13_1, \"m13_2 Hierarchical\": az_13_2}, ic=\"waic\", scale=\"deviance\")\n",
    "compare"
   ]
  },
  {
   "cell_type": "markdown",
   "metadata": {},
   "source": [
    "## Simulation "
   ]
  },
  {
   "cell_type": "code",
   "execution_count": 88,
   "metadata": {},
   "outputs": [],
   "source": [
    "a_bar = 1.5\n",
    "sigma = 1.5\n",
    "num_ponds = 60\n",
    "Ni = jnp.repeat(jnp.array([5, 10, 25, 35]), 15)"
   ]
  },
  {
   "cell_type": "code",
   "execution_count": 89,
   "metadata": {},
   "outputs": [
    {
     "data": {
      "text/plain": [
       "DeviceArray([ 5,  5,  5,  5,  5,  5,  5,  5,  5,  5,  5,  5,  5,  5,  5,\n",
       "             10, 10, 10, 10, 10, 10, 10, 10, 10, 10, 10, 10, 10, 10, 10,\n",
       "             25, 25, 25, 25, 25, 25, 25, 25, 25, 25, 25, 25, 25, 25, 25,\n",
       "             35, 35, 35, 35, 35, 35, 35, 35, 35, 35, 35, 35, 35, 35, 35],            dtype=int32)"
      ]
     },
     "execution_count": 89,
     "metadata": {},
     "output_type": "execute_result"
    }
   ],
   "source": [
    "Ni"
   ]
  },
  {
   "cell_type": "code",
   "execution_count": 90,
   "metadata": {},
   "outputs": [],
   "source": [
    "a_pond = dist.Normal(a_bar, sigma).expand([num_ponds,]).sample(random.PRNGKey(42))"
   ]
  },
  {
   "cell_type": "code",
   "execution_count": 91,
   "metadata": {},
   "outputs": [],
   "source": [
    "dsim = pd.DataFrame(data = jnp.stack((Ni, a_pond), axis=1), columns = ['Ni', 'a_pond'])"
   ]
  },
  {
   "cell_type": "code",
   "execution_count": 92,
   "metadata": {},
   "outputs": [],
   "source": [
    "dsim['Si'] = dist.BinomialLogits(a_pond, Ni).sample(random.PRNGKey(24))"
   ]
  },
  {
   "cell_type": "code",
   "execution_count": 93,
   "metadata": {},
   "outputs": [],
   "source": [
    "dsim['p_nopool'] = dsim['Si'] / dsim['Ni']"
   ]
  },
  {
   "cell_type": "code",
   "execution_count": 94,
   "metadata": {},
   "outputs": [
    {
     "data": {
      "text/html": [
       "<div>\n",
       "<style scoped>\n",
       "    .dataframe tbody tr th:only-of-type {\n",
       "        vertical-align: middle;\n",
       "    }\n",
       "\n",
       "    .dataframe tbody tr th {\n",
       "        vertical-align: top;\n",
       "    }\n",
       "\n",
       "    .dataframe thead th {\n",
       "        text-align: right;\n",
       "    }\n",
       "</style>\n",
       "<table border=\"1\" class=\"dataframe\">\n",
       "  <thead>\n",
       "    <tr style=\"text-align: right;\">\n",
       "      <th></th>\n",
       "      <th>Ni</th>\n",
       "      <th>a_pond</th>\n",
       "      <th>Si</th>\n",
       "      <th>p_nopool</th>\n",
       "    </tr>\n",
       "  </thead>\n",
       "  <tbody>\n",
       "    <tr>\n",
       "      <th>28</th>\n",
       "      <td>10.0</td>\n",
       "      <td>3.018501</td>\n",
       "      <td>10</td>\n",
       "      <td>1.000000</td>\n",
       "    </tr>\n",
       "    <tr>\n",
       "      <th>55</th>\n",
       "      <td>35.0</td>\n",
       "      <td>0.897908</td>\n",
       "      <td>23</td>\n",
       "      <td>0.657143</td>\n",
       "    </tr>\n",
       "    <tr>\n",
       "      <th>6</th>\n",
       "      <td>5.0</td>\n",
       "      <td>4.148145</td>\n",
       "      <td>5</td>\n",
       "      <td>1.000000</td>\n",
       "    </tr>\n",
       "    <tr>\n",
       "      <th>14</th>\n",
       "      <td>5.0</td>\n",
       "      <td>1.349992</td>\n",
       "      <td>2</td>\n",
       "      <td>0.400000</td>\n",
       "    </tr>\n",
       "    <tr>\n",
       "      <th>51</th>\n",
       "      <td>35.0</td>\n",
       "      <td>1.276490</td>\n",
       "      <td>32</td>\n",
       "      <td>0.914286</td>\n",
       "    </tr>\n",
       "  </tbody>\n",
       "</table>\n",
       "</div>"
      ],
      "text/plain": [
       "      Ni    a_pond  Si  p_nopool\n",
       "28  10.0  3.018501  10  1.000000\n",
       "55  35.0  0.897908  23  0.657143\n",
       "6    5.0  4.148145   5  1.000000\n",
       "14   5.0  1.349992   2  0.400000\n",
       "51  35.0  1.276490  32  0.914286"
      ]
     },
     "execution_count": 94,
     "metadata": {},
     "output_type": "execute_result"
    }
   ],
   "source": [
    "dsim.sample(5)"
   ]
  },
  {
   "cell_type": "code",
   "execution_count": 95,
   "metadata": {},
   "outputs": [
    {
     "name": "stderr",
     "output_type": "stream",
     "text": [
      "sample: 100%|██████████| 1000/1000 [00:07<00:00, 135.14it/s, 7 steps of size 4.24e-01. acc. prob=0.88]\n"
     ]
    },
    {
     "name": "stdout",
     "output_type": "stream",
     "text": [
      "\n",
      "                       mean       std    median      5.0%     95.0%     n_eff     r_hat\n",
      "        alpha_loc      1.38      0.25      1.38      0.95      1.76    291.71      1.01\n",
      "      alpha_scale      1.68      0.24      1.66      1.31      2.03    140.45      1.00\n",
      " row_intercept[0]     -0.75      0.90     -0.74     -2.31      0.61    675.56      1.00\n",
      " row_intercept[1]      1.57      1.02      1.50     -0.05      3.21    809.24      1.00\n",
      " row_intercept[2]      0.03      0.82      0.02     -1.33      1.39    425.18      1.00\n",
      " row_intercept[3]      0.77      0.88      0.74     -0.70      2.12    590.22      1.00\n",
      " row_intercept[4]      1.54      1.00      1.51     -0.05      3.02    655.17      1.00\n",
      " row_intercept[5]      2.72      1.21      2.59      0.82      4.63    546.68      1.00\n",
      " row_intercept[6]      2.69      1.23      2.53      0.77      4.69    435.27      1.00\n",
      " row_intercept[7]      2.72      1.32      2.58      0.35      4.49    512.21      1.00\n",
      " row_intercept[8]      0.73      0.86      0.70     -0.67      1.93    531.14      1.00\n",
      " row_intercept[9]      0.75      0.88      0.75     -0.52      2.29    781.42      1.00\n",
      "row_intercept[10]      0.74      0.91      0.68     -0.78      2.16    527.32      1.00\n",
      "row_intercept[11]      1.62      1.12      1.56     -0.04      3.54    654.19      1.00\n",
      "row_intercept[12]      1.60      0.98      1.56      0.05      3.17    500.34      1.00\n",
      "row_intercept[13]      1.55      1.04      1.44      0.00      3.09    763.38      1.00\n",
      "row_intercept[14]     -0.03      0.85     -0.02     -1.40      1.33    573.40      1.00\n",
      "row_intercept[15]      2.22      0.91      2.16      0.63      3.53    735.37      1.00\n",
      "row_intercept[16]      2.20      0.97      2.11      0.88      3.79    533.08      1.00\n",
      "row_intercept[17]      3.19      1.14      3.13      1.18      4.82    411.19      1.00\n",
      "row_intercept[18]     -1.51      0.76     -1.44     -2.69     -0.35    374.98      1.00\n",
      "row_intercept[19]      3.19      1.17      3.04      1.25      4.87    491.29      1.00\n",
      "row_intercept[20]      3.11      1.12      2.99      1.17      4.74    523.22      1.00\n",
      "row_intercept[21]     -0.20      0.62     -0.20     -1.38      0.65    649.04      1.00\n",
      "row_intercept[22]      0.97      0.67      0.92      0.06      2.24    654.61      1.00\n",
      "row_intercept[23]      0.17      0.61      0.17     -0.84      1.11    691.38      1.00\n",
      "row_intercept[24]      2.15      0.92      2.07      0.82      3.77    381.30      1.00\n",
      "row_intercept[25]      3.22      1.28      3.10      1.35      5.30    467.41      1.00\n",
      "row_intercept[26]     -0.57      0.63     -0.55     -1.44      0.57    600.97      1.00\n",
      "row_intercept[27]     -0.57      0.62     -0.58     -1.62      0.41    538.45      1.00\n",
      "row_intercept[28]      3.20      1.16      3.06      1.37      4.96    346.32      1.00\n",
      "row_intercept[29]     -0.54      0.66     -0.52     -1.48      0.63   1006.81      1.00\n",
      "row_intercept[30]      3.79      1.05      3.64      2.13      5.41    314.94      1.00\n",
      "row_intercept[31]      1.01      0.46      0.98      0.31      1.77    713.95      1.00\n",
      "row_intercept[32]      1.69      0.49      1.67      0.86      2.40    557.64      1.00\n",
      "row_intercept[33]      0.82      0.47      0.81      0.05      1.53    663.38      1.00\n",
      "row_intercept[34]      0.47      0.43      0.49     -0.18      1.19    599.27      1.00\n",
      "row_intercept[35]      3.77      1.10      3.63      2.04      5.47    348.75      1.00\n",
      "row_intercept[36]      2.02      0.56      2.00      1.18      2.93    424.52      1.00\n",
      "row_intercept[37]      1.43      0.44      1.41      0.70      2.12    425.11      1.02\n",
      "row_intercept[38]      2.94      0.78      2.91      1.67      4.03    608.02      1.00\n",
      "row_intercept[39]      1.70      0.57      1.70      0.75      2.54    569.92      1.00\n",
      "row_intercept[40]      0.01      0.40      0.00     -0.67      0.63    522.21      1.00\n",
      "row_intercept[41]      2.01      0.53      2.00      1.16      2.84    497.27      1.00\n",
      "row_intercept[42]     -0.49      0.41     -0.48     -1.13      0.20    607.51      1.00\n",
      "row_intercept[43]      2.95      0.74      2.86      1.84      4.14    490.52      1.00\n",
      "row_intercept[44]      2.95      0.81      2.88      1.65      4.15    555.01      1.00\n",
      "row_intercept[45]     -0.70      0.35     -0.69     -1.25     -0.12    503.03      1.00\n",
      "row_intercept[46]      1.40      0.38      1.39      0.86      2.14    698.66      1.00\n",
      "row_intercept[47]      2.72      0.61      2.68      1.77      3.73    654.66      1.00\n",
      "row_intercept[48]      0.10      0.36      0.09     -0.41      0.68    747.27      1.00\n",
      "row_intercept[49]     -1.14      0.43     -1.10     -1.80     -0.47    471.54      1.00\n",
      "row_intercept[50]      3.20      0.80      3.14      1.89      4.32    391.06      1.00\n",
      "row_intercept[51]      2.38      0.57      2.34      1.44      3.21    491.61      1.01\n",
      "row_intercept[52]      1.60      0.42      1.57      0.94      2.30    622.43      1.00\n",
      "row_intercept[53]     -1.82      0.47     -1.79     -2.53     -1.09    595.90      1.00\n",
      "row_intercept[54]      1.58      0.46      1.57      0.79      2.28    882.48      1.00\n",
      "row_intercept[55]      0.71      0.37      0.69      0.16      1.36    599.59      1.00\n",
      "row_intercept[56]     -0.84      0.36     -0.81     -1.35     -0.21    466.38      1.01\n",
      "row_intercept[57]      3.99      0.95      3.91      2.44      5.38    503.83      1.00\n",
      "row_intercept[58]      3.23      0.78      3.13      1.96      4.43    314.96      1.00\n",
      "row_intercept[59]      1.78      0.45      1.76      1.02      2.50    659.33      1.00\n",
      "\n",
      "Number of divergences: 0\n"
     ]
    }
   ],
   "source": [
    "def model(row, density, surv):\n",
    "    n_row = row.shape[0]\n",
    "    alpha_loc = numpyro.sample(\"alpha_loc\", dist.Normal(0,1.5))\n",
    "    alpha_scale = numpyro.sample(\"alpha_scale\", dist.Exponential(1))\n",
    "    alpha = numpyro.sample(\"row_intercept\", dist.Normal(alpha_loc,alpha_scale).expand([n_row,]))\n",
    "\n",
    "    p = expit(alpha[row])\n",
    "    surv = numpyro.sample(\"survived\", dist.Binomial(density,p), obs=surv)\n",
    "    \n",
    "m13_3 = MCMC(NUTS(model), num_warmup=500, num_samples=500)\n",
    "m13_3.run(random.PRNGKey(0), row=dsim.index.values, density=dsim.Ni.values, surv=dsim.Si.values)\n",
    "m13_3.print_summary()\n"
   ]
  },
  {
   "cell_type": "code",
   "execution_count": 96,
   "metadata": {},
   "outputs": [],
   "source": [
    "post = m13_3.get_samples()"
   ]
  },
  {
   "cell_type": "code",
   "execution_count": 97,
   "metadata": {},
   "outputs": [],
   "source": [
    "dsim['p_partpool'] = expit(post['row_intercept']).mean(axis = 0)"
   ]
  },
  {
   "cell_type": "code",
   "execution_count": 98,
   "metadata": {},
   "outputs": [],
   "source": [
    "dsim['p_true'] = expit(dsim['a_pond'].values)"
   ]
  },
  {
   "cell_type": "code",
   "execution_count": 99,
   "metadata": {},
   "outputs": [
    {
     "data": {
      "text/plain": [
       "<AxesSubplot:xlabel='p_true', ylabel='p_partpool'>"
      ]
     },
     "execution_count": 99,
     "metadata": {},
     "output_type": "execute_result"
    },
    {
     "data": {
      "image/png": "[encoded data removed]",
      "text/plain": [
       "<Figure size 432x288 with 1 Axes>"
      ]
     },
     "metadata": {
      "needs_background": "light"
     },
     "output_type": "display_data"
    }
   ],
   "source": [
    "dsim.plot.scatter('p_true', 'p_partpool')"
   ]
  },
  {
   "cell_type": "code",
   "execution_count": 100,
   "metadata": {},
   "outputs": [],
   "source": [
    "dsim['e_nopool'] = np.abs(dsim.p_nopool - dsim.p_true)\n",
    "dsim['e_partpool'] = np.abs(dsim.p_partpool - dsim.p_true)"
   ]
  },
  {
   "cell_type": "code",
   "execution_count": 101,
   "metadata": {},
   "outputs": [
    {
     "data": {
      "text/html": [
       "<div>\n",
       "<style scoped>\n",
       "    .dataframe tbody tr th:only-of-type {\n",
       "        vertical-align: middle;\n",
       "    }\n",
       "\n",
       "    .dataframe tbody tr th {\n",
       "        vertical-align: top;\n",
       "    }\n",
       "\n",
       "    .dataframe thead th {\n",
       "        text-align: right;\n",
       "    }\n",
       "</style>\n",
       "<table border=\"1\" class=\"dataframe\">\n",
       "  <thead>\n",
       "    <tr style=\"text-align: right;\">\n",
       "      <th></th>\n",
       "      <th>e_nopool</th>\n",
       "      <th>e_partpool</th>\n",
       "    </tr>\n",
       "    <tr>\n",
       "      <th>Ni</th>\n",
       "      <th></th>\n",
       "      <th></th>\n",
       "    </tr>\n",
       "  </thead>\n",
       "  <tbody>\n",
       "    <tr>\n",
       "      <th>5.0</th>\n",
       "      <td>0.172503</td>\n",
       "      <td>0.163210</td>\n",
       "    </tr>\n",
       "    <tr>\n",
       "      <th>10.0</th>\n",
       "      <td>0.086264</td>\n",
       "      <td>0.062703</td>\n",
       "    </tr>\n",
       "    <tr>\n",
       "      <th>25.0</th>\n",
       "      <td>0.077597</td>\n",
       "      <td>0.072147</td>\n",
       "    </tr>\n",
       "    <tr>\n",
       "      <th>35.0</th>\n",
       "      <td>0.044956</td>\n",
       "      <td>0.040197</td>\n",
       "    </tr>\n",
       "  </tbody>\n",
       "</table>\n",
       "</div>"
      ],
      "text/plain": [
       "      e_nopool  e_partpool\n",
       "Ni                        \n",
       "5.0   0.172503    0.163210\n",
       "10.0  0.086264    0.062703\n",
       "25.0  0.077597    0.072147\n",
       "35.0  0.044956    0.040197"
      ]
     },
     "execution_count": 101,
     "metadata": {},
     "output_type": "execute_result"
    }
   ],
   "source": [
    "dsim[['Ni', 'e_nopool', 'e_partpool']].groupby('Ni').mean()"
   ]
  },
  {
   "cell_type": "code",
   "execution_count": null,
   "metadata": {},
   "outputs": [],
   "source": []
  },
  {
   "cell_type": "code",
   "execution_count": 104,
   "metadata": {},
   "outputs": [],
   "source": [
    "d = pd.read_csv('data/chimpanzees.csv', sep=';')"
   ]
  },
  {
   "cell_type": "code",
   "execution_count": 105,
   "metadata": {},
   "outputs": [
    {
     "data": {
      "text/html": [
       "<div>\n",
       "<style scoped>\n",
       "    .dataframe tbody tr th:only-of-type {\n",
       "        vertical-align: middle;\n",
       "    }\n",
       "\n",
       "    .dataframe tbody tr th {\n",
       "        vertical-align: top;\n",
       "    }\n",
       "\n",
       "    .dataframe thead th {\n",
       "        text-align: right;\n",
       "    }\n",
       "</style>\n",
       "<table border=\"1\" class=\"dataframe\">\n",
       "  <thead>\n",
       "    <tr style=\"text-align: right;\">\n",
       "      <th></th>\n",
       "      <th>actor</th>\n",
       "      <th>recipient</th>\n",
       "      <th>condition</th>\n",
       "      <th>block</th>\n",
       "      <th>trial</th>\n",
       "      <th>prosoc_left</th>\n",
       "      <th>chose_prosoc</th>\n",
       "      <th>pulled_left</th>\n",
       "    </tr>\n",
       "  </thead>\n",
       "  <tbody>\n",
       "    <tr>\n",
       "      <th>85</th>\n",
       "      <td>2</td>\n",
       "      <td>NaN</td>\n",
       "      <td>0</td>\n",
       "      <td>3</td>\n",
       "      <td>27</td>\n",
       "      <td>0</td>\n",
       "      <td>0</td>\n",
       "      <td>1</td>\n",
       "    </tr>\n",
       "    <tr>\n",
       "      <th>353</th>\n",
       "      <td>5</td>\n",
       "      <td>4.0</td>\n",
       "      <td>1</td>\n",
       "      <td>5</td>\n",
       "      <td>59</td>\n",
       "      <td>0</td>\n",
       "      <td>0</td>\n",
       "      <td>1</td>\n",
       "    </tr>\n",
       "    <tr>\n",
       "      <th>127</th>\n",
       "      <td>2</td>\n",
       "      <td>7.0</td>\n",
       "      <td>1</td>\n",
       "      <td>4</td>\n",
       "      <td>38</td>\n",
       "      <td>0</td>\n",
       "      <td>0</td>\n",
       "      <td>1</td>\n",
       "    </tr>\n",
       "    <tr>\n",
       "      <th>18</th>\n",
       "      <td>1</td>\n",
       "      <td>NaN</td>\n",
       "      <td>0</td>\n",
       "      <td>4</td>\n",
       "      <td>38</td>\n",
       "      <td>1</td>\n",
       "      <td>1</td>\n",
       "      <td>1</td>\n",
       "    </tr>\n",
       "    <tr>\n",
       "      <th>405</th>\n",
       "      <td>6</td>\n",
       "      <td>2.0</td>\n",
       "      <td>1</td>\n",
       "      <td>2</td>\n",
       "      <td>19</td>\n",
       "      <td>1</td>\n",
       "      <td>1</td>\n",
       "      <td>1</td>\n",
       "    </tr>\n",
       "  </tbody>\n",
       "</table>\n",
       "</div>"
      ],
      "text/plain": [
       "     actor  recipient  condition  block  trial  prosoc_left  chose_prosoc  \\\n",
       "85       2        NaN          0      3     27            0             0   \n",
       "353      5        4.0          1      5     59            0             0   \n",
       "127      2        7.0          1      4     38            0             0   \n",
       "18       1        NaN          0      4     38            1             1   \n",
       "405      6        2.0          1      2     19            1             1   \n",
       "\n",
       "     pulled_left  \n",
       "85             1  \n",
       "353            1  \n",
       "127            1  \n",
       "18             1  \n",
       "405            1  "
      ]
     },
     "execution_count": 105,
     "metadata": {},
     "output_type": "execute_result"
    }
   ],
   "source": [
    "d.sample(5)"
   ]
  },
  {
   "cell_type": "code",
   "execution_count": 120,
   "metadata": {},
   "outputs": [],
   "source": [
    "treat_lookup = d.groupby(['prosoc_left', 'condition'])['actor'].count().reset_index().reset_index().rename(columns={'index':'treatment'}).drop(columns='actor')\n",
    "d = pd.merge(d, treat_lookup, on=['prosoc_left', 'condition'])"
   ]
  },
  {
   "cell_type": "code",
   "execution_count": 119,
   "metadata": {},
   "outputs": [
    {
     "data": {
      "text/html": [
       "<div>\n",
       "<style scoped>\n",
       "    .dataframe tbody tr th:only-of-type {\n",
       "        vertical-align: middle;\n",
       "    }\n",
       "\n",
       "    .dataframe tbody tr th {\n",
       "        vertical-align: top;\n",
       "    }\n",
       "\n",
       "    .dataframe thead th {\n",
       "        text-align: right;\n",
       "    }\n",
       "</style>\n",
       "<table border=\"1\" class=\"dataframe\">\n",
       "  <thead>\n",
       "    <tr style=\"text-align: right;\">\n",
       "      <th></th>\n",
       "      <th>treatment</th>\n",
       "      <th>prosoc_left</th>\n",
       "      <th>condition</th>\n",
       "    </tr>\n",
       "  </thead>\n",
       "  <tbody>\n",
       "    <tr>\n",
       "      <th>0</th>\n",
       "      <td>0</td>\n",
       "      <td>0</td>\n",
       "      <td>0</td>\n",
       "    </tr>\n",
       "    <tr>\n",
       "      <th>1</th>\n",
       "      <td>1</td>\n",
       "      <td>0</td>\n",
       "      <td>1</td>\n",
       "    </tr>\n",
       "    <tr>\n",
       "      <th>2</th>\n",
       "      <td>2</td>\n",
       "      <td>1</td>\n",
       "      <td>0</td>\n",
       "    </tr>\n",
       "    <tr>\n",
       "      <th>3</th>\n",
       "      <td>3</td>\n",
       "      <td>1</td>\n",
       "      <td>1</td>\n",
       "    </tr>\n",
       "  </tbody>\n",
       "</table>\n",
       "</div>"
      ],
      "text/plain": [
       "   treatment  prosoc_left  condition\n",
       "0          0            0          0\n",
       "1          1            0          1\n",
       "2          2            1          0\n",
       "3          3            1          1"
      ]
     },
     "execution_count": 119,
     "metadata": {},
     "output_type": "execute_result"
    }
   ],
   "source": [
    "treat_lookup"
   ]
  },
  {
   "cell_type": "code",
   "execution_count": 128,
   "metadata": {},
   "outputs": [
    {
     "name": "stderr",
     "output_type": "stream",
     "text": [
      "sample: 100%|██████████| 1000/1000 [00:07<00:00, 134.68it/s, 15 steps of size 2.55e-01. acc. prob=0.86]\n"
     ]
    },
    {
     "name": "stdout",
     "output_type": "stream",
     "text": [
      "\n",
      "                   mean       std    median      5.0%     95.0%     n_eff     r_hat\n",
      "     alpha[0]     -0.34      0.35     -0.34     -0.97      0.14     84.92      1.00\n",
      "     alpha[1]      4.67      1.26      4.43      2.93      6.74    182.12      1.00\n",
      "     alpha[2]     -0.63      0.38     -0.62     -1.23      0.04    101.88      1.00\n",
      "     alpha[3]     -0.65      0.38     -0.65     -1.24      0.00    103.37      1.01\n",
      "     alpha[4]     -0.35      0.36     -0.38     -0.85      0.33     81.01      1.01\n",
      "     alpha[5]      0.61      0.37      0.61     -0.03      1.20     93.96      1.00\n",
      "     alpha[6]      2.12      0.43      2.12      1.47      2.86     94.48      1.00\n",
      "   alpha_mean      0.62      0.69      0.64     -0.46      1.69    381.50      1.00\n",
      "  alpha_sigma      2.00      0.64      1.87      1.17      3.03    261.17      1.00\n",
      "      beta[0]     -0.16      0.32     -0.17     -0.62      0.38     98.80      1.00\n",
      "      beta[1]     -0.51      0.30     -0.51     -0.97     -0.05     89.18      1.00\n",
      "      beta[2]      0.37      0.31      0.36     -0.15      0.85     82.32      1.00\n",
      "      beta[3]      0.24      0.31      0.24     -0.30      0.70     87.25      1.00\n",
      "     gamma[0]     -0.18      0.21     -0.14     -0.54      0.13    295.97      1.01\n",
      "     gamma[1]      0.06      0.19      0.03     -0.24      0.36    187.45      1.01\n",
      "     gamma[2]      0.07      0.18      0.04     -0.21      0.37    306.24      1.00\n",
      "     gamma[3]      0.02      0.19      0.01     -0.27      0.32    188.49      1.01\n",
      "     gamma[4]     -0.02      0.19     -0.02     -0.33      0.31    276.19      1.01\n",
      "     gamma[5]      0.14      0.21      0.09     -0.17      0.46    157.01      1.01\n",
      "  gamma_sigma      0.23      0.16      0.19      0.04      0.45     62.86      1.00\n",
      "\n",
      "Number of divergences: 5\n"
     ]
    }
   ],
   "source": [
    "def model(actor, block, treatment, pulled_left=None):\n",
    "    num_actors = len(np.unique(actor))\n",
    "    num_blocks = len(np.unique(block))\n",
    "\n",
    "    alpha_mean = numpyro.sample('alpha_mean', dist.Normal(0,1.5))\n",
    "    alpha_sigma = numpyro.sample('alpha_sigma', dist.Exponential(1))\n",
    "    alpha = numpyro.sample('alpha', dist.Normal(alpha_mean, alpha_sigma).expand([num_actors,]))\n",
    "\n",
    "    #gamma_mean = numpyro.sample('gamma_mean', dist.Normal(0,1))\n",
    "    gamma_sigma = numpyro.sample('gamma_sigma', dist.Exponential(1))\n",
    "    gamma = numpyro.sample('gamma', dist.Normal(0, gamma_sigma).expand([num_blocks,]))\n",
    "\n",
    "    beta = numpyro.sample('beta', dist.Normal(0,0.5).expand([4,]))\n",
    "\n",
    "    logit = alpha[actor] + gamma[block] + beta[treatment]\n",
    "\n",
    "    results = numpyro.sample('result', dist.BernoulliLogits(logit), obs=pulled_left)\n",
    "\n",
    "m13_4 = MCMC(NUTS(model), num_warmup=500, num_samples=500)\n",
    "m13_4.run(random.PRNGKey(0), actor=d.actor.values-1, block=d.block.values-1, treatment=d.treatment.values, pulled_left=d.pulled_left.values)\n",
    "m13_4.print_summary()"
   ]
  },
  {
   "cell_type": "code",
   "execution_count": 129,
   "metadata": {},
   "outputs": [
    {
     "data": {
      "text/plain": [
       "array([<AxesSubplot:title={'center':'94.0% HDI'}>], dtype=object)"
      ]
     },
     "execution_count": 129,
     "metadata": {},
     "output_type": "execute_result"
    },
    {
     "data": {
      "image/png": "[encoded data removed]",
      "text/plain": [
       "<Figure size 432x792 with 1 Axes>"
      ]
     },
     "metadata": {
      "needs_background": "light"
     },
     "output_type": "display_data"
    }
   ],
   "source": [
    "az13_4 = az.from_numpyro(m13_4)\n",
    "az.plot_forest(az13_4)"
   ]
  },
  {
   "cell_type": "code",
   "execution_count": null,
   "metadata": {},
   "outputs": [],
   "source": []
  },
  {
   "cell_type": "code",
   "execution_count": 130,
   "metadata": {},
   "outputs": [
    {
     "name": "stderr",
     "output_type": "stream",
     "text": [
      "sample: 100%|██████████| 1000/1000 [00:04<00:00, 217.33it/s, 1 steps of size 2.29e-01. acc. prob=0.74]\n"
     ]
    },
    {
     "name": "stdout",
     "output_type": "stream",
     "text": [
      "\n",
      "                mean       std    median      5.0%     95.0%     n_eff     r_hat\n",
      "         v      2.81      1.69      2.88      0.08      5.13     15.14      1.04\n",
      "         x     -4.27     76.43     -0.12   -123.25    128.06     26.92      1.09\n",
      "\n",
      "Number of divergences: 47\n"
     ]
    }
   ],
   "source": [
    "# Devi's funnel\n",
    "\n",
    "def model():\n",
    "    v = numpyro.sample('v', dist.Normal(0,3))\n",
    "    x = numpyro.sample('x', dist.Normal(0,jnp.exp(v)))\n",
    "\n",
    "m13_5 = MCMC(NUTS(model), num_warmup=500, num_samples=500)\n",
    "m13_5.run(random.PRNGKey(0))\n",
    "m13_5.print_summary()"
   ]
  },
  {
   "cell_type": "code",
   "execution_count": 131,
   "metadata": {},
   "outputs": [
    {
     "data": {
      "text/plain": [
       "array([[<AxesSubplot:title={'center':'v'}>,\n",
       "        <AxesSubplot:title={'center':'v'}>],\n",
       "       [<AxesSubplot:title={'center':'x'}>,\n",
       "        <AxesSubplot:title={'center':'x'}>]], dtype=object)"
      ]
     },
     "execution_count": 131,
     "metadata": {},
     "output_type": "execute_result"
    },
    {
     "data": {
      "image/png": "[encoded data removed]",
      "text/plain": [
       "<Figure size 864x288 with 4 Axes>"
      ]
     },
     "metadata": {
      "needs_background": "light"
     },
     "output_type": "display_data"
    }
   ],
   "source": [
    "az13_5 = az.from_numpyro(m13_5)\n",
    "az.plot_trace(az13_5)"
   ]
  },
  {
   "cell_type": "code",
   "execution_count": 133,
   "metadata": {},
   "outputs": [
    {
     "name": "stderr",
     "output_type": "stream",
     "text": [
      "sample: 100%|██████████| 1000/1000 [00:07<00:00, 126.65it/s, 7 steps of size 8.31e-01. acc. prob=0.93]\n"
     ]
    },
    {
     "name": "stdout",
     "output_type": "stream",
     "text": [
      "\n",
      "                mean       std    median      5.0%     95.0%     n_eff     r_hat\n",
      "         v      0.26      2.86      0.15     -4.70      4.65    280.55      1.00\n",
      "         z     -0.03      1.00     -0.03     -1.51      1.73    494.27      1.00\n",
      "\n",
      "Number of divergences: 0\n"
     ]
    }
   ],
   "source": [
    "# Non-centred parameterization\n",
    "\n",
    "def model():\n",
    "    v = numpyro.sample('v', dist.Normal(0,3))\n",
    "    z = numpyro.sample('z', dist.Normal(0,1))\n",
    "    x = numpyro.deterministic('x', z*jnp.exp(v))\n",
    "\n",
    "m13_6 = MCMC(NUTS(model), num_warmup=500, num_samples=500)\n",
    "m13_6.run(random.PRNGKey(0))\n",
    "m13_6.print_summary()"
   ]
  },
  {
   "cell_type": "code",
   "execution_count": 134,
   "metadata": {},
   "outputs": [
    {
     "data": {
      "text/plain": [
       "array([[<AxesSubplot:title={'center':'v'}>,\n",
       "        <AxesSubplot:title={'center':'v'}>],\n",
       "       [<AxesSubplot:title={'center':'x'}>,\n",
       "        <AxesSubplot:title={'center':'x'}>],\n",
       "       [<AxesSubplot:title={'center':'z'}>,\n",
       "        <AxesSubplot:title={'center':'z'}>]], dtype=object)"
      ]
     },
     "execution_count": 134,
     "metadata": {},
     "output_type": "execute_result"
    },
    {
     "data": {
      "image/png": "[encoded data removed]",
      "text/plain": [
       "<Figure size 864x432 with 6 Axes>"
      ]
     },
     "metadata": {
      "needs_background": "light"
     },
     "output_type": "display_data"
    }
   ],
   "source": [
    "az13_6 = az.from_numpyro(m13_6)\n",
    "az.plot_trace(az13_6)"
   ]
  },
  {
   "cell_type": "code",
   "execution_count": 135,
   "metadata": {},
   "outputs": [
    {
     "data": {
      "text/plain": [
       "array([[<AxesSubplot:ylabel='x'>, <AxesSubplot:>],\n",
       "       [<AxesSubplot:xlabel='v', ylabel='z'>, <AxesSubplot:xlabel='x'>]],\n",
       "      dtype=object)"
      ]
     },
     "execution_count": 135,
     "metadata": {},
     "output_type": "execute_result"
    },
    {
     "data": {
      "image/png": "[encoded data removed]",
      "text/plain": [
       "<Figure size 993.6x662.4 with 3 Axes>"
      ]
     },
     "metadata": {
      "needs_background": "light"
     },
     "output_type": "display_data"
    }
   ],
   "source": [
    "az.plot_pair(az13_6)"
   ]
  },
  {
   "cell_type": "code",
   "execution_count": 138,
   "metadata": {},
   "outputs": [
    {
     "data": {
      "text/plain": [
       "dict_keys(['v', 'x', 'z'])"
      ]
     },
     "execution_count": 138,
     "metadata": {},
     "output_type": "execute_result"
    }
   ],
   "source": [
    "m13_6.get_samples().keys()"
   ]
  },
  {
   "cell_type": "code",
   "execution_count": 147,
   "metadata": {},
   "outputs": [
    {
     "data": {
      "text/html": [
       "<div><svg style=\"position: absolute; width: 0; height: 0; overflow: hidden\">\n",
       "<defs>\n",
       "<symbol id=\"icon-database\" viewBox=\"0 0 32 32\">\n",
       "<path d=\"M16 0c-8.837 0-16 2.239-16 5v4c0 2.761 7.163 5 16 5s16-2.239 16-5v-4c0-2.761-7.163-5-16-5z\"></path>\n",
       "<path d=\"M16 17c-8.837 0-16-2.239-16-5v6c0 2.761 7.163 5 16 5s16-2.239 16-5v-6c0 2.761-7.163 5-16 5z\"></path>\n",
       "<path d=\"M16 26c-8.837 0-16-2.239-16-5v6c0 2.761 7.163 5 16 5s16-2.239 16-5v-6c0 2.761-7.163 5-16 5z\"></path>\n",
       "</symbol>\n",
       "<symbol id=\"icon-file-text2\" viewBox=\"0 0 32 32\">\n",
       "<path d=\"M28.681 7.159c-0.694-0.947-1.662-2.053-2.724-3.116s-2.169-2.030-3.116-2.724c-1.612-1.182-2.393-1.319-2.841-1.319h-15.5c-1.378 0-2.5 1.121-2.5 2.5v27c0 1.378 1.122 2.5 2.5 2.5h23c1.378 0 2.5-1.122 2.5-2.5v-19.5c0-0.448-0.137-1.23-1.319-2.841zM24.543 5.457c0.959 0.959 1.712 1.825 2.268 2.543h-4.811v-4.811c0.718 0.556 1.584 1.309 2.543 2.268zM28 29.5c0 0.271-0.229 0.5-0.5 0.5h-23c-0.271 0-0.5-0.229-0.5-0.5v-27c0-0.271 0.229-0.5 0.5-0.5 0 0 15.499-0 15.5 0v7c0 0.552 0.448 1 1 1h7v19.5z\"></path>\n",
       "<path d=\"M23 26h-14c-0.552 0-1-0.448-1-1s0.448-1 1-1h14c0.552 0 1 0.448 1 1s-0.448 1-1 1z\"></path>\n",
       "<path d=\"M23 22h-14c-0.552 0-1-0.448-1-1s0.448-1 1-1h14c0.552 0 1 0.448 1 1s-0.448 1-1 1z\"></path>\n",
       "<path d=\"M23 18h-14c-0.552 0-1-0.448-1-1s0.448-1 1-1h14c0.552 0 1 0.448 1 1s-0.448 1-1 1z\"></path>\n",
       "</symbol>\n",
       "</defs>\n",
       "</svg>\n",
       "<style>/* CSS stylesheet for displaying xarray objects in jupyterlab.\n",
       " *\n",
       " */\n",
       "\n",
       ":root {\n",
       "  --xr-font-color0: var(--jp-content-font-color0, rgba(0, 0, 0, 1));\n",
       "  --xr-font-color2: var(--jp-content-font-color2, rgba(0, 0, 0, 0.54));\n",
       "  --xr-font-color3: var(--jp-content-font-color3, rgba(0, 0, 0, 0.38));\n",
       "  --xr-border-color: var(--jp-border-color2, #e0e0e0);\n",
       "  --xr-disabled-color: var(--jp-layout-color3, #bdbdbd);\n",
       "  --xr-background-color: var(--jp-layout-color0, white);\n",
       "  --xr-background-color-row-even: var(--jp-layout-color1, white);\n",
       "  --xr-background-color-row-odd: var(--jp-layout-color2, #eeeeee);\n",
       "}\n",
       "\n",
       "html[theme=dark],\n",
       "body.vscode-dark {\n",
       "  --xr-font-color0: rgba(255, 255, 255, 1);\n",
       "  --xr-font-color2: rgba(255, 255, 255, 0.54);\n",
       "  --xr-font-color3: rgba(255, 255, 255, 0.38);\n",
       "  --xr-border-color: #1F1F1F;\n",
       "  --xr-disabled-color: #515151;\n",
       "  --xr-background-color: #111111;\n",
       "  --xr-background-color-row-even: #111111;\n",
       "  --xr-background-color-row-odd: #313131;\n",
       "}\n",
       "\n",
       ".xr-wrap {\n",
       "  display: block !important;\n",
       "  min-width: 300px;\n",
       "  max-width: 700px;\n",
       "}\n",
       "\n",
       ".xr-text-repr-fallback {\n",
       "  /* fallback to plain text repr when CSS is not injected (untrusted notebook) */\n",
       "  display: none;\n",
       "}\n",
       "\n",
       ".xr-header {\n",
       "  padding-top: 6px;\n",
       "  padding-bottom: 6px;\n",
       "  margin-bottom: 4px;\n",
       "  border-bottom: solid 1px var(--xr-border-color);\n",
       "}\n",
       "\n",
       ".xr-header > div,\n",
       ".xr-header > ul {\n",
       "  display: inline;\n",
       "  margin-top: 0;\n",
       "  margin-bottom: 0;\n",
       "}\n",
       "\n",
       ".xr-obj-type,\n",
       ".xr-array-name {\n",
       "  margin-left: 2px;\n",
       "  margin-right: 10px;\n",
       "}\n",
       "\n",
       ".xr-obj-type {\n",
       "  color: var(--xr-font-color2);\n",
       "}\n",
       "\n",
       ".xr-sections {\n",
       "  padding-left: 0 !important;\n",
       "  display: grid;\n",
       "  grid-template-columns: 150px auto auto 1fr 20px 20px;\n",
       "}\n",
       "\n",
       ".xr-section-item {\n",
       "  display: contents;\n",
       "}\n",
       "\n",
       ".xr-section-item input {\n",
       "  display: none;\n",
       "}\n",
       "\n",
       ".xr-section-item input + label {\n",
       "  color: var(--xr-disabled-color);\n",
       "}\n",
       "\n",
       ".xr-section-item input:enabled + label {\n",
       "  cursor: pointer;\n",
       "  color: var(--xr-font-color2);\n",
       "}\n",
       "\n",
       ".xr-section-item input:enabled + label:hover {\n",
       "  color: var(--xr-font-color0);\n",
       "}\n",
       "\n",
       ".xr-section-summary {\n",
       "  grid-column: 1;\n",
       "  color: var(--xr-font-color2);\n",
       "  font-weight: 500;\n",
       "}\n",
       "\n",
       ".xr-section-summary > span {\n",
       "  display: inline-block;\n",
       "  padding-left: 0.5em;\n",
       "}\n",
       "\n",
       ".xr-section-summary-in:disabled + label {\n",
       "  color: var(--xr-font-color2);\n",
       "}\n",
       "\n",
       ".xr-section-summary-in + label:before {\n",
       "  display: inline-block;\n",
       "  content: '►';\n",
       "  font-size: 11px;\n",
       "  width: 15px;\n",
       "  text-align: center;\n",
       "}\n",
       "\n",
       ".xr-section-summary-in:disabled + label:before {\n",
       "  color: var(--xr-disabled-color);\n",
       "}\n",
       "\n",
       ".xr-section-summary-in:checked + label:before {\n",
       "  content: '▼';\n",
       "}\n",
       "\n",
       ".xr-section-summary-in:checked + label > span {\n",
       "  display: none;\n",
       "}\n",
       "\n",
       ".xr-section-summary,\n",
       ".xr-section-inline-details {\n",
       "  padding-top: 4px;\n",
       "  padding-bottom: 4px;\n",
       "}\n",
       "\n",
       ".xr-section-inline-details {\n",
       "  grid-column: 2 / -1;\n",
       "}\n",
       "\n",
       ".xr-section-details {\n",
       "  display: none;\n",
       "  grid-column: 1 / -1;\n",
       "  margin-bottom: 5px;\n",
       "}\n",
       "\n",
       ".xr-section-summary-in:checked ~ .xr-section-details {\n",
       "  display: contents;\n",
       "}\n",
       "\n",
       ".xr-array-wrap {\n",
       "  grid-column: 1 / -1;\n",
       "  display: grid;\n",
       "  grid-template-columns: 20px auto;\n",
       "}\n",
       "\n",
       ".xr-array-wrap > label {\n",
       "  grid-column: 1;\n",
       "  vertical-align: top;\n",
       "}\n",
       "\n",
       ".xr-preview {\n",
       "  color: var(--xr-font-color3);\n",
       "}\n",
       "\n",
       ".xr-array-preview,\n",
       ".xr-array-data {\n",
       "  padding: 0 5px !important;\n",
       "  grid-column: 2;\n",
       "}\n",
       "\n",
       ".xr-array-data,\n",
       ".xr-array-in:checked ~ .xr-array-preview {\n",
       "  display: none;\n",
       "}\n",
       "\n",
       ".xr-array-in:checked ~ .xr-array-data,\n",
       ".xr-array-preview {\n",
       "  display: inline-block;\n",
       "}\n",
       "\n",
       ".xr-dim-list {\n",
       "  display: inline-block !important;\n",
       "  list-style: none;\n",
       "  padding: 0 !important;\n",
       "  margin: 0;\n",
       "}\n",
       "\n",
       ".xr-dim-list li {\n",
       "  display: inline-block;\n",
       "  padding: 0;\n",
       "  margin: 0;\n",
       "}\n",
       "\n",
       ".xr-dim-list:before {\n",
       "  content: '(';\n",
       "}\n",
       "\n",
       ".xr-dim-list:after {\n",
       "  content: ')';\n",
       "}\n",
       "\n",
       ".xr-dim-list li:not(:last-child):after {\n",
       "  content: ',';\n",
       "  padding-right: 5px;\n",
       "}\n",
       "\n",
       ".xr-has-index {\n",
       "  font-weight: bold;\n",
       "}\n",
       "\n",
       ".xr-var-list,\n",
       ".xr-var-item {\n",
       "  display: contents;\n",
       "}\n",
       "\n",
       ".xr-var-item > div,\n",
       ".xr-var-item label,\n",
       ".xr-var-item > .xr-var-name span {\n",
       "  background-color: var(--xr-background-color-row-even);\n",
       "  margin-bottom: 0;\n",
       "}\n",
       "\n",
       ".xr-var-item > .xr-var-name:hover span {\n",
       "  padding-right: 5px;\n",
       "}\n",
       "\n",
       ".xr-var-list > li:nth-child(odd) > div,\n",
       ".xr-var-list > li:nth-child(odd) > label,\n",
       ".xr-var-list > li:nth-child(odd) > .xr-var-name span {\n",
       "  background-color: var(--xr-background-color-row-odd);\n",
       "}\n",
       "\n",
       ".xr-var-name {\n",
       "  grid-column: 1;\n",
       "}\n",
       "\n",
       ".xr-var-dims {\n",
       "  grid-column: 2;\n",
       "}\n",
       "\n",
       ".xr-var-dtype {\n",
       "  grid-column: 3;\n",
       "  text-align: right;\n",
       "  color: var(--xr-font-color2);\n",
       "}\n",
       "\n",
       ".xr-var-preview {\n",
       "  grid-column: 4;\n",
       "}\n",
       "\n",
       ".xr-var-name,\n",
       ".xr-var-dims,\n",
       ".xr-var-dtype,\n",
       ".xr-preview,\n",
       ".xr-attrs dt {\n",
       "  white-space: nowrap;\n",
       "  overflow: hidden;\n",
       "  text-overflow: ellipsis;\n",
       "  padding-right: 10px;\n",
       "}\n",
       "\n",
       ".xr-var-name:hover,\n",
       ".xr-var-dims:hover,\n",
       ".xr-var-dtype:hover,\n",
       ".xr-attrs dt:hover {\n",
       "  overflow: visible;\n",
       "  width: auto;\n",
       "  z-index: 1;\n",
       "}\n",
       "\n",
       ".xr-var-attrs,\n",
       ".xr-var-data {\n",
       "  display: none;\n",
       "  background-color: var(--xr-background-color) !important;\n",
       "  padding-bottom: 5px !important;\n",
       "}\n",
       "\n",
       ".xr-var-attrs-in:checked ~ .xr-var-attrs,\n",
       ".xr-var-data-in:checked ~ .xr-var-data {\n",
       "  display: block;\n",
       "}\n",
       "\n",
       ".xr-var-data > table {\n",
       "  float: right;\n",
       "}\n",
       "\n",
       ".xr-var-name span,\n",
       ".xr-var-data,\n",
       ".xr-attrs {\n",
       "  padding-left: 25px !important;\n",
       "}\n",
       "\n",
       ".xr-attrs,\n",
       ".xr-var-attrs,\n",
       ".xr-var-data {\n",
       "  grid-column: 1 / -1;\n",
       "}\n",
       "\n",
       "dl.xr-attrs {\n",
       "  padding: 0;\n",
       "  margin: 0;\n",
       "  display: grid;\n",
       "  grid-template-columns: 125px auto;\n",
       "}\n",
       "\n",
       ".xr-attrs dt,\n",
       ".xr-attrs dd {\n",
       "  padding: 0;\n",
       "  margin: 0;\n",
       "  float: left;\n",
       "  padding-right: 10px;\n",
       "  width: auto;\n",
       "}\n",
       "\n",
       ".xr-attrs dt {\n",
       "  font-weight: normal;\n",
       "  grid-column: 1;\n",
       "}\n",
       "\n",
       ".xr-attrs dt:hover span {\n",
       "  display: inline-block;\n",
       "  background: var(--xr-background-color);\n",
       "  padding-right: 10px;\n",
       "}\n",
       "\n",
       ".xr-attrs dd {\n",
       "  grid-column: 2;\n",
       "  white-space: pre-wrap;\n",
       "  word-break: break-all;\n",
       "}\n",
       "\n",
       ".xr-icon-database,\n",
       ".xr-icon-file-text2 {\n",
       "  display: inline-block;\n",
       "  vertical-align: middle;\n",
       "  width: 1em;\n",
       "  height: 1.5em !important;\n",
       "  stroke-width: 0;\n",
       "  stroke: currentColor;\n",
       "  fill: currentColor;\n",
       "}\n",
       "</style><pre class='xr-text-repr-fallback'>&lt;xarray.Dataset&gt;\n",
       "Dimensions:  (draw: 500)\n",
       "Coordinates:\n",
       "    chain    int64 0\n",
       "  * draw     (draw) int64 0 1 2 3 4 5 6 7 8 ... 492 493 494 495 496 497 498 499\n",
       "Data variables:\n",
       "    x        (draw) float32 0.4807 -0.1257 -0.1257 1.18 ... 0.254 -0.1891 2.303\n",
       "    v        (draw) float32 1.382 -0.1473 -0.1473 0.9584 ... -1.272 -1.6 0.8259\n",
       "Attributes:\n",
       "    created_at:                 2022-02-03T11:46:34.147888\n",
       "    arviz_version:              0.11.4\n",
       "    inference_library:          numpyro\n",
       "    inference_library_version:  0.8.0</pre><div class='xr-wrap' style='display:none'><div class='xr-header'><div class='xr-obj-type'>xarray.Dataset</div></div><ul class='xr-sections'><li class='xr-section-item'><input id='section-e43f73e2-226d-41a2-a40b-fd08307f9e85' class='xr-section-summary-in' type='checkbox' disabled ><label for='section-e43f73e2-226d-41a2-a40b-fd08307f9e85' class='xr-section-summary'  title='Expand/collapse section'>Dimensions:</label><div class='xr-section-inline-details'><ul class='xr-dim-list'><li><span class='xr-has-index'>draw</span>: 500</li></ul></div><div class='xr-section-details'></div></li><li class='xr-section-item'><input id='section-821bd3a7-1081-436d-9539-6c40c0fd5ea6' class='xr-section-summary-in' type='checkbox'  checked><label for='section-821bd3a7-1081-436d-9539-6c40c0fd5ea6' class='xr-section-summary' >Coordinates: <span>(2)</span></label><div class='xr-section-inline-details'></div><div class='xr-section-details'><ul class='xr-var-list'><li class='xr-var-item'><div class='xr-var-name'><span>chain</span></div><div class='xr-var-dims'>()</div><div class='xr-var-dtype'>int64</div><div class='xr-var-preview xr-preview'>0</div><input id='attrs-e6994d48-bfe8-4baa-8169-5a22f9423468' class='xr-var-attrs-in' type='checkbox' disabled><label for='attrs-e6994d48-bfe8-4baa-8169-5a22f9423468' title='Show/Hide attributes'><svg class='icon xr-icon-file-text2'><use xlink:href='#icon-file-text2'></use></svg></label><input id='data-b581f986-dc36-4214-ba0e-90f76db8364b' class='xr-var-data-in' type='checkbox'><label for='data-b581f986-dc36-4214-ba0e-90f76db8364b' title='Show/Hide data repr'><svg class='icon xr-icon-database'><use xlink:href='#icon-database'></use></svg></label><div class='xr-var-attrs'><dl class='xr-attrs'></dl></div><div class='xr-var-data'><pre>array(0)</pre></div></li><li class='xr-var-item'><div class='xr-var-name'><span class='xr-has-index'>draw</span></div><div class='xr-var-dims'>(draw)</div><div class='xr-var-dtype'>int64</div><div class='xr-var-preview xr-preview'>0 1 2 3 4 5 ... 495 496 497 498 499</div><input id='attrs-123c48dc-1cee-40a9-badd-c1f51be31445' class='xr-var-attrs-in' type='checkbox' disabled><label for='attrs-123c48dc-1cee-40a9-badd-c1f51be31445' title='Show/Hide attributes'><svg class='icon xr-icon-file-text2'><use xlink:href='#icon-file-text2'></use></svg></label><input id='data-cd75c33d-a43a-4f74-8aa5-f9a4428c9e89' class='xr-var-data-in' type='checkbox'><label for='data-cd75c33d-a43a-4f74-8aa5-f9a4428c9e89' title='Show/Hide data repr'><svg class='icon xr-icon-database'><use xlink:href='#icon-database'></use></svg></label><div class='xr-var-attrs'><dl class='xr-attrs'></dl></div><div class='xr-var-data'><pre>array([  0,   1,   2, ..., 497, 498, 499])</pre></div></li></ul></div></li><li class='xr-section-item'><input id='section-571cf126-d216-429e-b587-29dbd4970441' class='xr-section-summary-in' type='checkbox'  checked><label for='section-571cf126-d216-429e-b587-29dbd4970441' class='xr-section-summary' >Data variables: <span>(2)</span></label><div class='xr-section-inline-details'></div><div class='xr-section-details'><ul class='xr-var-list'><li class='xr-var-item'><div class='xr-var-name'><span>x</span></div><div class='xr-var-dims'>(draw)</div><div class='xr-var-dtype'>float32</div><div class='xr-var-preview xr-preview'>0.4807 -0.1257 ... -0.1891 2.303</div><input id='attrs-4b7bd82d-1de4-432b-b28c-9d0e286f2ff9' class='xr-var-attrs-in' type='checkbox' disabled><label for='attrs-4b7bd82d-1de4-432b-b28c-9d0e286f2ff9' title='Show/Hide attributes'><svg class='icon xr-icon-file-text2'><use xlink:href='#icon-file-text2'></use></svg></label><input id='data-a8b9c9f8-a48c-4a89-af7a-2c3d8913c9f7' class='xr-var-data-in' type='checkbox'><label for='data-a8b9c9f8-a48c-4a89-af7a-2c3d8913c9f7' title='Show/Hide data repr'><svg class='icon xr-icon-database'><use xlink:href='#icon-database'></use></svg></label><div class='xr-var-attrs'><dl class='xr-attrs'></dl></div><div class='xr-var-data'><pre>array([ 4.80676502e-01, -1.25693619e-01, -1.25693619e-01,  1.18045580e+00,\n",
       "       -7.77426839e-01,  7.50331759e-01,  9.10732365e+00,  4.45724010e+00,\n",
       "       -6.33617449e+00, -5.85528053e-02, -1.67312771e-02,  3.97349387e-01,\n",
       "        3.01038083e-02, -4.17696498e-02, -1.84284747e-01,  4.95215296e-04,\n",
       "       -1.55700660e+00,  3.68374437e-01, -1.42707139e-01, -3.41002420e-02,\n",
       "       -2.24859156e-02,  2.25579143e-02,  3.08656883e+00, -4.66600704e+00,\n",
       "       -2.63326168e+00,  3.87423560e-02, -1.09777534e+00,  1.05765400e+01,\n",
       "       -2.13856235e-01, -1.58222542e+01,  1.37336826e+01,  7.73073792e-01,\n",
       "       -1.40473485e-01,  2.17739320e+00, -1.44589722e+02,  2.89748572e-02,\n",
       "       -4.35196066e+00,  9.68202710e-01, -4.97894436e-01,  1.14750166e+01,\n",
       "       -6.00812435e-02, -1.69262085e-02, -3.11480090e-02, -2.23308206e+00,\n",
       "       -1.00482618e-02,  1.91057250e-01, -1.21324295e+02, -5.31544075e+01,\n",
       "       -2.57108192e+01, -4.13747620e+02,  5.57890125e-02, -1.48976907e-01,\n",
       "       -1.20605528e+00,  1.25511622e+00, -7.47355998e-01,  1.15345573e+00,\n",
       "        5.32074153e-01, -1.61144342e-02, -1.19675760e+01,  3.01870842e+01,\n",
       "       -2.80239353e+01, -1.56723928e+01, -9.82832336e+00, -3.41630429e-01,\n",
       "        1.04164886e+00,  2.69340016e-02, -4.56744814e+00,  1.54796585e+02,\n",
       "        2.01925710e-01,  1.95215084e-02, -7.17695653e-01,  1.49133003e+00,\n",
       "       -6.54559016e-01,  7.33766973e-01, -2.28012085e+00, -2.35479772e-02,\n",
       "        7.38480315e-03,  8.09789002e-01,  3.63470823e-01, -4.98834252e-02,\n",
       "...\n",
       "        1.24153589e+03, -2.49269664e-01, -2.64496475e-01,  2.60081589e-01,\n",
       "       -5.00840807e+00,  2.93541849e-01,  5.33336592e+00,  1.77472383e-02,\n",
       "       -6.43370390e-01, -1.12247753e+01,  9.81580466e-02, -3.89083445e-01,\n",
       "        1.94097304e+00, -3.88178676e-01,  4.78799534e+00, -1.97249889e+00,\n",
       "       -1.61608768e+00, -7.12141693e-02,  1.35503411e+00, -3.89542609e-01,\n",
       "       -2.35502930e+01,  4.70957603e+01, -1.69177399e+01,  4.25270987e+00,\n",
       "       -9.75678635e+01, -6.38248840e+02,  6.22414923e+00,  3.93243991e-02,\n",
       "        1.62988901e-01, -1.94715142e+00, -1.13522542e+00,  9.97272110e+00,\n",
       "        1.86134781e+02,  7.43006973e+01,  2.53420424e+00, -1.07804115e+02,\n",
       "        6.74299970e-02,  1.88498459e+02,  4.78594727e+02,  1.05744043e+04,\n",
       "        2.74932891e+04,  3.57785786e-04,  4.90629137e-01, -5.79931974e+00,\n",
       "        9.32414532e-02, -4.97159269e-03,  2.78286457e-01, -1.97840389e-02,\n",
       "        2.59679012e+01,  2.19287300e+01, -3.57477646e+01,  2.40622009e+02,\n",
       "        1.04788465e+01,  6.70849848e+00, -5.36504984e-02,  6.54832006e-01,\n",
       "       -8.84709263e+00,  1.14439768e-04,  4.96346533e-01, -8.68272841e-01,\n",
       "        1.44377494e+00, -3.64785820e-01, -3.75209987e-01, -1.46609173e+01,\n",
       "       -5.08167362e+00,  7.49966354e+01,  9.87407017e+00,  6.57126312e+01,\n",
       "        1.68712556e-01,  6.69648075e+00, -1.30388932e-02, -8.62233527e-03,\n",
       "       -1.35699343e-02,  2.53999680e-01, -1.89112186e-01,  2.30270290e+00],\n",
       "      dtype=float32)</pre></div></li><li class='xr-var-item'><div class='xr-var-name'><span>v</span></div><div class='xr-var-dims'>(draw)</div><div class='xr-var-dtype'>float32</div><div class='xr-var-preview xr-preview'>1.382 -0.1473 ... -1.6 0.8259</div><input id='attrs-c39e158e-788e-4a4f-b467-67a80412f8db' class='xr-var-attrs-in' type='checkbox' disabled><label for='attrs-c39e158e-788e-4a4f-b467-67a80412f8db' title='Show/Hide attributes'><svg class='icon xr-icon-file-text2'><use xlink:href='#icon-file-text2'></use></svg></label><input id='data-83f743eb-dbc8-4cfd-9f66-f77f361b93ea' class='xr-var-data-in' type='checkbox'><label for='data-83f743eb-dbc8-4cfd-9f66-f77f361b93ea' title='Show/Hide data repr'><svg class='icon xr-icon-database'><use xlink:href='#icon-database'></use></svg></label><div class='xr-var-attrs'><dl class='xr-attrs'></dl></div><div class='xr-var-data'><pre>array([ 1.3822601e+00, -1.4725535e-01, -1.4725535e-01,  9.5843196e-01,\n",
       "       -2.9614547e-01,  1.4754792e+00,  3.2986338e+00,  2.5147083e+00,\n",
       "        5.6425943e+00, -1.6750547e+00, -4.8941951e+00, -1.0434020e+00,\n",
       "       -1.8826882e+00, -3.0808487e+00, -1.5364513e+00, -4.3702745e+00,\n",
       "        2.4302799e-01, -1.3562247e-01, -1.1699710e-01, -2.4506750e+00,\n",
       "       -2.3584852e+00, -2.5335290e+00,  2.2105124e+00,  2.5560210e+00,\n",
       "        1.8011200e+00, -2.3873565e+00,  1.8772115e+00,  2.3915234e+00,\n",
       "       -8.2549208e-01,  2.0810604e+00,  2.0794215e+00, -1.1728721e+00,\n",
       "       -2.2474396e+00,  1.5997938e+00,  4.2881327e+00, -3.2861063e+00,\n",
       "        2.4113705e+00,  3.4488714e-01,  1.4567368e+00,  3.0254436e+00,\n",
       "       -3.2401567e+00, -4.6965022e+00, -3.8604646e+00,  2.1399374e+00,\n",
       "       -3.6818557e+00,  1.3226719e+00,  5.2285633e+00,  3.6011353e+00,\n",
       "        2.9331121e+00,  6.0145369e+00, -3.6667559e+00, -2.4633441e+00,\n",
       "       -3.3244145e-01, -3.0358607e-01, -3.2780939e-01, -5.6779677e-01,\n",
       "        9.0066415e-01, -1.2439601e+00,  2.3526242e+00,  2.6519022e+00,\n",
       "        2.4836202e+00,  2.2720325e+00,  1.5753598e+00, -3.2842609e-01,\n",
       "        1.9533807e+00, -1.8254466e+00,  3.3433197e+00,  5.1397500e+00,\n",
       "       -3.5460955e-01, -1.9091362e+00,  3.0880821e-01, -1.0790599e-01,\n",
       "       -4.6828756e-01,  4.0135629e-02,  1.0549232e+00, -4.1228008e-01,\n",
       "        7.7110521e-02, -3.3240739e-01, -9.8655897e-01, -2.6963427e+00,\n",
       "...\n",
       "        7.0748510e+00, -1.7141627e+00, -1.7162629e+00, -1.1486820e+00,\n",
       "        3.0673010e+00, -6.7050236e-01,  8.7235236e-01, -2.4046426e+00,\n",
       "        3.3063009e-01,  2.5098326e+00, -1.9233345e+00, -8.8331813e-01,\n",
       "        8.6450976e-01, -4.0040600e-01,  1.0769619e+00,  9.4632560e-01,\n",
       "        6.9810772e-01, -2.9063685e+00, -4.7561549e-02,  8.4778893e-01,\n",
       "        4.5412021e+00,  4.1005716e+00,  3.3456392e+00,  2.0360301e+00,\n",
       "        3.8860831e+00,  5.3386459e+00,  9.5301723e-01, -4.7560152e-01,\n",
       "       -9.8778985e-02,  5.1696420e-01,  3.1607166e-01,  2.1347227e+00,\n",
       "        4.5950222e+00,  3.8532677e+00,  2.9478102e+00,  4.5956302e+00,\n",
       "       -1.4790883e+00,  5.1935830e+00,  5.3371968e+00,  9.6070986e+00,\n",
       "        9.5480242e+00, -6.7536621e+00, -6.5815985e-01,  2.9756444e+00,\n",
       "       -3.0207233e+00, -4.9266324e+00, -1.3553799e+00,  4.0738535e+00,\n",
       "        3.9559381e+00,  4.7869735e+00,  3.8364525e+00,  5.2655587e+00,\n",
       "        2.5126400e+00,  2.5092869e+00, -2.3581357e+00, -7.6169842e-01,\n",
       "        2.2496080e+00, -7.1005969e+00, -2.3647508e-01, -9.3278810e-02,\n",
       "        9.0271860e-01, -9.7937822e-01, -1.1355948e+00,  2.4178419e+00,\n",
       "        1.3460554e+00,  4.0510888e+00,  4.0586753e+00,  6.0667562e+00,\n",
       "       -1.9491537e+00,  3.2019076e+00, -3.1256568e+00, -4.0129337e+00,\n",
       "       -4.3836846e+00, -1.2724793e+00, -1.6003910e+00,  8.2586902e-01],\n",
       "      dtype=float32)</pre></div></li></ul></div></li><li class='xr-section-item'><input id='section-bc652f37-b0cf-4d04-8f8d-744a067eec35' class='xr-section-summary-in' type='checkbox'  checked><label for='section-bc652f37-b0cf-4d04-8f8d-744a067eec35' class='xr-section-summary' >Attributes: <span>(4)</span></label><div class='xr-section-inline-details'></div><div class='xr-section-details'><dl class='xr-attrs'><dt><span>created_at :</span></dt><dd>2022-02-03T11:46:34.147888</dd><dt><span>arviz_version :</span></dt><dd>0.11.4</dd><dt><span>inference_library :</span></dt><dd>numpyro</dd><dt><span>inference_library_version :</span></dt><dd>0.8.0</dd></dl></div></li></ul></div></div>"
      ],
      "text/plain": [
       "<xarray.Dataset>\n",
       "Dimensions:  (draw: 500)\n",
       "Coordinates:\n",
       "    chain    int64 0\n",
       "  * draw     (draw) int64 0 1 2 3 4 5 6 7 8 ... 492 493 494 495 496 497 498 499\n",
       "Data variables:\n",
       "    x        (draw) float32 0.4807 -0.1257 -0.1257 1.18 ... 0.254 -0.1891 2.303\n",
       "    v        (draw) float32 1.382 -0.1473 -0.1473 0.9584 ... -1.272 -1.6 0.8259\n",
       "Attributes:\n",
       "    created_at:                 2022-02-03T11:46:34.147888\n",
       "    arviz_version:              0.11.4\n",
       "    inference_library:          numpyro\n",
       "    inference_library_version:  0.8.0"
      ]
     },
     "execution_count": 147,
     "metadata": {},
     "output_type": "execute_result"
    }
   ],
   "source": [
    "az13_6['posterior'].squeeze()[['x', 'v']]"
   ]
  },
  {
   "cell_type": "code",
   "execution_count": 152,
   "metadata": {},
   "outputs": [
    {
     "data": {
      "text/plain": [
       "<matplotlib.collections.PathCollection at 0x7fe51e01d430>"
      ]
     },
     "execution_count": 152,
     "metadata": {},
     "output_type": "execute_result"
    },
    {
     "data": {
      "image/png": "[encoded data removed]",
      "text/plain": [
       "<Figure size 432x288 with 1 Axes>"
      ]
     },
     "metadata": {
      "needs_background": "light"
     },
     "output_type": "display_data"
    }
   ],
   "source": [
    "az13_6['posterior'].squeeze()[['x', 'v']].query(draw=\"(x > -4) and (x < 4)\").plot.scatter(x='x', y='v')"
   ]
  },
  {
   "cell_type": "code",
   "execution_count": null,
   "metadata": {},
   "outputs": [],
   "source": []
  },
  {
   "cell_type": "code",
   "execution_count": null,
   "metadata": {},
   "outputs": [],
   "source": [
    "target_accept_prob=0.8"
   ]
  },
  {
   "cell_type": "code",
   "execution_count": 156,
   "metadata": {},
   "outputs": [
    {
     "name": "stderr",
     "output_type": "stream",
     "text": [
      "sample: 100%|██████████| 2500/2500 [00:10<00:00, 233.38it/s, 31 steps of size 9.76e-02. acc. prob=0.96] \n"
     ]
    },
    {
     "name": "stdout",
     "output_type": "stream",
     "text": [
      "\n",
      "                   mean       std    median      5.0%     95.0%     n_eff     r_hat\n",
      "   alpha_mean      0.64      0.74      0.63     -0.53      1.91    480.50      1.00\n",
      "  alpha_sigma      2.01      0.66      1.88      1.04      2.88    610.05      1.00\n",
      "      beta[0]     -0.12      0.31     -0.13     -0.66      0.34   1104.03      1.00\n",
      "      beta[1]     -0.47      0.30     -0.48     -0.99     -0.00   1249.96      1.00\n",
      "      beta[2]      0.40      0.30      0.41     -0.08      0.88    989.47      1.00\n",
      "      beta[3]      0.28      0.30      0.28     -0.19      0.79   1062.72      1.00\n",
      "  gamma_sigma      0.21      0.18      0.17      0.00      0.43   1058.61      1.00\n",
      " gamma_std[0]     -0.66      0.88     -0.69     -2.25      0.64   1574.42      1.00\n",
      " gamma_std[1]      0.14      0.85      0.14     -1.34      1.48   1982.22      1.00\n",
      " gamma_std[2]      0.21      0.85      0.21     -1.24      1.57   1599.10      1.00\n",
      " gamma_std[3]      0.04      0.84      0.04     -1.31      1.46   1628.37      1.00\n",
      " gamma_std[4]     -0.11      0.86     -0.11     -1.47      1.40   1697.73      1.00\n",
      " gamma_std[5]      0.46      0.90      0.48     -1.13      1.81   2083.38      1.00\n",
      " std_alpha[0]     -0.54      0.40     -0.52     -1.29      0.06    337.09      1.00\n",
      " std_alpha[1]      2.10      0.64      2.07      1.07      3.11    754.76      1.00\n",
      " std_alpha[2]     -0.71      0.42     -0.69     -1.41     -0.03    331.78      1.00\n",
      " std_alpha[3]     -0.71      0.42     -0.68     -1.41     -0.00    349.57      1.00\n",
      " std_alpha[4]     -0.54      0.40     -0.53     -1.17      0.14    332.90      1.00\n",
      " std_alpha[5]     -0.03      0.37     -0.02     -0.70      0.56    410.73      1.00\n",
      " std_alpha[6]      0.80      0.45      0.77      0.12      1.60    648.68      1.00\n",
      "\n",
      "Number of divergences: 0\n"
     ]
    }
   ],
   "source": [
    "def model(actor, block, treatment, pulled_left=None):\n",
    "    num_actors = len(np.unique(actor))\n",
    "    num_blocks = len(np.unique(block))\n",
    "\n",
    "    alpha_mean = numpyro.sample('alpha_mean', dist.Normal(0,1.5))\n",
    "    alpha_sigma = numpyro.sample('alpha_sigma', dist.Exponential(1))\n",
    "    std_alpha = numpyro.sample('std_alpha', dist.Normal(0, 1).expand([num_actors,]))\n",
    "    alpha = numpyro.deterministic('alpha', alpha_mean + alpha_sigma*std_alpha)\n",
    "\n",
    "    #gamma_mean = numpyro.sample('gamma_mean', dist.Normal(0,1))\n",
    "    gamma_sigma = numpyro.sample('gamma_sigma', dist.Exponential(1))\n",
    "    gamma_std = numpyro.sample('gamma_std', dist.Normal(0, 1).expand([num_blocks,]))\n",
    "    gamma = numpyro.deterministic('gamma', gamma_sigma*gamma_std)\n",
    "\n",
    "    beta = numpyro.sample('beta', dist.Normal(0,0.5).expand([4,]))\n",
    "\n",
    "    logit = alpha[actor] + gamma[block] + beta[treatment]\n",
    "\n",
    "    results = numpyro.sample('result', dist.BernoulliLogits(logit), obs=pulled_left)\n",
    "\n",
    "m13_7 = MCMC(NUTS(model, target_accept_prob=0.9), num_warmup=500, num_samples=2000)\n",
    "m13_7.run(random.PRNGKey(0), actor=d.actor.values-1, block=d.block.values-1, treatment=d.treatment.values, pulled_left=d.pulled_left.values)\n",
    "m13_7.print_summary()"
   ]
  },
  {
   "cell_type": "code",
   "execution_count": 157,
   "metadata": {},
   "outputs": [
    {
     "data": {
      "text/plain": [
       "array([<AxesSubplot:title={'center':'94.0% HDI'}>], dtype=object)"
      ]
     },
     "execution_count": 157,
     "metadata": {},
     "output_type": "execute_result"
    },
    {
     "data": {
      "image/png": "[encoded data removed]",
      "text/plain": [
       "<Figure size 432x1029.6 with 1 Axes>"
      ]
     },
     "metadata": {
      "needs_background": "light"
     },
     "output_type": "display_data"
    }
   ],
   "source": [
    "az13_7 = az.from_numpyro(m13_7)\n",
    "az.plot_forest(az13_7)"
   ]
  },
  {
   "cell_type": "code",
   "execution_count": null,
   "metadata": {},
   "outputs": [],
   "source": []
  },
  {
   "cell_type": "code",
   "execution_count": null,
   "metadata": {},
   "outputs": [],
   "source": []
  },
  {
   "cell_type": "code",
   "execution_count": null,
   "metadata": {},
   "outputs": [],
   "source": []
  }
 ],
 "metadata": {
  "interpreter": {
   "hash": "0789b99f4adc99188d8b4faac15be0fb9c8374a560d4c08f7e9a557c45f5c72c"
  },
  "kernelspec": {
   "display_name": "Python 3.8.10 64-bit ('venv': venv)",
   "language": "python",
   "name": "python3"
  },
  "language_info": {
   "codemirror_mode": {
    "name": "ipython",
    "version": 3
   },
   "file_extension": ".py",
   "mimetype": "text/x-python",
   "name": "python",
   "nbconvert_exporter": "python",
   "pygments_lexer": "ipython3",
   "version": "3.8.10"
  },
  "orig_nbformat": 4
 },
 "nbformat": 4,
 "nbformat_minor": 2
}
