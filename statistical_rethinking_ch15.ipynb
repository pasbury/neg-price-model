{
 "cells": [
  {
   "cell_type": "code",
   "execution_count": 1,
   "metadata": {},
   "outputs": [
    {
     "name": "stderr",
     "output_type": "stream",
     "text": [
      "/home/pasbury/neg-price-model/venv/lib/python3.8/site-packages/jax/experimental/optimizers.py:28: FutureWarning: jax.experimental.optimizers is deprecated, import jax.example_libraries.optimizers instead\n",
      "  warnings.warn('jax.experimental.optimizers is deprecated, '\n",
      "/home/pasbury/neg-price-model/venv/lib/python3.8/site-packages/jax/experimental/stax.py:28: FutureWarning: jax.experimental.stax is deprecated, import jax.example_libraries.stax instead\n",
      "  warnings.warn('jax.experimental.stax is deprecated, '\n"
     ]
    }
   ],
   "source": [
    "import numpy as np\n",
    "from numpy.random import default_rng\n",
    "import numpyro\n",
    "import numpyro.distributions as dist\n",
    "from numpyro.infer.reparam import TransformReparam, LocScaleReparam\n",
    "from numpyro.distributions.transforms import AffineTransform, OrderedTransform\n",
    "from numpyro.infer import MCMC, NUTS, Predictive, SVI, Trace_ELBO, log_likelihood\n",
    "from numpyro.infer.autoguide import AutoLaplaceApproximation\n",
    "import numpyro.optim as optim\n",
    "from numpyro import handlers\n",
    "from numpyro.handlers import mask\n",
    "from numpyro.diagnostics import effective_sample_size, print_summary\n",
    "import jax\n",
    "from jax.numpy import DeviceArray\n",
    "import jax.numpy as jnp\n",
    "from jax import random, lax\n",
    "from jax import nn as jnn\n",
    "from jax.tree_util import tree_flatten, tree_map\n",
    "from jax.scipy.special import expit\n",
    "import pandas as pd\n",
    "import matplotlib.pyplot as plt\n",
    "import arviz as az\n",
    "from sklearn.neighbors import KNeighborsRegressor\n",
    "from sklearn.model_selection import GridSearchCV\n",
    "from sklearn.model_selection import train_test_split\n",
    "from sklearn.metrics import r2_score, roc_auc_score\n",
    "from sklearn.preprocessing import StandardScaler, OrdinalEncoder\n",
    "import ete3\n"
   ]
  },
  {
   "cell_type": "code",
   "execution_count": 3,
   "metadata": {},
   "outputs": [],
   "source": [
    "d = pd.read_csv('data/WaffleDivorce.csv', sep=';')"
   ]
  },
  {
   "cell_type": "code",
   "execution_count": 6,
   "metadata": {},
   "outputs": [
    {
     "data": {
      "text/html": [
       "<div>\n",
       "<style scoped>\n",
       "    .dataframe tbody tr th:only-of-type {\n",
       "        vertical-align: middle;\n",
       "    }\n",
       "\n",
       "    .dataframe tbody tr th {\n",
       "        vertical-align: top;\n",
       "    }\n",
       "\n",
       "    .dataframe thead th {\n",
       "        text-align: right;\n",
       "    }\n",
       "</style>\n",
       "<table border=\"1\" class=\"dataframe\">\n",
       "  <thead>\n",
       "    <tr style=\"text-align: right;\">\n",
       "      <th></th>\n",
       "      <th>Location</th>\n",
       "      <th>Loc</th>\n",
       "      <th>Population</th>\n",
       "      <th>MedianAgeMarriage</th>\n",
       "      <th>Marriage</th>\n",
       "      <th>Marriage SE</th>\n",
       "      <th>Divorce</th>\n",
       "      <th>Divorce SE</th>\n",
       "      <th>WaffleHouses</th>\n",
       "      <th>South</th>\n",
       "      <th>Slaves1860</th>\n",
       "      <th>Population1860</th>\n",
       "      <th>PropSlaves1860</th>\n",
       "    </tr>\n",
       "  </thead>\n",
       "  <tbody>\n",
       "    <tr>\n",
       "      <th>12</th>\n",
       "      <td>Idaho</td>\n",
       "      <td>ID</td>\n",
       "      <td>1.57</td>\n",
       "      <td>23.2</td>\n",
       "      <td>25.8</td>\n",
       "      <td>1.84</td>\n",
       "      <td>7.7</td>\n",
       "      <td>1.05</td>\n",
       "      <td>0</td>\n",
       "      <td>0</td>\n",
       "      <td>0</td>\n",
       "      <td>0</td>\n",
       "      <td>0.0</td>\n",
       "    </tr>\n",
       "    <tr>\n",
       "      <th>8</th>\n",
       "      <td>District of Columbia</td>\n",
       "      <td>DC</td>\n",
       "      <td>0.60</td>\n",
       "      <td>29.7</td>\n",
       "      <td>17.7</td>\n",
       "      <td>2.53</td>\n",
       "      <td>6.3</td>\n",
       "      <td>1.89</td>\n",
       "      <td>0</td>\n",
       "      <td>0</td>\n",
       "      <td>0</td>\n",
       "      <td>75080</td>\n",
       "      <td>0.0</td>\n",
       "    </tr>\n",
       "    <tr>\n",
       "      <th>15</th>\n",
       "      <td>Iowa</td>\n",
       "      <td>IA</td>\n",
       "      <td>3.05</td>\n",
       "      <td>25.4</td>\n",
       "      <td>21.5</td>\n",
       "      <td>1.46</td>\n",
       "      <td>10.2</td>\n",
       "      <td>0.91</td>\n",
       "      <td>0</td>\n",
       "      <td>0</td>\n",
       "      <td>0</td>\n",
       "      <td>674913</td>\n",
       "      <td>0.0</td>\n",
       "    </tr>\n",
       "    <tr>\n",
       "      <th>45</th>\n",
       "      <td>Virginia</td>\n",
       "      <td>VA</td>\n",
       "      <td>8.00</td>\n",
       "      <td>26.4</td>\n",
       "      <td>20.5</td>\n",
       "      <td>0.83</td>\n",
       "      <td>8.9</td>\n",
       "      <td>0.52</td>\n",
       "      <td>40</td>\n",
       "      <td>1</td>\n",
       "      <td>490865</td>\n",
       "      <td>1219630</td>\n",
       "      <td>0.4</td>\n",
       "    </tr>\n",
       "    <tr>\n",
       "      <th>44</th>\n",
       "      <td>Vermont</td>\n",
       "      <td>VT</td>\n",
       "      <td>0.63</td>\n",
       "      <td>26.9</td>\n",
       "      <td>16.4</td>\n",
       "      <td>2.40</td>\n",
       "      <td>9.6</td>\n",
       "      <td>1.87</td>\n",
       "      <td>0</td>\n",
       "      <td>0</td>\n",
       "      <td>0</td>\n",
       "      <td>315098</td>\n",
       "      <td>0.0</td>\n",
       "    </tr>\n",
       "  </tbody>\n",
       "</table>\n",
       "</div>"
      ],
      "text/plain": [
       "                Location Loc  Population  MedianAgeMarriage  Marriage  \\\n",
       "12                 Idaho  ID        1.57               23.2      25.8   \n",
       "8   District of Columbia  DC        0.60               29.7      17.7   \n",
       "15                  Iowa  IA        3.05               25.4      21.5   \n",
       "45              Virginia  VA        8.00               26.4      20.5   \n",
       "44               Vermont  VT        0.63               26.9      16.4   \n",
       "\n",
       "    Marriage SE  Divorce  Divorce SE  WaffleHouses  South  Slaves1860  \\\n",
       "12         1.84      7.7        1.05             0      0           0   \n",
       "8          2.53      6.3        1.89             0      0           0   \n",
       "15         1.46     10.2        0.91             0      0           0   \n",
       "45         0.83      8.9        0.52            40      1      490865   \n",
       "44         2.40      9.6        1.87             0      0           0   \n",
       "\n",
       "    Population1860  PropSlaves1860  \n",
       "12               0             0.0  \n",
       "8            75080             0.0  \n",
       "15          674913             0.0  \n",
       "45         1219630             0.4  \n",
       "44          315098             0.0  "
      ]
     },
     "execution_count": 6,
     "metadata": {},
     "output_type": "execute_result"
    }
   ],
   "source": [
    "d.sample(5)"
   ]
  },
  {
   "cell_type": "code",
   "execution_count": 9,
   "metadata": {},
   "outputs": [
    {
     "data": {
      "text/plain": [
       "<AxesSubplot:xlabel='MedianAgeMarriage', ylabel='Divorce'>"
      ]
     },
     "execution_count": 9,
     "metadata": {},
     "output_type": "execute_result"
    },
    {
     "data": {
      "image/png": "[encoded data removed]",
      "text/plain": [
       "<Figure size 432x288 with 1 Axes>"
      ]
     },
     "metadata": {
      "needs_background": "light"
     },
     "output_type": "display_data"
    }
   ],
   "source": [
    "d.plot.scatter('MedianAgeMarriage', 'Divorce', yerr='Divorce SE')"
   ]
  },
  {
   "cell_type": "code",
   "execution_count": 19,
   "metadata": {},
   "outputs": [],
   "source": [
    "scaler = StandardScaler()\n",
    "AMD = scaler.fit_transform(d[['MedianAgeMarriage', 'Marriage', 'Divorce']])\n",
    "D_se = d['Divorce SE']/np.std(d['Divorce'])"
   ]
  },
  {
   "cell_type": "code",
   "execution_count": 20,
   "metadata": {},
   "outputs": [
    {
     "name": "stderr",
     "output_type": "stream",
     "text": [
      "/home/pasbury/neg-price-model/venv/lib/python3.8/site-packages/numpyro/infer/mcmc.py:274: UserWarning: There are not enough devices to run parallel chains: expected 4 but got 1. Chains will be drawn sequentially. If you are running MCMC in CPU, consider using `numpyro.set_host_device_count(4)` at the beginning of your program. You can double-check how many devices are available in your system using `jax.local_device_count()`.\n",
      "  warnings.warn(\n",
      "sample: 100%|██████████| 1000/1000 [00:04<00:00, 215.11it/s, 15 steps of size 3.30e-01. acc. prob=0.90]\n",
      "sample: 100%|██████████| 1000/1000 [00:00<00:00, 3469.82it/s, 15 steps of size 3.11e-01. acc. prob=0.88]\n",
      "sample: 100%|██████████| 1000/1000 [00:00<00:00, 3225.41it/s, 15 steps of size 3.26e-01. acc. prob=0.90]\n",
      "sample: 100%|██████████| 1000/1000 [00:00<00:00, 3525.73it/s, 15 steps of size 3.11e-01. acc. prob=0.91]\n"
     ]
    },
    {
     "name": "stdout",
     "output_type": "stream",
     "text": [
      "\n",
      "                mean       std    median      5.0%     95.0%     n_eff     r_hat\n",
      "         a     -0.05      0.10     -0.05     -0.21      0.11   3200.35      1.00\n",
      "       b_A     -0.62      0.16     -0.62     -0.87     -0.35   2066.92      1.00\n",
      "       b_M      0.04      0.17      0.05     -0.23      0.33   1892.28      1.00\n",
      "      d[0]      1.19      0.37      1.18      0.56      1.75   3186.88      1.00\n",
      "      d[1]      0.68      0.55      0.68     -0.22      1.55   4619.65      1.00\n",
      "      d[2]      0.43      0.34      0.43     -0.13      0.99   6085.98      1.00\n",
      "      d[3]      1.42      0.46      1.40      0.68      2.24   4529.18      1.00\n",
      "      d[4]     -0.91      0.13     -0.91     -1.11     -0.69   6256.72      1.00\n",
      "      d[5]      0.66      0.41      0.66      0.04      1.36   4711.55      1.00\n",
      "      d[6]     -1.38      0.34     -1.37     -1.98     -0.87   4416.26      1.00\n",
      "      d[7]     -0.36      0.50     -0.35     -1.18      0.45   4154.58      1.00\n",
      "      d[8]     -1.90      0.59     -1.92     -2.99     -1.03   2892.00      1.00\n",
      "      d[9]     -0.62      0.17     -0.62     -0.91     -0.35   6510.97      1.00\n",
      "     d[10]      0.78      0.29      0.77      0.32      1.26   5333.64      1.00\n",
      "     d[11]     -0.55      0.49     -0.55     -1.29      0.31   3608.99      1.00\n",
      "     d[12]      0.18      0.51      0.18     -0.60      1.08   2249.08      1.00\n",
      "     d[13]     -0.88      0.22     -0.88     -1.22     -0.50   4615.53      1.00\n",
      "     d[14]      0.56      0.29      0.57      0.08      1.04   3951.74      1.00\n",
      "     d[15]      0.29      0.39      0.29     -0.32      0.95   5984.24      1.00\n",
      "     d[16]      0.50      0.42      0.50     -0.18      1.15   4521.45      1.00\n",
      "     d[17]      1.27      0.36      1.26      0.76      1.94   5337.49      1.00\n",
      "     d[18]      0.43      0.37      0.42     -0.18      1.00   4380.09      1.00\n",
      "     d[19]      0.42      0.55      0.39     -0.46      1.29   2671.35      1.00\n",
      "     d[20]     -0.56      0.32     -0.55     -1.04     -0.01   4482.02      1.00\n",
      "     d[21]     -1.11      0.26     -1.10     -1.52     -0.67   4479.41      1.00\n",
      "     d[22]     -0.27      0.25     -0.28     -0.66      0.19   4455.20      1.00\n",
      "     d[23]     -1.01      0.29     -1.01     -1.44     -0.50   3555.15      1.00\n",
      "     d[24]      0.44      0.40      0.43     -0.26      1.06   3832.56      1.00\n",
      "     d[25]     -0.02      0.32     -0.03     -0.55      0.48   6274.60      1.00\n",
      "     d[26]     -0.01      0.53     -0.00     -0.90      0.81   5406.23      1.00\n",
      "     d[27]     -0.14      0.39     -0.16     -0.78      0.49   5095.01      1.00\n",
      "     d[28]     -0.26      0.50     -0.26     -1.11      0.56   4566.79      1.00\n",
      "     d[29]     -1.82      0.23     -1.82     -2.21     -1.44   3836.10      1.00\n",
      "     d[30]      0.16      0.43      0.16     -0.58      0.83   4584.08      1.00\n",
      "     d[31]     -1.67      0.17     -1.67     -1.96     -1.40   7355.46      1.00\n",
      "     d[32]      0.12      0.23      0.12     -0.26      0.50   5463.00      1.00\n",
      "     d[33]     -0.06      0.51     -0.04     -0.91      0.78   3324.13      1.00\n",
      "     d[34]     -0.12      0.23     -0.13     -0.52      0.25   4743.44      1.00\n",
      "     d[35]      1.30      0.43      1.30      0.58      1.97   4200.91      1.00\n",
      "     d[36]      0.23      0.36      0.22     -0.39      0.79   4462.34      1.00\n",
      "     d[37]     -1.03      0.23     -1.03     -1.38     -0.63   6303.13      1.00\n",
      "     d[38]     -0.93      0.53     -0.94     -1.74     -0.00   3615.57      1.00\n",
      "     d[39]     -0.68      0.32     -0.68     -1.19     -0.14   5944.02      1.00\n",
      "     d[40]      0.25      0.54      0.25     -0.58      1.18   3437.95      1.00\n",
      "     d[41]      0.76      0.34      0.75      0.22      1.32   3748.42      1.00\n",
      "     d[42]      0.20      0.18      0.20     -0.11      0.47   6238.73      1.00\n",
      "     d[43]      0.80      0.44      0.80      0.09      1.53   2846.48      1.00\n",
      "     d[44]     -0.40      0.52     -0.39     -1.27      0.41   3146.31      1.00\n",
      "     d[45]     -0.39      0.27     -0.40     -0.85      0.03   4696.21      1.00\n",
      "     d[46]      0.14      0.31      0.13     -0.37      0.62   4140.93      1.00\n",
      "     d[47]      0.56      0.47      0.57     -0.19      1.35   4792.05      1.00\n",
      "     d[48]     -0.64      0.28     -0.64     -1.08     -0.16   6145.55      1.00\n",
      "     d[49]      0.84      0.59      0.84     -0.11      1.80   2972.56      1.00\n",
      "         s      0.59      0.11      0.59      0.42      0.76    858.63      1.00\n",
      "\n",
      "Number of divergences: 0\n"
     ]
    }
   ],
   "source": [
    "def model(A, M, D_obs, D_se):\n",
    "\n",
    "    a = numpyro.sample('a', dist.Normal(0,0.2))\n",
    "    b_A = numpyro.sample('b_A', dist.Normal(0,0.5))\n",
    "    b_M = numpyro.sample('b_M', dist.Normal(0,0.5))\n",
    "    s = numpyro.sample('s', dist.Exponential(1))\n",
    "    mu = a + b_A * A + b_M * M\n",
    "    d = numpyro.sample('d', dist.Normal(mu, s))\n",
    "    result = numpyro.sample('result', dist.Normal(d, D_se), obs=D_obs)\n",
    "\n",
    "\n",
    "m15_1 = MCMC(NUTS(model), num_warmup=500, num_samples=500, num_chains=4)\n",
    "m15_1.run(random.PRNGKey(0), A=AMD[:,0], M=AMD[:,1], D_obs=AMD[:,2], D_se=D_se.values)\n",
    "m15_1.print_summary()"
   ]
  },
  {
   "cell_type": "markdown",
   "metadata": {},
   "source": [
    "### Missing Data"
   ]
  },
  {
   "cell_type": "code",
   "execution_count": 3,
   "metadata": {},
   "outputs": [],
   "source": [
    "rng = default_rng(42)\n",
    "N = 100\n",
    "S = rng.normal(size=N)\n",
    "H = rng.binomial(10, expit(S), N)"
   ]
  },
  {
   "cell_type": "code",
   "execution_count": 4,
   "metadata": {},
   "outputs": [
    {
     "data": {
      "image/png": "[encoded data removed]",
      "text/plain": [
       "<Figure size 432x288 with 1 Axes>"
      ]
     },
     "metadata": {
      "needs_background": "light"
     },
     "output_type": "display_data"
    }
   ],
   "source": [
    "_ = plt.hist(S)"
   ]
  },
  {
   "cell_type": "code",
   "execution_count": 47,
   "metadata": {},
   "outputs": [],
   "source": [
    "# Missing at random\n",
    "D = rng.binomial(1,0.5,N)\n",
    "Hm = np.where(D==1,np.nan, H)"
   ]
  },
  {
   "cell_type": "code",
   "execution_count": 7,
   "metadata": {},
   "outputs": [
    {
     "name": "stderr",
     "output_type": "stream",
     "text": [
      "/home/pasbury/neg-price-model/venv/lib/python3.8/site-packages/numpyro/infer/mcmc.py:274: UserWarning: There are not enough devices to run parallel chains: expected 4 but got 1. Chains will be drawn sequentially. If you are running MCMC in CPU, consider using `numpyro.set_host_device_count(4)` at the beginning of your program. You can double-check how many devices are available in your system using `jax.local_device_count()`.\n",
      "  warnings.warn(\n",
      "sample: 100%|██████████| 1000/1000 [00:03<00:00, 299.63it/s, 3 steps of size 1.05e+00. acc. prob=0.91]\n",
      "sample: 100%|██████████| 1000/1000 [00:00<00:00, 6523.65it/s, 3 steps of size 8.88e-01. acc. prob=0.91]\n",
      "sample: 100%|██████████| 1000/1000 [00:00<00:00, 6807.40it/s, 7 steps of size 8.86e-01. acc. prob=0.92]\n",
      "sample: 100%|██████████| 1000/1000 [00:00<00:00, 6459.97it/s, 3 steps of size 9.82e-01. acc. prob=0.89]\n"
     ]
    },
    {
     "name": "stdout",
     "output_type": "stream",
     "text": [
      "\n",
      "                mean       std    median      5.0%     95.0%     n_eff     r_hat\n",
      "         a     -0.05      0.07     -0.05     -0.16      0.06   2068.01      1.00\n",
      "         b      0.97      0.09      0.97      0.81      1.12   1888.67      1.00\n",
      "\n",
      "Number of divergences: 0\n"
     ]
    }
   ],
   "source": [
    "def model(s, h):\n",
    "    \n",
    "    a = numpyro.sample('a', dist.Normal(0,1))\n",
    "    b = numpyro.sample('b', dist.Normal(0,1))\n",
    "    logit = a + b*s \n",
    "    obs = numpyro.sample('obs_homework', dist.BinomialLogits(logit, 10), obs=h)\n",
    "\n",
    "m15_2 = MCMC(NUTS(model), num_warmup=500, num_samples=500, num_chains=4)\n",
    "m15_2.run(random.PRNGKey(0), s=S, h=H)\n",
    "m15_2.print_summary()"
   ]
  },
  {
   "cell_type": "code",
   "execution_count": 49,
   "metadata": {},
   "outputs": [
    {
     "name": "stderr",
     "output_type": "stream",
     "text": [
      "/home/pasbury/neg-price-model/venv/lib/python3.8/site-packages/numpyro/infer/mcmc.py:274: UserWarning: There are not enough devices to run parallel chains: expected 4 but got 1. Chains will be drawn sequentially. If you are running MCMC in CPU, consider using `numpyro.set_host_device_count(4)` at the beginning of your program. You can double-check how many devices are available in your system using `jax.local_device_count()`.\n",
      "  warnings.warn(\n",
      "sample: 100%|██████████| 1000/1000 [00:03<00:00, 314.94it/s, 3 steps of size 1.02e+00. acc. prob=0.90]\n",
      "sample: 100%|██████████| 1000/1000 [00:00<00:00, 4819.52it/s, 3 steps of size 8.77e-01. acc. prob=0.92]\n",
      "sample: 100%|██████████| 1000/1000 [00:00<00:00, 5102.07it/s, 3 steps of size 7.98e-01. acc. prob=0.93]\n",
      "sample: 100%|██████████| 1000/1000 [00:00<00:00, 4153.03it/s, 3 steps of size 9.21e-01. acc. prob=0.91]"
     ]
    },
    {
     "name": "stdout",
     "output_type": "stream",
     "text": [
      "\n",
      "                mean       std    median      5.0%     95.0%     n_eff     r_hat\n",
      "         a     -0.12      0.10     -0.12     -0.29      0.03   1418.49      1.00\n",
      "         b      0.94      0.14      0.94      0.70      1.18   1740.41      1.00\n",
      "\n",
      "Number of divergences: 0\n"
     ]
    },
    {
     "name": "stderr",
     "output_type": "stream",
     "text": [
      "\n"
     ]
    }
   ],
   "source": [
    "m15_3 = MCMC(NUTS(model), num_warmup=500, num_samples=500, num_chains=4)\n",
    "m15_3.run(random.PRNGKey(0), s=S[D==0], h=H[D==0])\n",
    "m15_3.print_summary()"
   ]
  },
  {
   "cell_type": "code",
   "execution_count": 5,
   "metadata": {},
   "outputs": [
    {
     "data": {
      "text/plain": [
       "<matplotlib.collections.PathCollection at 0x7ff4d80e9a30>"
      ]
     },
     "execution_count": 5,
     "metadata": {},
     "output_type": "execute_result"
    },
    {
     "data": {
      "image/png": "[encoded data removed]",
      "text/plain": [
       "<Figure size 1080x360 with 4 Axes>"
      ]
     },
     "metadata": {
      "needs_background": "light"
     },
     "output_type": "display_data"
    }
   ],
   "source": [
    "# Studying influences liklihood of dog eating homwwork\n",
    "D = np.where(S>0,1,0)\n",
    "Hm = np.where(D==1,np.nan, H)\n",
    "\n",
    "fig, ax = plt.subplots(1,4, figsize=(15,5))\n",
    "ax[0].scatter(S, H)\n",
    "ax[1].scatter(S, D)\n",
    "ax[2].scatter(S, Hm)\n",
    "ax[3].scatter(H, Hm)"
   ]
  },
  {
   "cell_type": "code",
   "execution_count": 8,
   "metadata": {},
   "outputs": [
    {
     "name": "stderr",
     "output_type": "stream",
     "text": [
      "/home/pasbury/neg-price-model/venv/lib/python3.8/site-packages/numpyro/infer/mcmc.py:274: UserWarning: There are not enough devices to run parallel chains: expected 4 but got 1. Chains will be drawn sequentially. If you are running MCMC in CPU, consider using `numpyro.set_host_device_count(4)` at the beginning of your program. You can double-check how many devices are available in your system using `jax.local_device_count()`.\n",
      "  warnings.warn(\n",
      "sample: 100%|██████████| 1000/1000 [00:03<00:00, 316.70it/s, 3 steps of size 1.05e+00. acc. prob=0.91]\n",
      "sample: 100%|██████████| 1000/1000 [00:00<00:00, 3763.65it/s, 3 steps of size 8.88e-01. acc. prob=0.91]\n",
      "sample: 100%|██████████| 1000/1000 [00:00<00:00, 5738.15it/s, 7 steps of size 8.86e-01. acc. prob=0.92]\n",
      "sample: 100%|██████████| 1000/1000 [00:00<00:00, 5759.36it/s, 3 steps of size 9.82e-01. acc. prob=0.89]\n"
     ]
    },
    {
     "name": "stdout",
     "output_type": "stream",
     "text": [
      "\n",
      "                mean       std    median      5.0%     95.0%     n_eff     r_hat\n",
      "         a     -0.05      0.07     -0.05     -0.16      0.06   2068.01      1.00\n",
      "         b      0.97      0.09      0.97      0.81      1.12   1888.67      1.00\n",
      "\n",
      "Number of divergences: 0\n"
     ]
    }
   ],
   "source": [
    "m15_4 = MCMC(NUTS(model), num_warmup=500, num_samples=500, num_chains=4)\n",
    "m15_4.run(random.PRNGKey(0), s=S, h=H)\n",
    "m15_4.print_summary()"
   ]
  },
  {
   "cell_type": "code",
   "execution_count": 9,
   "metadata": {},
   "outputs": [
    {
     "name": "stderr",
     "output_type": "stream",
     "text": [
      "sample: 100%|██████████| 5500/5500 [00:03<00:00, 1441.59it/s, 3 steps of size 4.90e-01. acc. prob=0.92] \n"
     ]
    },
    {
     "name": "stdout",
     "output_type": "stream",
     "text": [
      "\n",
      "                mean       std    median      5.0%     95.0%     n_eff     r_hat\n",
      "         a      0.01      0.16      0.02     -0.26      0.27   1695.83      1.00\n",
      "         b      1.11      0.21      1.11      0.74      1.46   1781.58      1.00\n",
      "\n",
      "Number of divergences: 0\n"
     ]
    }
   ],
   "source": [
    "m15_5 = MCMC(NUTS(model), num_warmup=500, num_samples=5000, num_chains=1)\n",
    "m15_5.run(random.PRNGKey(0), s=S[D==0], h=H[D==0])\n",
    "m15_5.print_summary()"
   ]
  },
  {
   "cell_type": "code",
   "execution_count": 10,
   "metadata": {},
   "outputs": [
    {
     "name": "stderr",
     "output_type": "stream",
     "text": [
      "sample: 100%|██████████| 5500/5500 [00:03<00:00, 1381.53it/s, 3 steps of size 4.90e-01. acc. prob=0.92] \n",
      "sample: 100%|██████████| 5500/5500 [00:03<00:00, 1433.62it/s, 3 steps of size 5.02e-01. acc. prob=0.91] \n",
      "sample: 100%|██████████| 5500/5500 [00:03<00:00, 1485.51it/s, 3 steps of size 4.21e-01. acc. prob=0.94]\n",
      "sample: 100%|██████████| 5500/5500 [00:03<00:00, 1513.12it/s, 3 steps of size 4.60e-01. acc. prob=0.92] \n",
      "sample: 100%|██████████| 5500/5500 [00:03<00:00, 1433.08it/s, 3 steps of size 4.72e-01. acc. prob=0.92] \n",
      "sample: 100%|██████████| 5500/5500 [00:03<00:00, 1483.36it/s, 7 steps of size 5.28e-01. acc. prob=0.90] \n",
      "sample: 100%|██████████| 5500/5500 [00:03<00:00, 1463.97it/s, 3 steps of size 4.47e-01. acc. prob=0.93]\n",
      "sample: 100%|██████████| 5500/5500 [00:03<00:00, 1503.20it/s, 3 steps of size 4.24e-01. acc. prob=0.94] \n",
      "sample: 100%|██████████| 5500/5500 [00:03<00:00, 1398.53it/s, 3 steps of size 5.42e-01. acc. prob=0.92]\n",
      "sample: 100%|██████████| 5500/5500 [00:03<00:00, 1406.82it/s, 3 steps of size 4.07e-01. acc. prob=0.95] \n",
      "sample: 100%|██████████| 5500/5500 [00:03<00:00, 1447.51it/s, 3 steps of size 4.39e-01. acc. prob=0.94] \n",
      "sample: 100%|██████████| 5500/5500 [00:03<00:00, 1516.76it/s, 3 steps of size 3.81e-01. acc. prob=0.94]\n",
      "sample: 100%|██████████| 5500/5500 [00:03<00:00, 1437.66it/s, 1 steps of size 4.45e-01. acc. prob=0.91] \n",
      "sample: 100%|██████████| 5500/5500 [00:03<00:00, 1513.31it/s, 3 steps of size 4.21e-01. acc. prob=0.94] \n",
      "sample: 100%|██████████| 5500/5500 [00:03<00:00, 1486.18it/s, 1 steps of size 5.67e-01. acc. prob=0.90] \n",
      "sample: 100%|██████████| 5500/5500 [00:03<00:00, 1399.83it/s, 3 steps of size 4.33e-01. acc. prob=0.94] \n",
      "sample: 100%|██████████| 5500/5500 [00:03<00:00, 1434.45it/s, 3 steps of size 4.46e-01. acc. prob=0.93] \n",
      "sample: 100%|██████████| 5500/5500 [00:03<00:00, 1455.65it/s, 3 steps of size 5.43e-01. acc. prob=0.92]\n",
      "sample: 100%|██████████| 5500/5500 [00:03<00:00, 1415.75it/s, 3 steps of size 4.93e-01. acc. prob=0.92]\n",
      "sample: 100%|██████████| 5500/5500 [00:03<00:00, 1443.38it/s, 3 steps of size 5.44e-01. acc. prob=0.92]\n",
      "sample: 100%|██████████| 5500/5500 [00:03<00:00, 1395.66it/s, 3 steps of size 3.74e-01. acc. prob=0.94]\n",
      "sample: 100%|██████████| 5500/5500 [00:03<00:00, 1477.86it/s, 3 steps of size 4.07e-01. acc. prob=0.94] \n",
      "sample: 100%|██████████| 5500/5500 [00:03<00:00, 1425.61it/s, 3 steps of size 4.73e-01. acc. prob=0.94] \n",
      "sample: 100%|██████████| 5500/5500 [00:03<00:00, 1375.21it/s, 3 steps of size 5.01e-01. acc. prob=0.93]\n",
      "sample: 100%|██████████| 5500/5500 [00:03<00:00, 1388.33it/s, 3 steps of size 5.68e-01. acc. prob=0.91]\n",
      "sample: 100%|██████████| 5500/5500 [00:03<00:00, 1405.13it/s, 11 steps of size 4.46e-01. acc. prob=0.94]\n",
      "sample: 100%|██████████| 5500/5500 [00:04<00:00, 1364.09it/s, 3 steps of size 4.85e-01. acc. prob=0.90] \n",
      "sample: 100%|██████████| 5500/5500 [00:03<00:00, 1424.23it/s, 3 steps of size 5.09e-01. acc. prob=0.93]\n",
      "sample: 100%|██████████| 5500/5500 [00:03<00:00, 1494.41it/s, 3 steps of size 4.95e-01. acc. prob=0.94]\n",
      "sample: 100%|██████████| 5500/5500 [00:03<00:00, 1483.55it/s, 3 steps of size 4.19e-01. acc. prob=0.93] \n",
      "sample: 100%|██████████| 5500/5500 [00:03<00:00, 1417.66it/s, 3 steps of size 4.98e-01. acc. prob=0.94] \n",
      "sample: 100%|██████████| 5500/5500 [00:03<00:00, 1481.00it/s, 7 steps of size 5.42e-01. acc. prob=0.91]\n",
      "sample: 100%|██████████| 5500/5500 [00:04<00:00, 1325.36it/s, 3 steps of size 5.25e-01. acc. prob=0.92] \n",
      "sample: 100%|██████████| 5500/5500 [00:03<00:00, 1458.82it/s, 7 steps of size 4.45e-01. acc. prob=0.93] \n",
      "sample: 100%|██████████| 5500/5500 [00:03<00:00, 1414.13it/s, 3 steps of size 4.96e-01. acc. prob=0.92]\n",
      "sample: 100%|██████████| 5500/5500 [00:04<00:00, 1366.85it/s, 3 steps of size 4.33e-01. acc. prob=0.93]\n",
      "sample: 100%|██████████| 5500/5500 [00:03<00:00, 1389.41it/s, 3 steps of size 4.31e-01. acc. prob=0.90]\n",
      "sample: 100%|██████████| 5500/5500 [00:04<00:00, 1328.18it/s, 3 steps of size 4.20e-01. acc. prob=0.94]\n",
      "sample: 100%|██████████| 5500/5500 [00:04<00:00, 1342.16it/s, 7 steps of size 5.49e-01. acc. prob=0.91]\n",
      "sample: 100%|██████████| 5500/5500 [00:04<00:00, 1296.35it/s, 3 steps of size 4.50e-01. acc. prob=0.95]\n",
      "sample: 100%|██████████| 5500/5500 [00:04<00:00, 1234.49it/s, 3 steps of size 4.37e-01. acc. prob=0.93] \n",
      "sample: 100%|██████████| 5500/5500 [00:04<00:00, 1286.90it/s, 7 steps of size 4.27e-01. acc. prob=0.90]\n",
      "sample: 100%|██████████| 5500/5500 [00:03<00:00, 1383.52it/s, 3 steps of size 4.85e-01. acc. prob=0.91] \n",
      "sample: 100%|██████████| 5500/5500 [00:04<00:00, 1299.74it/s, 3 steps of size 5.12e-01. acc. prob=0.92] \n",
      "sample: 100%|██████████| 5500/5500 [00:03<00:00, 1375.46it/s, 1 steps of size 5.64e-01. acc. prob=0.92]\n",
      "sample: 100%|██████████| 5500/5500 [00:03<00:00, 1377.98it/s, 3 steps of size 4.63e-01. acc. prob=0.94] \n",
      "sample: 100%|██████████| 5500/5500 [00:04<00:00, 1323.92it/s, 3 steps of size 4.19e-01. acc. prob=0.94] \n",
      "sample: 100%|██████████| 5500/5500 [00:04<00:00, 1363.97it/s, 3 steps of size 5.20e-01. acc. prob=0.92] \n",
      "sample: 100%|██████████| 5500/5500 [00:04<00:00, 1308.46it/s, 1 steps of size 5.41e-01. acc. prob=0.92]\n",
      "sample: 100%|██████████| 5500/5500 [00:04<00:00, 1350.32it/s, 3 steps of size 5.23e-01. acc. prob=0.92] \n",
      "sample: 100%|██████████| 5500/5500 [00:04<00:00, 1316.55it/s, 7 steps of size 5.47e-01. acc. prob=0.91]\n",
      "sample: 100%|██████████| 5500/5500 [00:06<00:00, 890.93it/s, 3 steps of size 4.53e-01. acc. prob=0.93] \n",
      "sample: 100%|██████████| 5500/5500 [00:04<00:00, 1220.96it/s, 3 steps of size 3.93e-01. acc. prob=0.93] \n",
      "sample: 100%|██████████| 5500/5500 [00:04<00:00, 1226.61it/s, 3 steps of size 4.96e-01. acc. prob=0.91]\n",
      "sample: 100%|██████████| 5500/5500 [00:03<00:00, 1422.99it/s, 1 steps of size 5.09e-01. acc. prob=0.90]\n",
      "sample: 100%|██████████| 5500/5500 [00:04<00:00, 1165.38it/s, 1 steps of size 5.37e-01. acc. prob=0.92] \n",
      "sample: 100%|██████████| 5500/5500 [00:06<00:00, 864.65it/s, 3 steps of size 4.85e-01. acc. prob=0.91]  \n",
      "sample: 100%|██████████| 5500/5500 [00:08<00:00, 623.03it/s, 7 steps of size 3.88e-01. acc. prob=0.94] \n",
      "sample: 100%|██████████| 5500/5500 [00:03<00:00, 1383.10it/s, 7 steps of size 5.17e-01. acc. prob=0.90]\n",
      "sample: 100%|██████████| 5500/5500 [00:04<00:00, 1344.44it/s, 3 steps of size 4.51e-01. acc. prob=0.93] \n",
      "sample: 100%|██████████| 5500/5500 [00:04<00:00, 1370.00it/s, 3 steps of size 4.80e-01. acc. prob=0.94] \n",
      "sample: 100%|██████████| 5500/5500 [00:05<00:00, 1032.96it/s, 1 steps of size 5.28e-01. acc. prob=0.90]\n",
      "sample: 100%|██████████| 5500/5500 [00:03<00:00, 1610.00it/s, 3 steps of size 3.99e-01. acc. prob=0.94] \n",
      "sample: 100%|██████████| 5500/5500 [00:04<00:00, 1362.40it/s, 3 steps of size 4.98e-01. acc. prob=0.94] \n",
      "sample: 100%|██████████| 5500/5500 [00:03<00:00, 1468.34it/s, 3 steps of size 4.29e-01. acc. prob=0.94] \n",
      "sample: 100%|██████████| 5500/5500 [00:03<00:00, 1661.81it/s, 3 steps of size 4.34e-01. acc. prob=0.94]\n",
      "sample: 100%|██████████| 5500/5500 [00:03<00:00, 1587.65it/s, 3 steps of size 4.23e-01. acc. prob=0.95] \n",
      "sample: 100%|██████████| 5500/5500 [00:03<00:00, 1631.41it/s, 3 steps of size 4.01e-01. acc. prob=0.94] \n",
      "sample: 100%|██████████| 5500/5500 [00:03<00:00, 1612.80it/s, 3 steps of size 4.64e-01. acc. prob=0.94] \n",
      "sample: 100%|██████████| 5500/5500 [00:03<00:00, 1663.28it/s, 3 steps of size 5.21e-01. acc. prob=0.92] \n",
      "sample: 100%|██████████| 5500/5500 [00:03<00:00, 1522.41it/s, 3 steps of size 5.65e-01. acc. prob=0.91] \n",
      "sample: 100%|██████████| 5500/5500 [00:03<00:00, 1556.10it/s, 3 steps of size 4.17e-01. acc. prob=0.93]\n",
      "sample: 100%|██████████| 5500/5500 [00:03<00:00, 1576.94it/s, 9 steps of size 4.66e-01. acc. prob=0.92]\n",
      "sample: 100%|██████████| 5500/5500 [00:03<00:00, 1611.08it/s, 3 steps of size 5.28e-01. acc. prob=0.91]\n",
      "sample: 100%|██████████| 5500/5500 [00:03<00:00, 1541.70it/s, 3 steps of size 5.12e-01. acc. prob=0.94] \n",
      "sample: 100%|██████████| 5500/5500 [00:03<00:00, 1598.74it/s, 3 steps of size 4.59e-01. acc. prob=0.94] \n",
      "sample: 100%|██████████| 5500/5500 [00:03<00:00, 1602.47it/s, 3 steps of size 4.20e-01. acc. prob=0.94] \n",
      "sample: 100%|██████████| 5500/5500 [00:03<00:00, 1412.59it/s, 7 steps of size 5.02e-01. acc. prob=0.92] \n",
      "sample: 100%|██████████| 5500/5500 [00:03<00:00, 1387.65it/s, 3 steps of size 4.98e-01. acc. prob=0.93]\n",
      "sample: 100%|██████████| 5500/5500 [00:03<00:00, 1592.74it/s, 1 steps of size 4.09e-01. acc. prob=0.90] \n",
      "sample: 100%|██████████| 5500/5500 [00:03<00:00, 1619.62it/s, 1 steps of size 4.81e-01. acc. prob=0.93]\n",
      "sample: 100%|██████████| 5500/5500 [00:03<00:00, 1698.83it/s, 7 steps of size 5.12e-01. acc. prob=0.90]\n",
      "sample: 100%|██████████| 5500/5500 [00:03<00:00, 1648.43it/s, 3 steps of size 4.64e-01. acc. prob=0.94] \n",
      "sample: 100%|██████████| 5500/5500 [00:03<00:00, 1513.38it/s, 3 steps of size 4.10e-01. acc. prob=0.93] \n",
      "sample: 100%|██████████| 5500/5500 [00:03<00:00, 1594.28it/s, 3 steps of size 4.05e-01. acc. prob=0.94] \n",
      "sample: 100%|██████████| 5500/5500 [00:03<00:00, 1593.57it/s, 7 steps of size 5.68e-01. acc. prob=0.91]\n",
      "sample: 100%|██████████| 5500/5500 [00:03<00:00, 1569.26it/s, 7 steps of size 6.00e-01. acc. prob=0.89]\n",
      "sample: 100%|██████████| 5500/5500 [00:03<00:00, 1616.69it/s, 3 steps of size 4.42e-01. acc. prob=0.94] \n",
      "sample: 100%|██████████| 5500/5500 [00:03<00:00, 1597.43it/s, 3 steps of size 4.88e-01. acc. prob=0.92]\n",
      "sample: 100%|██████████| 5500/5500 [00:03<00:00, 1635.77it/s, 7 steps of size 5.30e-01. acc. prob=0.90]\n",
      "sample: 100%|██████████| 5500/5500 [00:03<00:00, 1629.64it/s, 3 steps of size 4.63e-01. acc. prob=0.93] \n",
      "sample: 100%|██████████| 5500/5500 [00:03<00:00, 1597.33it/s, 7 steps of size 5.52e-01. acc. prob=0.94]\n",
      "sample: 100%|██████████| 5500/5500 [00:03<00:00, 1514.75it/s, 1 steps of size 4.65e-01. acc. prob=0.90] \n",
      "sample: 100%|██████████| 5500/5500 [00:04<00:00, 1341.92it/s, 3 steps of size 5.12e-01. acc. prob=0.91]\n",
      "sample: 100%|██████████| 5500/5500 [00:03<00:00, 1564.71it/s, 3 steps of size 4.10e-01. acc. prob=0.93] \n",
      "sample: 100%|██████████| 5500/5500 [00:03<00:00, 1555.79it/s, 3 steps of size 3.98e-01. acc. prob=0.94] \n",
      "sample: 100%|██████████| 5500/5500 [00:03<00:00, 1552.48it/s, 3 steps of size 4.55e-01. acc. prob=0.94] \n",
      "sample: 100%|██████████| 5500/5500 [00:03<00:00, 1576.50it/s, 3 steps of size 3.99e-01. acc. prob=0.95] \n",
      "sample: 100%|██████████| 5500/5500 [00:03<00:00, 1501.34it/s, 3 steps of size 5.19e-01. acc. prob=0.92] \n",
      "sample: 100%|██████████| 5500/5500 [00:03<00:00, 1620.11it/s, 3 steps of size 4.35e-01. acc. prob=0.93]\n"
     ]
    },
    {
     "name": "stdout",
     "output_type": "stream",
     "text": [
      "Mean a:  -0.027219355723354967\n",
      "Mean b:  0.9762196385860443\n"
     ]
    },
    {
     "data": {
      "text/plain": [
       "array([[1.        , 0.69970488],\n",
       "       [0.69970488, 1.        ]])"
      ]
     },
     "execution_count": 10,
     "metadata": {},
     "output_type": "execute_result"
    },
    {
     "data": {
      "image/png": "[encoded data removed]",
      "text/plain": [
       "<Figure size 432x288 with 2 Axes>"
      ]
     },
     "metadata": {
      "needs_background": "light"
     },
     "output_type": "display_data"
    }
   ],
   "source": [
    "rng = default_rng(42)\n",
    "\n",
    "def mk_data(rng, N=100):\n",
    "\n",
    "    S = rng.normal(size=N)\n",
    "    H = rng.binomial(10, expit(S), N)\n",
    "    D = np.where(S>0,1,0)\n",
    "\n",
    "    return S[D==0], H[D==0]\n",
    "\n",
    "a_list = []\n",
    "b_list = []\n",
    "\n",
    "for i in range(100):\n",
    "\n",
    "    # Generate data\n",
    "    s, h = mk_data(rng)\n",
    "\n",
    "    # Estimate model\n",
    "    m15_5.run(random.PRNGKey(0), s, h)\n",
    "\n",
    "    # Get mean a, b\n",
    "    post = m15_5.get_samples()\n",
    "    a, b = post['a'].mean().item(), post['b'].mean().item()\n",
    "\n",
    "    # Store a, b\n",
    "    a_list.append(a)\n",
    "    b_list.append(b)\n",
    "\n",
    "\n",
    "# Summarise a, b\n",
    "fig, ax = plt.subplots(1, 2)\n",
    "_ = ax[0].hist(a_list)\n",
    "_ = ax[1].hist(b_list)\n",
    "\n",
    "print('Mean a: ', np.mean(a_list))\n",
    "print('Mean b: ', np.mean(b_list))\n",
    "np.corrcoef(np.array([a_list,b_list]))"
   ]
  },
  {
   "cell_type": "code",
   "execution_count": null,
   "metadata": {},
   "outputs": [],
   "source": []
  },
  {
   "cell_type": "markdown",
   "metadata": {},
   "source": [
    "### Imputation"
   ]
  },
  {
   "cell_type": "code",
   "execution_count": 2,
   "metadata": {},
   "outputs": [],
   "source": [
    "d = pd.read_csv('data/milk.csv', sep=';')"
   ]
  },
  {
   "cell_type": "code",
   "execution_count": 3,
   "metadata": {},
   "outputs": [],
   "source": [
    "d[\"neocortex.prop\"] = d[\"neocortex.perc\"] / 100\n",
    "d[\"logmass\"] = np.log(d['mass'])\n",
    "\n",
    "scaler = StandardScaler()\n",
    "m_b_k = scaler.fit_transform(d[['logmass', 'neocortex.prop', 'kcal.per.g']])\n"
   ]
  },
  {
   "cell_type": "code",
   "execution_count": 4,
   "metadata": {},
   "outputs": [
    {
     "name": "stderr",
     "output_type": "stream",
     "text": [
      "sample: 100%|██████████| 2500/2500 [00:04<00:00, 595.84it/s, 7 steps of size 4.46e-01. acc. prob=0.94] \n"
     ]
    },
    {
     "name": "stdout",
     "output_type": "stream",
     "text": [
      "\n",
      "                 mean       std    median      5.0%     95.0%     n_eff     r_hat\n",
      "reg_coef[0]      0.11      0.19      0.11     -0.21      0.41   1316.82      1.00\n",
      "reg_coef[1]     -0.65      0.24     -0.65     -1.03     -0.24   1165.77      1.00\n",
      "reg_coef[2]      0.61      0.26      0.62      0.17      1.03   1220.72      1.00\n",
      "      sigma      0.88      0.17      0.86      0.63      1.17   1243.72      1.00\n",
      "\n",
      "Number of divergences: 0\n"
     ]
    }
   ],
   "source": [
    "m_b_k_compcase = m_b_k[~np.isnan(m_b_k[:,1])]\n",
    "def model(M, B, K=None):\n",
    "\n",
    "    sigma = numpyro.sample('sigma', dist.Exponential(1))\n",
    "    a, b_M, b_B = numpyro.sample('reg_coef', dist.Normal(0,0.5).expand([3]))\n",
    "    \n",
    "\n",
    "    mu = a + b_M * M + b_B * B\n",
    "    milk_energy = numpyro.sample('K', dist.Normal(mu, sigma), obs=K)\n",
    "\n",
    "\n",
    "m15_6 = MCMC(NUTS(model), num_warmup=500, num_samples=2000, num_chains=1)\n",
    "m15_6.run(random.PRNGKey(0), M=m_b_k_compcase[:,0], B=m_b_k_compcase[:,1], K=m_b_k_compcase[:,2])\n",
    "m15_6.print_summary()"
   ]
  },
  {
   "cell_type": "code",
   "execution_count": 5,
   "metadata": {},
   "outputs": [
    {
     "name": "stderr",
     "output_type": "stream",
     "text": [
      "/home/pasbury/neg-price-model/venv/lib/python3.8/site-packages/numpyro/infer/mcmc.py:274: UserWarning: There are not enough devices to run parallel chains: expected 4 but got 1. Chains will be drawn sequentially. If you are running MCMC in CPU, consider using `numpyro.set_host_device_count(4)` at the beginning of your program. You can double-check how many devices are available in your system using `jax.local_device_count()`.\n",
      "  warnings.warn(\n",
      "sample: 100%|██████████| 1000/1000 [00:04<00:00, 221.10it/s, 7 steps of size 4.22e-01. acc. prob=0.90]\n",
      "sample: 100%|██████████| 1000/1000 [00:00<00:00, 4843.83it/s, 15 steps of size 3.82e-01. acc. prob=0.93]\n",
      "sample: 100%|██████████| 1000/1000 [00:00<00:00, 2407.61it/s, 15 steps of size 3.98e-01. acc. prob=0.92]\n",
      "sample: 100%|██████████| 1000/1000 [00:00<00:00, 3809.24it/s, 15 steps of size 4.08e-01. acc. prob=0.91]\n"
     ]
    },
    {
     "name": "stdout",
     "output_type": "stream",
     "text": [
      "\n",
      "                  mean       std    median      5.0%     95.0%     n_eff     r_hat\n",
      " B_impute[0]     -0.53      0.95     -0.55     -2.09      0.93   1784.61      1.00\n",
      " B_impute[1]     -0.68      0.98     -0.72     -2.25      1.01   1832.88      1.00\n",
      " B_impute[2]     -0.72      0.98     -0.74     -2.32      0.91   2043.90      1.00\n",
      " B_impute[3]     -0.32      0.93     -0.31     -1.82      1.14   2193.54      1.00\n",
      " B_impute[4]      0.48      0.94      0.45     -0.95      2.17   2287.22      1.00\n",
      " B_impute[5]     -0.16      0.92     -0.16     -1.62      1.39   2198.91      1.00\n",
      " B_impute[6]      0.21      0.98      0.24     -1.40      1.82   2226.13      1.00\n",
      " B_impute[7]      0.22      0.92      0.23     -1.31      1.62   2099.41      1.00\n",
      " B_impute[8]      0.54      0.95      0.55     -1.06      2.03   1918.91      1.00\n",
      " B_impute[9]     -0.42      0.96     -0.43     -2.10      1.13   2499.79      1.00\n",
      "B_impute[10]     -0.28      0.94     -0.27     -1.79      1.22   2090.51      1.00\n",
      "B_impute[11]      0.14      0.98      0.18     -1.41      1.81   2701.42      1.00\n",
      "        B_mu     -0.04      0.21     -0.04     -0.39      0.30   1851.61      1.00\n",
      "     B_sigma      1.05      0.18      1.03      0.79      1.34   1027.83      1.00\n",
      " reg_coef[0]      0.03      0.17      0.03     -0.26      0.31   1900.21      1.00\n",
      " reg_coef[1]     -0.53      0.20     -0.53     -0.84     -0.18   1237.15      1.00\n",
      " reg_coef[2]      0.47      0.23      0.47      0.08      0.83    915.49      1.01\n",
      "       sigma      0.87      0.14      0.85      0.65      1.11   1084.79      1.00\n",
      "\n",
      "Number of divergences: 0\n"
     ]
    }
   ],
   "source": [
    "def model(M, B, K=None):\n",
    "\n",
    "    sigma = numpyro.sample('sigma', dist.Exponential(1))\n",
    "    a, b_M, b_B = numpyro.sample('reg_coef', dist.Normal(0,0.5).expand([3]))\n",
    "    \n",
    "    # Bayesian imputation of missing B\n",
    "\n",
    "    # Get index postions of observations where B is missing\n",
    "    B_isnan = np.isnan(B)\n",
    "    B_nanidx = np.nonzero(B_isnan)[0]\n",
    "    num_nan = B_nanidx.shape[0]\n",
    "\n",
    "    # Priors on mean and standard deviation of B\n",
    "    B_mu = numpyro.sample('B_mu', dist.Normal(0,0.5))\n",
    "    B_sigma = numpyro.sample('B_sigma', dist.Exponential(1))\n",
    "\n",
    "    # Impute missing values of B\n",
    "    B_impute = numpyro.sample(\"B_impute\", dist.Normal(0, 1).expand([num_nan]).mask(False))\n",
    "    \n",
    "    # Interleave imputed and actual values of B\n",
    "    B_imputed = jnp.asarray(B).at[B_nanidx].set(B_impute)\n",
    "\n",
    "    # Condition on observed and imputed B values\n",
    "    numpyro.sample(\"B\", dist.Normal(B_mu, B_sigma), obs=B_imputed)\n",
    "\n",
    "    # Use imputed B values in regression\n",
    "    mu = a + b_M * M + b_B * B_imputed\n",
    "    milk_energy = numpyro.sample('K', dist.Normal(mu, sigma), obs=K)\n",
    "\n",
    "\n",
    "m15_7 = MCMC(NUTS(model), num_warmup=500, num_samples=500, num_chains=4)\n",
    "m15_7.run(random.PRNGKey(0), M=m_b_k[:,0], B=m_b_k[:,1], K=m_b_k[:,2])\n",
    "m15_7.print_summary()"
   ]
  },
  {
   "cell_type": "code",
   "execution_count": 6,
   "metadata": {},
   "outputs": [],
   "source": [
    "M=m_b_k[:,0]\n",
    "B=m_b_k[:,1]\n",
    "K=m_b_k[:,2]\n"
   ]
  },
  {
   "cell_type": "code",
   "execution_count": 7,
   "metadata": {},
   "outputs": [
    {
     "data": {
      "text/plain": [
       "<matplotlib.collections.PathCollection at 0x7fa2dc7ba550>"
      ]
     },
     "execution_count": 7,
     "metadata": {},
     "output_type": "execute_result"
    },
    {
     "data": {
      "image/png": "[encoded data removed]",
      "text/plain": [
       "<Figure size 432x288 with 1 Axes>"
      ]
     },
     "metadata": {
      "needs_background": "light"
     },
     "output_type": "display_data"
    }
   ],
   "source": [
    "post = m15_7.get_samples()\n",
    "B_impute = post['B_impute']\n",
    "B_impute_mean = jnp.mean(B_impute,axis=0)\n",
    "B_impute_std = jnp.std(B_impute,axis=0)\n",
    "\n",
    "B_isnan = np.isnan(B)\n",
    "B_nanidx = np.nonzero(B_isnan)[0]\n",
    "\n",
    "plt.errorbar(x=M[B_nanidx], y=B_impute_mean, yerr=B_impute_std, fmt='ro')\n",
    "plt.scatter(x=M, y=B)\n"
   ]
  },
  {
   "cell_type": "code",
   "execution_count": 8,
   "metadata": {},
   "outputs": [],
   "source": [
    "# So observations show correlation between M and B\n",
    "# However the imputed values do not show that correlation\n",
    "# So need to be allow correlation between M and imputed"
   ]
  },
  {
   "cell_type": "code",
   "execution_count": 27,
   "metadata": {},
   "outputs": [
    {
     "name": "stderr",
     "output_type": "stream",
     "text": [
      "/home/pasbury/neg-price-model/venv/lib/python3.8/site-packages/numpyro/infer/mcmc.py:274: UserWarning: There are not enough devices to run parallel chains: expected 4 but got 1. Chains will be drawn sequentially. If you are running MCMC in CPU, consider using `numpyro.set_host_device_count(4)` at the beginning of your program. You can double-check how many devices are available in your system using `jax.local_device_count()`.\n",
      "  warnings.warn(\n",
      "sample: 100%|██████████| 1000/1000 [00:06<00:00, 151.83it/s, 15 steps of size 3.37e-01. acc. prob=0.91]\n",
      "sample: 100%|██████████| 1000/1000 [00:00<00:00, 3451.20it/s, 15 steps of size 3.07e-01. acc. prob=0.93]\n",
      "sample: 100%|██████████| 1000/1000 [00:00<00:00, 3632.65it/s, 15 steps of size 3.79e-01. acc. prob=0.90]\n",
      "sample: 100%|██████████| 1000/1000 [00:00<00:00, 3445.00it/s, 15 steps of size 3.83e-01. acc. prob=0.91]\n"
     ]
    },
    {
     "name": "stdout",
     "output_type": "stream",
     "text": [
      "\n",
      "                  mean       std    median      5.0%     95.0%     n_eff     r_hat\n",
      " B_impute[0]     -0.63      0.66     -0.64     -1.67      0.40   2537.18      1.00\n",
      " B_impute[1]     -0.67      0.71     -0.66     -1.83      0.49   2298.67      1.00\n",
      " B_impute[2]     -0.80      0.70     -0.80     -1.83      0.43   2798.09      1.00\n",
      " B_impute[3]     -0.42      0.65     -0.41     -1.47      0.64   2842.31      1.00\n",
      " B_impute[4]     -0.25      0.72     -0.23     -1.51      0.81   2106.98      1.00\n",
      " B_impute[5]     -0.74      0.70     -0.73     -1.97      0.30   2650.21      1.00\n",
      " B_impute[6]      0.06      0.66      0.05     -0.92      1.14   2844.26      1.00\n",
      " B_impute[7]      0.33      0.66      0.33     -0.77      1.39   2483.36      1.00\n",
      " B_impute[8]      0.55      0.70      0.54     -0.61      1.63   3190.91      1.00\n",
      " B_impute[9]     -0.15      0.66     -0.14     -1.23      0.93   2733.20      1.00\n",
      "B_impute[10]      0.06      0.70      0.08     -1.12      1.17   2613.47      1.00\n",
      "B_impute[11]      1.06      0.69      1.06     -0.02      2.23   2406.44      1.00\n",
      "        B_mu     -0.05      0.19     -0.04     -0.35      0.28   1487.64      1.00\n",
      "     B_sigma      0.99      0.16      0.97      0.75      1.24   1543.55      1.00\n",
      "L_omega[0,0]      1.00      0.00      1.00      1.00      1.00       nan       nan\n",
      "L_omega[0,1]      0.00      0.00      0.00      0.00      0.00       nan       nan\n",
      "L_omega[1,0]      0.65      0.13      0.67      0.45      0.84   1317.75      1.00\n",
      "L_omega[1,1]      0.74      0.10      0.74      0.58      0.91   1386.77      1.00\n",
      "        M_mu      0.00      0.18      0.00     -0.29      0.30   1839.65      1.00\n",
      "     M_sigma      1.04      0.14      1.03      0.81      1.27   2094.77      1.00\n",
      " reg_coef[0]      0.03      0.16      0.03     -0.23      0.29   2354.32      1.00\n",
      " reg_coef[1]     -0.65      0.22     -0.65     -1.00     -0.28   1468.09      1.00\n",
      " reg_coef[2]      0.58      0.25      0.59      0.19      1.01   1277.76      1.00\n",
      "       sigma      0.84      0.14      0.82      0.62      1.06   1507.30      1.00\n",
      "\n",
      "Number of divergences: 0\n"
     ]
    }
   ],
   "source": [
    "def model(M, B, K=None):\n",
    "\n",
    "    sigma = numpyro.sample('sigma', dist.Exponential(1))\n",
    "    a, b_M, b_B = numpyro.sample('reg_coef', dist.Normal(0,0.5).expand([3]))\n",
    "    \n",
    "    # Bayesian imputation of missing B\n",
    "\n",
    "    # Get index postions of observations where B is missing\n",
    "    B_isnan = np.isnan(B)\n",
    "    B_nanidx = np.nonzero(B_isnan)[0]\n",
    "    num_nan = B_nanidx.shape[0]\n",
    "\n",
    "    # Priors on mean, standard deviations and covariance of M and B\n",
    "    M_mu = numpyro.sample('M_mu', dist.Normal(0,0.5))\n",
    "    M_sigma = numpyro.sample('M_sigma', dist.Exponential(1))   \n",
    "    B_mu = numpyro.sample('B_mu', dist.Normal(0,0.5))\n",
    "    B_sigma = numpyro.sample('B_sigma', dist.Exponential(1))\n",
    "\n",
    "    L_omega = numpyro.sample('L_omega', dist.LKJCholesky(2,0.5))\n",
    "    L_Omega = jnp.matmul(jnp.diag(jnp.hstack([M_sigma, B_sigma])), L_omega)\n",
    "\n",
    "    # Impute missing values of B\n",
    "    B_impute = numpyro.sample(\"B_impute\", dist.Normal(0, 1).expand([num_nan]).mask(False))\n",
    "    \n",
    "    # Interleave imputed and actual values of B\n",
    "    B_imputed = jnp.asarray(B).at[B_nanidx].set(B_impute)\n",
    "\n",
    "    # Condition on observed and imputed B values\n",
    "    numpyro.sample(\"B\", dist.MultivariateNormal(jnp.hstack([M_mu, B_mu]), scale_tril=L_Omega), obs=jnp.vstack([M, B_imputed]).T)\n",
    "\n",
    "    # Use imputed B values in regression\n",
    "    mu = a + b_M * M + b_B * B_imputed\n",
    "    milk_energy = numpyro.sample('K', dist.Normal(mu, sigma), obs=K)\n",
    "\n",
    "\n",
    "m15_8 = MCMC(NUTS(model), num_warmup=500, num_samples=500, num_chains=4)\n",
    "m15_8.run(random.PRNGKey(0), M=m_b_k[:,0], B=m_b_k[:,1], K=m_b_k[:,2])\n",
    "m15_8.print_summary()"
   ]
  },
  {
   "cell_type": "code",
   "execution_count": 28,
   "metadata": {},
   "outputs": [
    {
     "data": {
      "text/plain": [
       "<matplotlib.collections.PathCollection at 0x7fa2c0205e50>"
      ]
     },
     "execution_count": 28,
     "metadata": {},
     "output_type": "execute_result"
    },
    {
     "data": {
      "image/png": "[encoded data removed]",
      "text/plain": [
       "<Figure size 432x288 with 1 Axes>"
      ]
     },
     "metadata": {
      "needs_background": "light"
     },
     "output_type": "display_data"
    }
   ],
   "source": [
    "post = m15_8.get_samples()\n",
    "B_impute = post['B_impute']\n",
    "B_impute_mean = jnp.mean(B_impute,axis=0)\n",
    "B_impute_std = jnp.std(B_impute,axis=0)\n",
    "\n",
    "B_isnan = np.isnan(B)\n",
    "B_nanidx = np.nonzero(B_isnan)[0]\n",
    "\n",
    "plt.errorbar(x=M[B_nanidx], y=B_impute_mean, yerr=B_impute_std, fmt='ro')\n",
    "plt.scatter(x=M, y=B)\n"
   ]
  },
  {
   "cell_type": "code",
   "execution_count": 34,
   "metadata": {},
   "outputs": [
    {
     "name": "stdout",
     "output_type": "stream",
     "text": [
      "correlation between M and B:  0.65219563\n"
     ]
    }
   ],
   "source": [
    "# Get correlation between M and B\n",
    "L = post['L_omega'].mean(axis=0)\n",
    "print('correlation between M and B: ', (L @ L.T)[0,1])"
   ]
  },
  {
   "cell_type": "markdown",
   "metadata": {},
   "source": [
    "### Discrete cats"
   ]
  },
  {
   "cell_type": "code",
   "execution_count": 45,
   "metadata": {},
   "outputs": [],
   "source": [
    "N_houses = 100\n",
    "alpha = 5\n",
    "beta = -3\n",
    "k = 0.5\n",
    "r = 0.2\n",
    "\n",
    "rng = default_rng()\n",
    "cat = rng.binomial(1, k, size=(N_houses))\n",
    "notes = rng.poisson(np.exp(alpha + beta * cat))\n",
    "R_C = rng.binomial(1, r, size=(N_houses))\n",
    "cat_obs = np.where(R_C==0, cat, -9)\n",
    "\n"
   ]
  },
  {
   "cell_type": "code",
   "execution_count": 54,
   "metadata": {},
   "outputs": [
    {
     "name": "stderr",
     "output_type": "stream",
     "text": [
      "/home/pasbury/neg-price-model/venv/lib/python3.8/site-packages/numpyro/infer/mcmc.py:274: UserWarning: There are not enough devices to run parallel chains: expected 4 but got 1. Chains will be drawn sequentially. If you are running MCMC in CPU, consider using `numpyro.set_host_device_count(4)` at the beginning of your program. You can double-check how many devices are available in your system using `jax.local_device_count()`.\n",
      "  warnings.warn(\n",
      "sample: 100%|██████████| 1000/1000 [00:04<00:00, 206.68it/s, 7 steps of size 8.29e-01. acc. prob=0.91]\n",
      "sample: 100%|██████████| 1000/1000 [00:00<00:00, 3538.22it/s, 3 steps of size 8.02e-01. acc. prob=0.88]\n",
      "sample: 100%|██████████| 1000/1000 [00:00<00:00, 4473.07it/s, 7 steps of size 7.80e-01. acc. prob=0.91]\n",
      "sample: 100%|██████████| 1000/1000 [00:00<00:00, 3770.42it/s, 3 steps of size 7.11e-01. acc. prob=0.93]\n"
     ]
    },
    {
     "name": "stdout",
     "output_type": "stream",
     "text": [
      "\n",
      "                mean       std    median      5.0%     95.0%     n_eff     r_hat\n",
      "         a      4.99      0.01      4.99      4.97      5.01   2404.01      1.00\n",
      "         b     -3.02      0.05     -3.02     -3.10     -2.93   1808.74      1.00\n",
      "         k      0.55      0.05      0.55      0.47      0.63   1471.70      1.00\n",
      "\n",
      "Number of divergences: 0\n"
     ]
    }
   ],
   "source": [
    "\n",
    "def model(c, rc, n):\n",
    "    # Sneaking cat model\n",
    "    k = numpyro.sample('k', dist.Beta(2, 2))\n",
    "    numpyro.sample('cat | not missing', dist.BernoulliProbs(k), obs=c[rc==0] )\n",
    "\n",
    "    # Singing birds model\n",
    "    a = numpyro.sample('a', dist.Normal(0,1))\n",
    "    b = numpyro.sample('b', dist.Normal(0,1))\n",
    "\n",
    "    # cat not missing\n",
    "    mean = jnp.exp(a + b*c[rc==0])\n",
    "    obs = numpyro.sample('obs', dist.Poisson(mean), obs=n[R_C==0])\n",
    "\n",
    "    # cat missing\n",
    "    custom_logprob = jnp.logaddexp(\n",
    "        jnp.log(k) + dist.Poisson(jnp.exp(a + b)).log_prob(notes[rc == 1]), # array of the log probs of observing n notes, given cat is present, for all rows with missing c\n",
    "        jnp.log(1 - k) + dist.Poisson(jnp.exp(a)).log_prob(notes[rc == 1]), # array of the log probs of observing n notes, given cat is not present, for all rows with missing c\n",
    "    )\n",
    "    numpyro.factor(\"notes|RC==1\", custom_logprob) # this just includes the custom logprob into the Numpyro model\n",
    "\n",
    "\n",
    "\n",
    "m15_9 = MCMC(NUTS(model), num_warmup=500, num_samples=500, num_chains=4)\n",
    "m15_9.run(random.PRNGKey(0), c=cat_obs, rc=R_C, n=notes)\n",
    "m15_9.print_summary()\n"
   ]
  },
  {
   "cell_type": "code",
   "execution_count": 50,
   "metadata": {},
   "outputs": [
    {
     "name": "stdout",
     "output_type": "stream",
     "text": [
      "Collecting funsor\n",
      "  Downloading funsor-0.4.2-py3-none-any.whl (174 kB)\n",
      "\u001b[2K     \u001b[90m━━━━━━━━━━━━━━━━━━━━━━━━━━━━━━━━━━━━━━━\u001b[0m \u001b[32m174.1/174.1 KB\u001b[0m \u001b[31m3.1 MB/s\u001b[0m eta \u001b[36m0:00:00\u001b[0ma \u001b[36m0:00:01\u001b[0m\n",
      "\u001b[?25hRequirement already satisfied: typing-extensions in ./venv/lib/python3.8/site-packages (from funsor) (3.10.0.2)\n",
      "Collecting makefun\n",
      "  Downloading makefun-1.13.1-py2.py3-none-any.whl (22 kB)\n",
      "Requirement already satisfied: numpy>=1.7 in ./venv/lib/python3.8/site-packages (from funsor) (1.21.4)\n",
      "Requirement already satisfied: opt-einsum>=2.3.2 in ./venv/lib/python3.8/site-packages (from funsor) (3.3.0)\n",
      "Collecting multipledispatch\n",
      "  Downloading multipledispatch-0.6.0-py3-none-any.whl (11 kB)\n",
      "Requirement already satisfied: six in ./venv/lib/python3.8/site-packages (from multipledispatch->funsor) (1.16.0)\n",
      "Installing collected packages: makefun, multipledispatch, funsor\n",
      "Successfully installed funsor-0.4.2 makefun-1.13.1 multipledispatch-0.6.0\n"
     ]
    }
   ],
   "source": [
    "! pip install funsor"
   ]
  },
  {
   "cell_type": "code",
   "execution_count": 51,
   "metadata": {},
   "outputs": [],
   "source": [
    "import funsor"
   ]
  },
  {
   "cell_type": "code",
   "execution_count": 53,
   "metadata": {},
   "outputs": [
    {
     "name": "stderr",
     "output_type": "stream",
     "text": [
      "/home/pasbury/neg-price-model/venv/lib/python3.8/site-packages/numpyro/infer/mcmc.py:274: UserWarning: There are not enough devices to run parallel chains: expected 4 but got 1. Chains will be drawn sequentially. If you are running MCMC in CPU, consider using `numpyro.set_host_device_count(4)` at the beginning of your program. You can double-check how many devices are available in your system using `jax.local_device_count()`.\n",
      "  warnings.warn(\n",
      "sample: 100%|██████████| 1000/1000 [00:03<00:00, 250.34it/s, 7 steps of size 8.54e-01. acc. prob=0.92]\n",
      "sample: 100%|██████████| 1000/1000 [00:00<00:00, 4476.16it/s, 7 steps of size 7.33e-01. acc. prob=0.91]\n",
      "sample: 100%|██████████| 1000/1000 [00:00<00:00, 3712.04it/s, 7 steps of size 7.68e-01. acc. prob=0.92]\n",
      "sample: 100%|██████████| 1000/1000 [00:00<00:00, 3949.61it/s, 3 steps of size 7.99e-01. acc. prob=0.91]"
     ]
    },
    {
     "name": "stdout",
     "output_type": "stream",
     "text": [
      "\n",
      "                mean       std    median      5.0%     95.0%     n_eff     r_hat\n",
      "         a      4.99      0.01      4.99      4.97      5.01   2034.74      1.00\n",
      "         b     -3.02      0.05     -3.02     -3.10     -2.94   1708.92      1.00\n",
      "         k      0.55      0.05      0.55      0.46      0.63   1604.54      1.00\n",
      "\n",
      "Number of divergences: 0\n"
     ]
    },
    {
     "name": "stderr",
     "output_type": "stream",
     "text": [
      "\n"
     ]
    }
   ],
   "source": [
    "# Following https://colab.research.google.com/github/pyro-ppl/numpyro/blob/master/notebooks/source/discrete_imputation.ipynb#scrollTo=QUlZSCPxbmRa\n",
    "\n",
    "def model(c, rc, n):\n",
    "\n",
    "    nobs = c.shape[0]\n",
    "\n",
    "    # Prior k sneaking cat model\n",
    "    k = numpyro.sample('k', dist.Beta(2, 2))\n",
    "\n",
    "    # Priors for singing birds model\n",
    "    a = numpyro.sample('a', dist.Normal(0,1))\n",
    "    b = numpyro.sample('b', dist.Normal(0,1))\n",
    "\n",
    "\n",
    "    with numpyro.plate('obs', nobs):\n",
    "\n",
    "        # Impute sneaking cats\n",
    "\n",
    "        # mask out to not add log_prob to total likelihood right now\n",
    "        cat_imp = numpyro.sample(\"cat_imp\", dist.BernoulliProbs(k).mask(False), infer={\"enumerate\": \"parallel\"})\n",
    "\n",
    "        # 'manually' calculate the log_prob\n",
    "        log_prob = dist.BernoulliProbs(k).log_prob(cat_imp)\n",
    "\n",
    "        # cancel out enumerated values that are not equal to observed values\n",
    "        log_prob = jnp.where((rc==0) & (cat_imp != c), -jnp.inf, log_prob)\n",
    "\n",
    "        # add to total likelihood for sampler\n",
    "        numpyro.factor(\"cat_obs\", log_prob)\n",
    "\n",
    "        # Singing birds model using imputed cats\n",
    "        mean = jnp.exp(a + b*cat_imp)\n",
    "        obs = numpyro.sample('notes', dist.Poisson(mean), obs=n)\n",
    "        \n",
    "\n",
    "m15_10 = MCMC(NUTS(model), num_warmup=500, num_samples=500, num_chains=4)\n",
    "m15_10.run(random.PRNGKey(0), c=cat_obs, rc=R_C, n=notes)\n",
    "m15_10.print_summary()\n",
    "\n",
    "\n"
   ]
  },
  {
   "cell_type": "code",
   "execution_count": null,
   "metadata": {},
   "outputs": [],
   "source": []
  },
  {
   "cell_type": "code",
   "execution_count": null,
   "metadata": {},
   "outputs": [],
   "source": []
  },
  {
   "cell_type": "code",
   "execution_count": null,
   "metadata": {},
   "outputs": [],
   "source": []
  }
 ],
 "metadata": {
  "interpreter": {
   "hash": "0789b99f4adc99188d8b4faac15be0fb9c8374a560d4c08f7e9a557c45f5c72c"
  },
  "kernelspec": {
   "display_name": "Python 3.8.10 ('venv': venv)",
   "language": "python",
   "name": "python3"
  },
  "language_info": {
   "codemirror_mode": {
    "name": "ipython",
    "version": 3
   },
   "file_extension": ".py",
   "mimetype": "text/x-python",
   "name": "python",
   "nbconvert_exporter": "python",
   "pygments_lexer": "ipython3",
   "version": "3.8.10"
  },
  "orig_nbformat": 4
 },
 "nbformat": 4,
 "nbformat_minor": 2
}
