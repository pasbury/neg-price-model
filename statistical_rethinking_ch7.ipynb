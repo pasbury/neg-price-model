{
 "cells": [
  {
   "cell_type": "code",
   "execution_count": 1,
   "metadata": {},
   "outputs": [
    {
     "name": "stderr",
     "output_type": "stream",
     "text": [
      "/home/pasbury/neg-price-model/venv/lib/python3.8/site-packages/jax/experimental/optimizers.py:28: FutureWarning: jax.experimental.optimizers is deprecated, import jax.example_libraries.optimizers instead\n",
      "  warnings.warn('jax.experimental.optimizers is deprecated, '\n",
      "/home/pasbury/neg-price-model/venv/lib/python3.8/site-packages/jax/experimental/stax.py:28: FutureWarning: jax.experimental.stax is deprecated, import jax.example_libraries.stax instead\n",
      "  warnings.warn('jax.experimental.stax is deprecated, '\n"
     ]
    }
   ],
   "source": [
    "import numpy as np\n",
    "import numpyro\n",
    "import numpyro.distributions as dist\n",
    "from numpyro.infer.reparam import TransformReparam, LocScaleReparam\n",
    "from numpyro.distributions.transforms import AffineTransform\n",
    "from numpyro.infer import MCMC, NUTS, Predictive, SVI, Trace_ELBO, log_likelihood\n",
    "from numpyro.infer.autoguide import AutoLaplaceApproximation\n",
    "import numpyro.optim as optim\n",
    "from numpyro import handlers\n",
    "from numpyro.handlers import mask\n",
    "import jax\n",
    "from jax.numpy import DeviceArray\n",
    "import jax.numpy as jnp\n",
    "from jax import random, lax\n",
    "from jax import nn as jnn\n",
    "import pandas as pd\n",
    "import matplotlib.pyplot as plt\n",
    "import arviz as az\n",
    "from sklearn.neighbors import KNeighborsRegressor\n",
    "from sklearn.model_selection import GridSearchCV\n",
    "from sklearn.model_selection import train_test_split\n",
    "from sklearn.metrics import r2_score, roc_auc_score\n",
    "from sklearn.preprocessing import StandardScaler"
   ]
  },
  {
   "cell_type": "code",
   "execution_count": 177,
   "metadata": {},
   "outputs": [],
   "source": [
    "d = pd.read_csv('data/tulips.csv', sep=';')"
   ]
  },
  {
   "cell_type": "code",
   "execution_count": 179,
   "metadata": {},
   "outputs": [
    {
     "data": {
      "text/html": [
       "<div>\n",
       "<style scoped>\n",
       "    .dataframe tbody tr th:only-of-type {\n",
       "        vertical-align: middle;\n",
       "    }\n",
       "\n",
       "    .dataframe tbody tr th {\n",
       "        vertical-align: top;\n",
       "    }\n",
       "\n",
       "    .dataframe thead th {\n",
       "        text-align: right;\n",
       "    }\n",
       "</style>\n",
       "<table border=\"1\" class=\"dataframe\">\n",
       "  <thead>\n",
       "    <tr style=\"text-align: right;\">\n",
       "      <th></th>\n",
       "      <th>bed</th>\n",
       "      <th>water</th>\n",
       "      <th>shade</th>\n",
       "      <th>blooms</th>\n",
       "    </tr>\n",
       "  </thead>\n",
       "  <tbody>\n",
       "    <tr>\n",
       "      <th>1</th>\n",
       "      <td>a</td>\n",
       "      <td>1</td>\n",
       "      <td>2</td>\n",
       "      <td>0.00</td>\n",
       "    </tr>\n",
       "    <tr>\n",
       "      <th>0</th>\n",
       "      <td>a</td>\n",
       "      <td>1</td>\n",
       "      <td>1</td>\n",
       "      <td>0.00</td>\n",
       "    </tr>\n",
       "    <tr>\n",
       "      <th>18</th>\n",
       "      <td>c</td>\n",
       "      <td>1</td>\n",
       "      <td>1</td>\n",
       "      <td>10.02</td>\n",
       "    </tr>\n",
       "    <tr>\n",
       "      <th>8</th>\n",
       "      <td>a</td>\n",
       "      <td>3</td>\n",
       "      <td>3</td>\n",
       "      <td>134.95</td>\n",
       "    </tr>\n",
       "    <tr>\n",
       "      <th>10</th>\n",
       "      <td>b</td>\n",
       "      <td>1</td>\n",
       "      <td>2</td>\n",
       "      <td>85.95</td>\n",
       "    </tr>\n",
       "  </tbody>\n",
       "</table>\n",
       "</div>"
      ],
      "text/plain": [
       "   bed  water  shade  blooms\n",
       "1    a      1      2    0.00\n",
       "0    a      1      1    0.00\n",
       "18   c      1      1   10.02\n",
       "8    a      3      3  134.95\n",
       "10   b      1      2   85.95"
      ]
     },
     "execution_count": 179,
     "metadata": {},
     "output_type": "execute_result"
    }
   ],
   "source": [
    "d.sample(5)"
   ]
  },
  {
   "cell_type": "code",
   "execution_count": 180,
   "metadata": {},
   "outputs": [
    {
     "data": {
      "text/html": [
       "<div>\n",
       "<style scoped>\n",
       "    .dataframe tbody tr th:only-of-type {\n",
       "        vertical-align: middle;\n",
       "    }\n",
       "\n",
       "    .dataframe tbody tr th {\n",
       "        vertical-align: top;\n",
       "    }\n",
       "\n",
       "    .dataframe thead th {\n",
       "        text-align: right;\n",
       "    }\n",
       "</style>\n",
       "<table border=\"1\" class=\"dataframe\">\n",
       "  <thead>\n",
       "    <tr style=\"text-align: right;\">\n",
       "      <th></th>\n",
       "      <th>water</th>\n",
       "      <th>shade</th>\n",
       "      <th>blooms</th>\n",
       "    </tr>\n",
       "  </thead>\n",
       "  <tbody>\n",
       "    <tr>\n",
       "      <th>count</th>\n",
       "      <td>27.00000</td>\n",
       "      <td>27.00000</td>\n",
       "      <td>27.000000</td>\n",
       "    </tr>\n",
       "    <tr>\n",
       "      <th>mean</th>\n",
       "      <td>2.00000</td>\n",
       "      <td>2.00000</td>\n",
       "      <td>128.993704</td>\n",
       "    </tr>\n",
       "    <tr>\n",
       "      <th>std</th>\n",
       "      <td>0.83205</td>\n",
       "      <td>0.83205</td>\n",
       "      <td>92.683923</td>\n",
       "    </tr>\n",
       "    <tr>\n",
       "      <th>min</th>\n",
       "      <td>1.00000</td>\n",
       "      <td>1.00000</td>\n",
       "      <td>0.000000</td>\n",
       "    </tr>\n",
       "    <tr>\n",
       "      <th>25%</th>\n",
       "      <td>1.00000</td>\n",
       "      <td>1.00000</td>\n",
       "      <td>71.115000</td>\n",
       "    </tr>\n",
       "    <tr>\n",
       "      <th>50%</th>\n",
       "      <td>2.00000</td>\n",
       "      <td>2.00000</td>\n",
       "      <td>111.040000</td>\n",
       "    </tr>\n",
       "    <tr>\n",
       "      <th>75%</th>\n",
       "      <td>3.00000</td>\n",
       "      <td>3.00000</td>\n",
       "      <td>190.300000</td>\n",
       "    </tr>\n",
       "    <tr>\n",
       "      <th>max</th>\n",
       "      <td>3.00000</td>\n",
       "      <td>3.00000</td>\n",
       "      <td>361.660000</td>\n",
       "    </tr>\n",
       "  </tbody>\n",
       "</table>\n",
       "</div>"
      ],
      "text/plain": [
       "          water     shade      blooms\n",
       "count  27.00000  27.00000   27.000000\n",
       "mean    2.00000   2.00000  128.993704\n",
       "std     0.83205   0.83205   92.683923\n",
       "min     1.00000   1.00000    0.000000\n",
       "25%     1.00000   1.00000   71.115000\n",
       "50%     2.00000   2.00000  111.040000\n",
       "75%     3.00000   3.00000  190.300000\n",
       "max     3.00000   3.00000  361.660000"
      ]
     },
     "execution_count": 180,
     "metadata": {},
     "output_type": "execute_result"
    }
   ],
   "source": [
    "d.describe()"
   ]
  },
  {
   "cell_type": "code",
   "execution_count": 181,
   "metadata": {},
   "outputs": [],
   "source": [
    "d['W'] = d['water'] - 2\n",
    "d['S'] = d['shade'] - 2\n",
    "d['B'] = d['blooms'] / max(d['blooms'])"
   ]
  },
  {
   "cell_type": "code",
   "execution_count": null,
   "metadata": {},
   "outputs": [],
   "source": [
    "def model(w, s, b=None):\n",
    "\n",
    "    a = numpyro.sample('a', dist.Normal(0,0.5))\n",
    "    bw = numpyro.sample('bw', dist.Normal(0,0.5))\n",
    "    bs = numpyro.sample('bs', dist.Normal(0,0.5))\n",
    "    sigma = numpyro.sample('sigma', dist.Exponential(1))\n",
    "\n",
    "    mu = a + bw*b + bs*s\n",
    "\n",
    "    blooms = numpyro.sample('blooms', dist.Normal(mu, sigma), obs=b)\n",
    "\n"
   ]
  },
  {
   "cell_type": "code",
   "execution_count": null,
   "metadata": {},
   "outputs": [],
   "source": []
  },
  {
   "cell_type": "code",
   "execution_count": 3,
   "metadata": {},
   "outputs": [
    {
     "name": "stderr",
     "output_type": "stream",
     "text": [
      "100%|██████████| 1000/1000 [00:00<00:00, 1038.42it/s, init loss: 279.8950, avg. loss [951-1000]: 204.3793]\n",
      "100%|██████████| 1000/1000 [00:01<00:00, 691.78it/s, init loss: 151456.4062, avg. loss [951-1000]: 168.2294]\n",
      "100%|██████████| 1000/1000 [00:01<00:00, 787.19it/s, init loss: 87469.1094, avg. loss [951-1000]: 198.4736]\n",
      "/home/pasbury/neg-price-model/venv/lib/python3.8/site-packages/arviz/stats/stats.py:1458: UserWarning: For one or more samples the posterior variance of the log predictive densities exceeds 0.4. This could be indication of WAIC starting to fail. \n",
      "See http://arxiv.org/abs/1507.04544 for details\n",
      "  warnings.warn(\n"
     ]
    },
    {
     "data": {
      "text/plain": [
       "Computed from 1000 by 100 log-likelihood matrix\n",
       "\n",
       "              Estimate       SE\n",
       "deviance_waic   337.37    11.85\n",
       "p_waic            3.35        -\n",
       "\n",
       "There has been a warning during the calculation. Please check the results."
      ]
     },
     "execution_count": 3,
     "metadata": {},
     "output_type": "execute_result"
    }
   ],
   "source": [
    "with numpyro.handlers.seed(rng_seed=71):\n",
    "    # number of plants\n",
    "    N = 100\n",
    "\n",
    "    # simulate initial heights\n",
    "    h0 = numpyro.sample(\"h0\", dist.Normal(10, 2).expand([N]))\n",
    "\n",
    "    # assign treatments and simulate fungus and growth\n",
    "    treatment = jnp.repeat(jnp.arange(2), repeats=N // 2)\n",
    "    fungus = numpyro.sample(\n",
    "        \"fungus\", dist.Binomial(total_count=1, probs=(0.5 - treatment * 0.4))\n",
    "    )\n",
    "    h1 = h0 + numpyro.sample(\"diff\", dist.Normal(5 - 3 * fungus))\n",
    "\n",
    "    # compose a clean data frame\n",
    "    d = pd.DataFrame({\"h0\": h0, \"h1\": h1, \"treatment\": treatment, \"fungus\": fungus})\n",
    "\n",
    "\n",
    "def model(h0, h1):\n",
    "    p = numpyro.sample(\"p\", dist.LogNormal(0, 0.25))\n",
    "    sigma = numpyro.sample(\"sigma\", dist.Exponential(1))\n",
    "    mu = h0 * p\n",
    "    numpyro.sample(\"h1\", dist.Normal(mu, sigma), obs=h1)\n",
    "\n",
    "\n",
    "m6_6 = AutoLaplaceApproximation(model)\n",
    "svi = SVI(model, m6_6, optim.Adam(0.1), Trace_ELBO(), h0=d.h0.values, h1=d.h1.values)\n",
    "svi_result = svi.run(random.PRNGKey(0), 1000)\n",
    "p6_6 = svi_result.params\n",
    "\n",
    "\n",
    "def model(treatment, fungus, h0, h1):\n",
    "    a = numpyro.sample(\"a\", dist.LogNormal(0, 0.2))\n",
    "    bt = numpyro.sample(\"bt\", dist.Normal(0, 0.5))\n",
    "    bf = numpyro.sample(\"bf\", dist.Normal(0, 0.5))\n",
    "    sigma = numpyro.sample(\"sigma\", dist.Exponential(1))\n",
    "    p = a + bt * treatment + bf * fungus\n",
    "    mu = h0 * p\n",
    "    numpyro.sample(\"h1\", dist.Normal(mu, sigma), obs=h1)\n",
    "\n",
    "\n",
    "m6_7 = AutoLaplaceApproximation(model)\n",
    "svi = SVI(\n",
    "    model,\n",
    "    m6_7,\n",
    "    optim.Adam(0.3),\n",
    "    Trace_ELBO(),\n",
    "    treatment=d.treatment.values,\n",
    "    fungus=d.fungus.values,\n",
    "    h0=d.h0.values,\n",
    "    h1=d.h1.values,\n",
    ")\n",
    "svi_result = svi.run(random.PRNGKey(0), 1000)\n",
    "p6_7 = svi_result.params\n",
    "\n",
    "\n",
    "def model(treatment, h0, h1):\n",
    "    a = numpyro.sample(\"a\", dist.LogNormal(0, 0.2))\n",
    "    bt = numpyro.sample(\"bt\", dist.Normal(0, 0.5))\n",
    "    sigma = numpyro.sample(\"sigma\", dist.Exponential(1))\n",
    "    p = a + bt * treatment\n",
    "    mu = h0 * p\n",
    "    numpyro.sample(\"h1\", dist.Normal(mu, sigma), obs=h1)\n",
    "\n",
    "\n",
    "m6_8 = AutoLaplaceApproximation(model)\n",
    "svi = SVI(\n",
    "    model,\n",
    "    m6_8,\n",
    "    optim.Adam(1),\n",
    "    Trace_ELBO(),\n",
    "    treatment=d.treatment.values,\n",
    "    h0=d.h0.values,\n",
    "    h1=d.h1.values,\n",
    ")\n",
    "svi_result = svi.run(random.PRNGKey(0), 1000)\n",
    "p6_8 = svi_result.params\n",
    "\n",
    "post = m6_7.sample_posterior(random.PRNGKey(11), p6_7, (1000,))\n",
    "logprob = log_likelihood(\n",
    "    m6_7.model,\n",
    "    post,\n",
    "    treatment=d.treatment.values,\n",
    "    fungus=d.fungus.values,\n",
    "    h0=d.h0.values,\n",
    "    h1=d.h1.values,\n",
    ")\n",
    "az6_7 = az.from_dict(sample_stats={\"log_likelihood\": logprob[\"h1\"][None, ...]})\n",
    "az.waic(az6_7, scale=\"deviance\")"
   ]
  },
  {
   "cell_type": "code",
   "execution_count": 23,
   "metadata": {},
   "outputs": [
    {
     "name": "stderr",
     "output_type": "stream",
     "text": [
      "/home/pasbury/neg-price-model/venv/lib/python3.8/site-packages/arviz/stats/stats.py:1458: UserWarning: For one or more samples the posterior variance of the log predictive densities exceeds 0.4. This could be indication of WAIC starting to fail. \n",
      "See http://arxiv.org/abs/1507.04544 for details\n",
      "  warnings.warn(\n",
      "/home/pasbury/neg-price-model/venv/lib/python3.8/site-packages/arviz/stats/stats.py:1458: UserWarning: For one or more samples the posterior variance of the log predictive densities exceeds 0.4. This could be indication of WAIC starting to fail. \n",
      "See http://arxiv.org/abs/1507.04544 for details\n",
      "  warnings.warn(\n"
     ]
    },
    {
     "data": {
      "text/html": [
       "<div>\n",
       "<style scoped>\n",
       "    .dataframe tbody tr th:only-of-type {\n",
       "        vertical-align: middle;\n",
       "    }\n",
       "\n",
       "    .dataframe tbody tr th {\n",
       "        vertical-align: top;\n",
       "    }\n",
       "\n",
       "    .dataframe thead th {\n",
       "        text-align: right;\n",
       "    }\n",
       "</style>\n",
       "<table border=\"1\" class=\"dataframe\">\n",
       "  <thead>\n",
       "    <tr style=\"text-align: right;\">\n",
       "      <th></th>\n",
       "      <th>rank</th>\n",
       "      <th>waic</th>\n",
       "      <th>p_waic</th>\n",
       "      <th>d_waic</th>\n",
       "      <th>weight</th>\n",
       "      <th>se</th>\n",
       "      <th>dse</th>\n",
       "      <th>warning</th>\n",
       "      <th>waic_scale</th>\n",
       "    </tr>\n",
       "  </thead>\n",
       "  <tbody>\n",
       "    <tr>\n",
       "      <th>m6.7 Fungus and treatment</th>\n",
       "      <td>0</td>\n",
       "      <td>337.238970</td>\n",
       "      <td>3.299736</td>\n",
       "      <td>0.000000</td>\n",
       "      <td>1.000000e+00</td>\n",
       "      <td>11.839218</td>\n",
       "      <td>0.000000</td>\n",
       "      <td>True</td>\n",
       "      <td>deviance</td>\n",
       "    </tr>\n",
       "    <tr>\n",
       "      <th>m6.8 Treatment</th>\n",
       "      <td>1</td>\n",
       "      <td>399.758470</td>\n",
       "      <td>3.089427</td>\n",
       "      <td>62.519501</td>\n",
       "      <td>3.129164e-13</td>\n",
       "      <td>14.941817</td>\n",
       "      <td>13.814438</td>\n",
       "      <td>True</td>\n",
       "      <td>deviance</td>\n",
       "    </tr>\n",
       "    <tr>\n",
       "      <th>m6.6 Intercept only</th>\n",
       "      <td>2</td>\n",
       "      <td>409.200764</td>\n",
       "      <td>1.712087</td>\n",
       "      <td>71.961795</td>\n",
       "      <td>0.000000e+00</td>\n",
       "      <td>12.402171</td>\n",
       "      <td>12.712522</td>\n",
       "      <td>False</td>\n",
       "      <td>deviance</td>\n",
       "    </tr>\n",
       "  </tbody>\n",
       "</table>\n",
       "</div>"
      ],
      "text/plain": [
       "                           rank        waic    p_waic     d_waic  \\\n",
       "m6.7 Fungus and treatment     0  337.238970  3.299736   0.000000   \n",
       "m6.8 Treatment                1  399.758470  3.089427  62.519501   \n",
       "m6.6 Intercept only           2  409.200764  1.712087  71.961795   \n",
       "\n",
       "                                 weight         se        dse  warning  \\\n",
       "m6.7 Fungus and treatment  1.000000e+00  11.839218   0.000000     True   \n",
       "m6.8 Treatment             3.129164e-13  14.941817  13.814438     True   \n",
       "m6.6 Intercept only        0.000000e+00  12.402171  12.712522    False   \n",
       "\n",
       "                          waic_scale  \n",
       "m6.7 Fungus and treatment   deviance  \n",
       "m6.8 Treatment              deviance  \n",
       "m6.6 Intercept only         deviance  "
      ]
     },
     "execution_count": 23,
     "metadata": {},
     "output_type": "execute_result"
    }
   ],
   "source": [
    "post = m6_6.sample_posterior(random.PRNGKey(77), p6_6, (1000,))\n",
    "logprob = log_likelihood(m6_6.model, post, h0=d.h0.values, h1=d.h1.values)\n",
    "az6_6 = az.from_dict({}, log_likelihood={\"h1\": logprob[\"h1\"][None, ...]})\n",
    "post = m6_7.sample_posterior(random.PRNGKey(77), p6_7, (1000,))\n",
    "logprob = log_likelihood(\n",
    "    m6_7.model,\n",
    "    post,\n",
    "    treatment=d.treatment.values,\n",
    "    fungus=d.fungus.values,\n",
    "    h0=d.h0.values,\n",
    "    h1=d.h1.values,\n",
    ")\n",
    "az6_7 = az.from_dict({}, log_likelihood={\"h1\": logprob[\"h1\"][None, ...]})\n",
    "post = m6_8.sample_posterior(random.PRNGKey(77), p6_8, (1000,))\n",
    "logprob = log_likelihood(\n",
    "    m6_8.model, post, treatment=d.treatment.values, h0=d.h0.values, h1=d.h1.values\n",
    ")\n",
    "az6_8 = az.from_dict({}, log_likelihood={\"h1\": logprob[\"h1\"][None, ...]})\n",
    "compare = az.compare({\"m6.6 Intercept only\": az6_6, \"m6.7 Fungus and treatment\": az6_7, \"m6.8 Treatment\": az6_8}, ic=\"waic\", scale=\"deviance\")\n",
    "compare"
   ]
  },
  {
   "cell_type": "code",
   "execution_count": 24,
   "metadata": {},
   "outputs": [
    {
     "data": {
      "text/plain": [
       "<AxesSubplot:xlabel='Deviance'>"
      ]
     },
     "execution_count": 24,
     "metadata": {},
     "output_type": "execute_result"
    },
    {
     "data": {
      "image/png": "[encoded data removed]",
      "text/plain": [
       "<Figure size 432x216 with 1 Axes>"
      ]
     },
     "metadata": {
      "needs_background": "light"
     },
     "output_type": "display_data"
    }
   ],
   "source": [
    "az.plot_compare(compare)"
   ]
  },
  {
   "cell_type": "code",
   "execution_count": 31,
   "metadata": {},
   "outputs": [
    {
     "name": "stdout",
     "output_type": "stream",
     "text": [
      "1.3970907576391107\n"
     ]
    }
   ],
   "source": [
    "import math\n",
    "- sum([0.3*math.log(0.3)+0.7*math.log(0.7)])\n",
    "\n",
    "x = [0.2, 0.25, 0.35, 0.3]\n",
    "entropy = 0\n",
    "for p in x:\n",
    "    entropy += p*math.log(p)\n",
    "print(-entropy)\n"
   ]
  },
  {
   "cell_type": "code",
   "execution_count": null,
   "metadata": {},
   "outputs": [],
   "source": []
  },
  {
   "cell_type": "markdown",
   "metadata": {},
   "source": [
    "### Chapter 7 Exercises"
   ]
  },
  {
   "cell_type": "code",
   "execution_count": 4,
   "metadata": {},
   "outputs": [
    {
     "data": {
      "text/html": [
       "<div>\n",
       "<style scoped>\n",
       "    .dataframe tbody tr th:only-of-type {\n",
       "        vertical-align: middle;\n",
       "    }\n",
       "\n",
       "    .dataframe tbody tr th {\n",
       "        vertical-align: top;\n",
       "    }\n",
       "\n",
       "    .dataframe thead th {\n",
       "        text-align: right;\n",
       "    }\n",
       "</style>\n",
       "<table border=\"1\" class=\"dataframe\">\n",
       "  <thead>\n",
       "    <tr style=\"text-align: right;\">\n",
       "      <th></th>\n",
       "      <th>tax_rate</th>\n",
       "      <th>tax_revenue</th>\n",
       "    </tr>\n",
       "  </thead>\n",
       "  <tbody>\n",
       "    <tr>\n",
       "      <th>count</th>\n",
       "      <td>29.000000</td>\n",
       "      <td>29.000000</td>\n",
       "    </tr>\n",
       "    <tr>\n",
       "      <th>mean</th>\n",
       "      <td>26.382069</td>\n",
       "      <td>3.306207</td>\n",
       "    </tr>\n",
       "    <tr>\n",
       "      <th>std</th>\n",
       "      <td>8.753579</td>\n",
       "      <td>1.816491</td>\n",
       "    </tr>\n",
       "    <tr>\n",
       "      <th>min</th>\n",
       "      <td>0.070000</td>\n",
       "      <td>-0.060000</td>\n",
       "    </tr>\n",
       "    <tr>\n",
       "      <th>25%</th>\n",
       "      <td>22.370000</td>\n",
       "      <td>2.240000</td>\n",
       "    </tr>\n",
       "    <tr>\n",
       "      <th>50%</th>\n",
       "      <td>28.400000</td>\n",
       "      <td>3.070000</td>\n",
       "    </tr>\n",
       "    <tr>\n",
       "      <th>75%</th>\n",
       "      <td>33.250000</td>\n",
       "      <td>3.580000</td>\n",
       "    </tr>\n",
       "    <tr>\n",
       "      <th>max</th>\n",
       "      <td>35.430000</td>\n",
       "      <td>10.020000</td>\n",
       "    </tr>\n",
       "  </tbody>\n",
       "</table>\n",
       "</div>"
      ],
      "text/plain": [
       "        tax_rate  tax_revenue\n",
       "count  29.000000    29.000000\n",
       "mean   26.382069     3.306207\n",
       "std     8.753579     1.816491\n",
       "min     0.070000    -0.060000\n",
       "25%    22.370000     2.240000\n",
       "50%    28.400000     3.070000\n",
       "75%    33.250000     3.580000\n",
       "max    35.430000    10.020000"
      ]
     },
     "execution_count": 4,
     "metadata": {},
     "output_type": "execute_result"
    }
   ],
   "source": [
    "d = pd.read_csv('data/Laffer.csv', sep=';')\n",
    "d.describe()"
   ]
  },
  {
   "cell_type": "code",
   "execution_count": 5,
   "metadata": {},
   "outputs": [
    {
     "data": {
      "text/plain": [
       "<AxesSubplot:xlabel='tax_rate', ylabel='tax_revenue'>"
      ]
     },
     "execution_count": 5,
     "metadata": {},
     "output_type": "execute_result"
    },
    {
     "data": {
      "image/png": "[encoded data removed]",
      "text/plain": [
       "<Figure size 432x288 with 1 Axes>"
      ]
     },
     "metadata": {
      "needs_background": "light"
     },
     "output_type": "display_data"
    }
   ],
   "source": [
    "d.plot.scatter(x='tax_rate', y='tax_revenue')"
   ]
  },
  {
   "cell_type": "code",
   "execution_count": 41,
   "metadata": {},
   "outputs": [],
   "source": [
    "scaler = StandardScaler()\n",
    "d[['rate', 'revenue']] = scaler.fit_transform(d[['tax_rate', 'tax_revenue']])"
   ]
  },
  {
   "cell_type": "code",
   "execution_count": 42,
   "metadata": {},
   "outputs": [],
   "source": [
    "def model(rate, revenue=None):\n",
    "    a = numpyro.sample(\"a\", dist.Normal(0, 1))\n",
    "    b = numpyro.sample(\"b\", dist.Normal(0, 1))\n",
    "    sigma = numpyro.sample(\"sigma\", dist.Exponential(1))\n",
    "    mu = numpyro.deterministic(\"mu\", a + b * rate)\n",
    "    rev = numpyro.sample(\"rev\", dist.Normal(mu, sigma), obs=revenue)"
   ]
  },
  {
   "cell_type": "code",
   "execution_count": 43,
   "metadata": {},
   "outputs": [
    {
     "name": "stderr",
     "output_type": "stream",
     "text": [
      "100%|██████████| 1000/1000 [00:01<00:00, 899.93it/s, init loss: 608.8159, avg. loss [951-1000]: 42.4743]\n"
     ]
    },
    {
     "name": "stdout",
     "output_type": "stream",
     "text": [
      "\n",
      "                mean       std    median      5.0%     95.0%     n_eff     r_hat\n",
      "         a      0.01      0.18      0.02     -0.28      0.30    931.50      1.00\n",
      "         b      0.31      0.18      0.31      0.03      0.61   1111.41      1.00\n",
      "     mu[0]     -0.93      0.57     -0.93     -1.79      0.03    911.49      1.00\n",
      "     mu[1]     -0.62      0.40     -0.61     -1.27      0.02    887.85      1.00\n",
      "     mu[2]     -0.47      0.33     -0.47     -1.03      0.03    877.58      1.00\n",
      "     mu[3]     -0.35      0.27     -0.35     -0.83      0.05    873.19      1.00\n",
      "     mu[4]     -0.25      0.23     -0.24     -0.66      0.09    893.49      1.00\n",
      "     mu[5]     -0.24      0.23     -0.24     -0.65      0.09    895.07      1.00\n",
      "     mu[6]     -0.27      0.24     -0.27     -0.71      0.06    884.85      1.00\n",
      "     mu[7]      0.02      0.18      0.03     -0.27      0.31    931.08      1.00\n",
      "     mu[8]     -0.13      0.19     -0.12     -0.46      0.18    965.98      1.00\n",
      "     mu[9]     -0.03      0.18     -0.02     -0.34      0.23    935.57      1.00\n",
      "    mu[10]     -0.10      0.19     -0.10     -0.41      0.20    955.65      1.00\n",
      "    mu[11]      0.08      0.18      0.08     -0.23      0.37    935.36      1.00\n",
      "    mu[12]      0.15      0.19      0.15     -0.14      0.50    952.06      1.00\n",
      "    mu[13]      0.08      0.18      0.08     -0.23      0.37    935.36      1.00\n",
      "    mu[14]      0.05      0.18      0.06     -0.24      0.34    931.82      1.00\n",
      "    mu[15]      0.08      0.18      0.09     -0.22      0.37    935.83      1.00\n",
      "    mu[16]      0.11      0.18      0.11     -0.18      0.43    941.90      1.00\n",
      "    mu[17]      0.16      0.19      0.15     -0.13      0.50    953.01      1.00\n",
      "    mu[18]      0.26      0.22      0.25     -0.08      0.65    986.23      1.00\n",
      "    mu[19]      0.15      0.19      0.15     -0.13      0.50    952.59      1.00\n",
      "    mu[20]      0.16      0.19      0.16     -0.13      0.51    953.44      1.00\n",
      "    mu[21]      0.30      0.24      0.29     -0.05      0.72    998.09      1.00\n",
      "    mu[22]      0.33      0.25      0.33     -0.07      0.75   1008.80      1.00\n",
      "    mu[23]      0.31      0.24      0.31     -0.06      0.73   1003.45      1.00\n",
      "    mu[24]      0.26      0.22      0.26     -0.07      0.65    986.81      1.00\n",
      "    mu[25]      0.26      0.22      0.25     -0.08      0.65    986.12      1.00\n",
      "    mu[26]      0.29      0.24      0.29     -0.05      0.72    997.98      1.00\n",
      "    mu[27]      0.34      0.25      0.33     -0.06      0.76   1009.90      1.00\n",
      "    mu[28]      0.33      0.25      0.33     -0.06      0.76   1009.60      1.00\n",
      "     sigma      0.96      0.13      0.95      0.76      1.18    946.92      1.00\n",
      "\n"
     ]
    }
   ],
   "source": [
    "m1 = AutoLaplaceApproximation(model)\n",
    "svi = SVI(model,m1,optim.Adam(1),Trace_ELBO())\n",
    "svi_result = svi.run(random.PRNGKey(0), 1000, d['rate'].values, d['revenue'].values)\n",
    "p1 = svi_result.params\n",
    "\n",
    "# display summary of quadratic approximation\n",
    "samples1 = m1.sample_posterior(random.PRNGKey(1), p1, (1000,))\n",
    "numpyro.diagnostics.print_summary(samples1, group_by_chain=False)"
   ]
  },
  {
   "cell_type": "code",
   "execution_count": 44,
   "metadata": {},
   "outputs": [],
   "source": [
    "x = jnp.linspace(-3.5, 2)\n",
    "\n",
    "_predictive = Predictive(model=model, posterior_samples=samples1, guide=m1)\n",
    "pred = _predictive(random.PRNGKey(2), x, None)"
   ]
  },
  {
   "cell_type": "code",
   "execution_count": 45,
   "metadata": {},
   "outputs": [
    {
     "data": {
      "text/plain": [
       "Text(0.5, 1.0, 'm1: Linear Gaussian')"
      ]
     },
     "execution_count": 45,
     "metadata": {},
     "output_type": "execute_result"
    },
    {
     "data": {
      "image/png": "[encoded data removed]",
      "text/plain": [
       "<Figure size 432x288 with 1 Axes>"
      ]
     },
     "metadata": {
      "needs_background": "light"
     },
     "output_type": "display_data"
    }
   ],
   "source": [
    "loc = pred['rev'].mean(axis=0)\n",
    "low, high = jnp.percentile(pred['rev'], jnp.array([5.0, 95.0]), axis=0)\n",
    "ax = d.plot.scatter('rate', 'revenue', alpha=0.2)\n",
    "ax.plot(x, loc)\n",
    "ax.fill_between(x, low, high, alpha = 0.2)\n",
    "ax.set_title('m1: Linear Gaussian')"
   ]
  },
  {
   "cell_type": "code",
   "execution_count": 46,
   "metadata": {},
   "outputs": [],
   "source": [
    "def model(rate, revenue=None):\n",
    "    a = numpyro.sample(\"a\", dist.Normal(0, 1))\n",
    "    b1 = numpyro.sample(\"b1\", dist.Normal(0, 1))\n",
    "    b2 = numpyro.sample(\"b2\", dist.Normal(0, 0.5))\n",
    "    sigma = numpyro.sample(\"sigma\", dist.Exponential(1))\n",
    "    mu = numpyro.deterministic(\"mu\", a + b1 * rate + b2 * rate**2)\n",
    "    rev = numpyro.sample(\"rev\", dist.Normal(mu, sigma), obs=revenue)"
   ]
  },
  {
   "cell_type": "code",
   "execution_count": 47,
   "metadata": {},
   "outputs": [
    {
     "name": "stderr",
     "output_type": "stream",
     "text": [
      "100%|██████████| 1000/1000 [00:01<00:00, 767.83it/s, init loss: 4082.0554, avg. loss [951-1000]: 41.3206]\n"
     ]
    },
    {
     "name": "stdout",
     "output_type": "stream",
     "text": [
      "\n",
      "                mean       std    median      5.0%     95.0%     n_eff     r_hat\n",
      "         a      0.20      0.20      0.19     -0.12      0.51   1049.96      1.00\n",
      "        b1      0.06      0.23      0.06     -0.33      0.42    887.60      1.00\n",
      "        b2     -0.21      0.13     -0.21     -0.44     -0.01   1039.79      1.00\n",
      "     mu[0]     -1.93      0.80     -1.90     -3.14     -0.57   1063.33      1.00\n",
      "     mu[1]     -0.78      0.38     -0.78     -1.48     -0.19    926.95      1.00\n",
      "     mu[2]     -0.40      0.31     -0.39     -0.92      0.11    867.09      1.00\n",
      "     mu[3]     -0.15      0.28     -0.14     -0.63      0.30    878.31      1.00\n",
      "     mu[4]      0.01      0.27      0.02     -0.44      0.44    918.58      1.00\n",
      "     mu[5]      0.02      0.27      0.02     -0.43      0.44    920.39      1.00\n",
      "     mu[6]     -0.02      0.27     -0.02     -0.48      0.41    907.00      1.00\n",
      "     mu[7]      0.21      0.20      0.20     -0.12      0.51   1054.45      1.00\n",
      "     mu[8]      0.13      0.24      0.14     -0.26      0.53    976.00      1.00\n",
      "     mu[9]      0.19      0.21      0.19     -0.15      0.53   1033.43      1.00\n",
      "    mu[10]      0.16      0.24      0.16     -0.20      0.56    992.08      1.00\n",
      "    mu[11]      0.21      0.18      0.21     -0.10      0.49    975.98      1.00\n",
      "    mu[12]      0.19      0.18      0.18     -0.12      0.47    930.08      1.00\n",
      "    mu[13]      0.21      0.18      0.21     -0.10      0.49    975.98      1.00\n",
      "    mu[14]      0.21      0.19      0.20     -0.10      0.51   1008.71      1.00\n",
      "    mu[15]      0.21      0.18      0.21     -0.10      0.49    975.44      1.00\n",
      "    mu[16]      0.20      0.18      0.20     -0.10      0.49    962.46      1.00\n",
      "    mu[17]      0.18      0.18      0.18     -0.12      0.47    926.83      1.00\n",
      "    mu[18]      0.12      0.23      0.11     -0.29      0.48    845.85      1.00\n",
      "    mu[19]      0.19      0.18      0.18     -0.12      0.47    928.28      1.00\n",
      "    mu[20]      0.18      0.18      0.18     -0.11      0.48    925.37      1.00\n",
      "    mu[21]      0.08      0.27      0.07     -0.39      0.49    837.92      1.00\n",
      "    mu[22]      0.04      0.31      0.03     -0.50      0.51    838.67      1.00\n",
      "    mu[23]      0.06      0.29      0.05     -0.43      0.50    837.46      1.00\n",
      "    mu[24]      0.11      0.23      0.11     -0.30      0.48    845.21      1.00\n",
      "    mu[25]      0.12      0.23      0.11     -0.29      0.48    845.98      1.00\n",
      "    mu[26]      0.08      0.27      0.07     -0.35      0.53    837.94      1.00\n",
      "    mu[27]      0.03      0.31      0.03     -0.51      0.51    839.10      1.00\n",
      "    mu[28]      0.03      0.31      0.03     -0.51      0.51    838.98      1.00\n",
      "     sigma      0.91      0.11      0.91      0.73      1.09    975.06      1.00\n",
      "\n"
     ]
    }
   ],
   "source": [
    "m2 = AutoLaplaceApproximation(model)\n",
    "svi = SVI(model,m2,optim.Adam(1),Trace_ELBO())\n",
    "svi_result = svi.run(random.PRNGKey(0), 1000, d['rate'].values, d['revenue'].values)\n",
    "p2 = svi_result.params\n",
    "\n",
    "# display summary of quadratic approximation\n",
    "samples2 = m2.sample_posterior(random.PRNGKey(1), p2, (1000,))\n",
    "numpyro.diagnostics.print_summary(samples2, group_by_chain=False)"
   ]
  },
  {
   "cell_type": "code",
   "execution_count": 48,
   "metadata": {},
   "outputs": [
    {
     "data": {
      "text/plain": [
       "Text(0.5, 1.0, 'm2: Quadratic Gaussian')"
      ]
     },
     "execution_count": 48,
     "metadata": {},
     "output_type": "execute_result"
    },
    {
     "data": {
      "image/png": "[encoded data removed]",
      "text/plain": [
       "<Figure size 432x288 with 1 Axes>"
      ]
     },
     "metadata": {
      "needs_background": "light"
     },
     "output_type": "display_data"
    }
   ],
   "source": [
    "x = jnp.linspace(-3.5, 2)\n",
    "\n",
    "_predictive = Predictive(model=model, posterior_samples=samples2, guide=m2)\n",
    "pred = _predictive(random.PRNGKey(2), x, None)\n",
    "\n",
    "loc = pred['rev'].mean(axis=0)\n",
    "low, high = jnp.percentile(pred['rev'], jnp.array([5.0, 95.0]), axis=0)\n",
    "ax = d.plot.scatter('rate', 'revenue', alpha=0.2)\n",
    "ax.plot(x, loc)\n",
    "ax.fill_between(x, low, high, alpha = 0.2)\n",
    "ax.set_title('m2: Quadratic Gaussian')"
   ]
  },
  {
   "cell_type": "code",
   "execution_count": 49,
   "metadata": {},
   "outputs": [],
   "source": [
    "def model(rate, revenue=None):\n",
    "    a = numpyro.sample(\"a\", dist.Normal(0, 1))\n",
    "    b1 = numpyro.sample(\"b1\", dist.Normal(0, 1))\n",
    "    b2 = numpyro.sample(\"b2\", dist.Normal(0, 0.5))\n",
    "    sigma = numpyro.sample(\"sigma\", dist.Exponential(1))\n",
    "    mu = numpyro.deterministic(\"mu\", a + b1 * rate + b2 * rate**2)\n",
    "    rev = numpyro.sample(\"rev\", dist.StudentT(2, mu, sigma), obs=revenue)"
   ]
  },
  {
   "cell_type": "code",
   "execution_count": 50,
   "metadata": {},
   "outputs": [
    {
     "name": "stderr",
     "output_type": "stream",
     "text": [
      "100%|██████████| 1000/1000 [00:00<00:00, 1098.42it/s, init loss: 114.7598, avg. loss [951-1000]: 36.8676]\n"
     ]
    },
    {
     "name": "stdout",
     "output_type": "stream",
     "text": [
      "\n",
      "                mean       std    median      5.0%     95.0%     n_eff     r_hat\n",
      "         a      0.00      0.23     -0.01     -0.38      0.36   1049.96      1.00\n",
      "        b1     -0.09      0.16     -0.08     -0.37      0.16    893.98      1.00\n",
      "        b2     -0.09      0.31     -0.09     -0.59      0.42   1130.32      1.00\n",
      "     mu[0]     -0.58      2.62     -0.61     -4.78      3.53   1129.60      1.00\n",
      "     mu[1]     -0.20      1.07     -0.21     -2.07      1.40   1117.73      1.00\n",
      "     mu[2]     -0.09      0.58     -0.07     -1.01      0.89   1093.28      1.00\n",
      "     mu[3]     -0.02      0.31     -0.02     -0.51      0.52    900.19      1.00\n",
      "     mu[4]      0.01      0.22      0.02     -0.36      0.35    860.80      1.00\n",
      "     mu[5]      0.01      0.21      0.02     -0.35      0.35    861.42      1.00\n",
      "     mu[6]      0.01      0.23      0.01     -0.36      0.37    866.70      1.00\n",
      "     mu[7]     -0.00      0.23     -0.01     -0.39      0.34   1052.33      1.00\n",
      "     mu[8]      0.02      0.23      0.03     -0.34      0.40    960.71      1.00\n",
      "     mu[9]      0.01      0.24      0.00     -0.38      0.38   1038.22      1.00\n",
      "    mu[10]      0.02      0.24      0.02     -0.34      0.42    988.90      1.00\n",
      "    mu[11]     -0.02      0.21     -0.03     -0.35      0.30    994.37      1.00\n",
      "    mu[12]     -0.05      0.16     -0.05     -0.31      0.20    895.54      1.00\n",
      "    mu[13]     -0.02      0.21     -0.03     -0.35      0.30    994.37      1.00\n",
      "    mu[14]     -0.01      0.22     -0.02     -0.38      0.32   1026.94      1.00\n",
      "    mu[15]     -0.02      0.20     -0.03     -0.35      0.30    989.97      1.00\n",
      "    mu[16]     -0.04      0.18     -0.04     -0.35      0.25    938.05      1.00\n",
      "    mu[17]     -0.06      0.16     -0.06     -0.30      0.20    892.34      1.00\n",
      "    mu[18]     -0.12      0.14     -0.12     -0.36      0.11    993.45      1.00\n",
      "    mu[19]     -0.06      0.16     -0.05     -0.30      0.20    893.76      1.00\n",
      "    mu[20]     -0.06      0.15     -0.06     -0.30      0.19    890.90      1.00\n",
      "    mu[21]     -0.15      0.19     -0.15     -0.46      0.16   1017.94      1.00\n",
      "    mu[22]     -0.18      0.26     -0.18     -0.60      0.22   1044.47      1.00\n",
      "    mu[23]     -0.17      0.22     -0.16     -0.51      0.20   1031.71      1.00\n",
      "    mu[24]     -0.12      0.15     -0.12     -0.37      0.10    994.08      1.00\n",
      "    mu[25]     -0.12      0.14     -0.12     -0.36      0.11    993.23      1.00\n",
      "    mu[26]     -0.15      0.19     -0.15     -0.46      0.16   1017.66      1.00\n",
      "    mu[27]     -0.19      0.27     -0.18     -0.60      0.25   1046.91      1.00\n",
      "    mu[28]     -0.19      0.26     -0.18     -0.60      0.24   1046.26      1.00\n",
      "     sigma      0.48      0.15      0.46      0.23      0.70    987.06      1.00\n",
      "\n"
     ]
    }
   ],
   "source": [
    "m3 = AutoLaplaceApproximation(model)\n",
    "svi = SVI(model,m3,optim.Adam(1),Trace_ELBO())\n",
    "svi_result = svi.run(random.PRNGKey(0), 1000, d['rate'].values, d['revenue'].values)\n",
    "p3 = svi_result.params\n",
    "\n",
    "# display summary of quadratic approximation\n",
    "samples3 = m3.sample_posterior(random.PRNGKey(1), p3, (1000,))\n",
    "numpyro.diagnostics.print_summary(samples3, group_by_chain=False)"
   ]
  },
  {
   "cell_type": "code",
   "execution_count": 51,
   "metadata": {},
   "outputs": [
    {
     "data": {
      "text/plain": [
       "Text(0.5, 1.0, 'm3: Quadratic StudentT')"
      ]
     },
     "execution_count": 51,
     "metadata": {},
     "output_type": "execute_result"
    },
    {
     "data": {
      "image/png": "[encoded data removed]",
      "text/plain": [
       "<Figure size 432x288 with 1 Axes>"
      ]
     },
     "metadata": {
      "needs_background": "light"
     },
     "output_type": "display_data"
    }
   ],
   "source": [
    "x = jnp.linspace(-3.5, 2)\n",
    "\n",
    "_predictive = Predictive(model=model, posterior_samples=samples3, guide=m3)\n",
    "pred = _predictive(random.PRNGKey(2), x, None)\n",
    "\n",
    "loc = pred['rev'].mean(axis=0)\n",
    "low, high = jnp.percentile(pred['rev'], jnp.array([5.0, 95.0]), axis=0)\n",
    "ax = d.plot.scatter('rate', 'revenue', alpha=0.2)\n",
    "ax.plot(x, loc)\n",
    "ax.fill_between(x, low, high, alpha = 0.2)\n",
    "ax.set_title('m3: Quadratic StudentT')"
   ]
  },
  {
   "cell_type": "code",
   "execution_count": 52,
   "metadata": {},
   "outputs": [],
   "source": [
    "def model(rate, revenue=None):\n",
    "    a = numpyro.sample(\"a\", dist.Normal(0, 1))\n",
    "    b = numpyro.sample(\"b\", dist.Normal(0, 1))\n",
    "    sigma = numpyro.sample(\"sigma\", dist.Exponential(1))\n",
    "    mu = numpyro.deterministic(\"mu\", a + b * rate)\n",
    "    rev = numpyro.sample(\"rev\", dist.StudentT(2, mu, sigma), obs=revenue)"
   ]
  },
  {
   "cell_type": "code",
   "execution_count": 53,
   "metadata": {},
   "outputs": [
    {
     "name": "stderr",
     "output_type": "stream",
     "text": [
      "100%|██████████| 1000/1000 [00:00<00:00, 1315.67it/s, init loss: 100.5423, avg. loss [951-1000]: 37.3432]\n"
     ]
    },
    {
     "name": "stdout",
     "output_type": "stream",
     "text": [
      "\n",
      "                mean       std    median      5.0%     95.0%     n_eff     r_hat\n",
      "         a     -0.26      0.11     -0.26     -0.45     -0.07    931.50      1.00\n",
      "         b      0.19      0.13      0.19     -0.04      0.39    964.57      1.00\n",
      "     mu[0]     -0.85      0.44     -0.85     -1.56     -0.13    890.10      1.00\n",
      "     mu[1]     -0.66      0.31     -0.65     -1.18     -0.17    880.08      1.00\n",
      "     mu[2]     -0.57      0.26     -0.56     -1.01     -0.18    873.20      1.00\n",
      "     mu[3]     -0.49      0.21     -0.48     -0.85     -0.18    875.25      1.00\n",
      "     mu[4]     -0.42      0.17     -0.42     -0.73     -0.17    895.52      1.00\n",
      "     mu[5]     -0.42      0.17     -0.41     -0.72     -0.17    896.93      1.00\n",
      "     mu[6]     -0.44      0.18     -0.43     -0.77     -0.18    887.66      1.00\n",
      "     mu[7]     -0.25      0.11     -0.25     -0.44     -0.07    931.06      1.00\n",
      "     mu[8]     -0.35      0.14     -0.34     -0.58     -0.13    968.48      1.00\n",
      "     mu[9]     -0.28      0.12     -0.28     -0.49     -0.11    936.33      1.00\n",
      "    mu[10]     -0.33      0.13     -0.33     -0.54     -0.12    958.23      1.00\n",
      "    mu[11]     -0.22      0.11     -0.22     -0.39     -0.02    937.84      1.00\n",
      "    mu[12]     -0.17      0.12     -0.17     -0.35      0.03    963.66      1.00\n",
      "    mu[13]     -0.22      0.11     -0.22     -0.39     -0.02    937.84      1.00\n",
      "    mu[14]     -0.24      0.11     -0.23     -0.43     -0.06    932.37      1.00\n",
      "    mu[15]     -0.22      0.11     -0.22     -0.39     -0.02    938.55      1.00\n",
      "    mu[16]     -0.20      0.11     -0.20     -0.37      0.01    947.95      1.00\n",
      "    mu[17]     -0.17      0.12     -0.17     -0.35      0.04    965.13      1.00\n",
      "    mu[18]     -0.11      0.14     -0.11     -0.32      0.13   1013.43      1.00\n",
      "    mu[19]     -0.17      0.12     -0.17     -0.35      0.04    964.47      1.00\n",
      "    mu[20]     -0.17      0.12     -0.17     -0.35      0.04    965.78      1.00\n",
      "    mu[21]     -0.08      0.15     -0.08     -0.32      0.17   1028.98      1.00\n",
      "    mu[22]     -0.06      0.16     -0.06     -0.31      0.22   1042.12      1.00\n",
      "    mu[23]     -0.07      0.16     -0.07     -0.31      0.20   1035.67      1.00\n",
      "    mu[24]     -0.10      0.14     -0.11     -0.32      0.13   1014.22      1.00\n",
      "    mu[25]     -0.11      0.14     -0.11     -0.32      0.13   1013.28      1.00\n",
      "    mu[26]     -0.08      0.15     -0.08     -0.32      0.17   1028.85      1.00\n",
      "    mu[27]     -0.06      0.16     -0.06     -0.31      0.22   1043.41      1.00\n",
      "    mu[28]     -0.06      0.16     -0.06     -0.31      0.22   1043.06      1.00\n",
      "     sigma      0.49      0.11      0.48      0.32      0.67    957.75      1.00\n",
      "\n"
     ]
    }
   ],
   "source": [
    "m4 = AutoLaplaceApproximation(model)\n",
    "svi = SVI(model,m4,optim.Adam(1),Trace_ELBO())\n",
    "svi_result = svi.run(random.PRNGKey(0), 1000, d['rate'].values, d['revenue'].values)\n",
    "p4 = svi_result.params\n",
    "\n",
    "# display summary of quadratic approximation\n",
    "samples4 = m4.sample_posterior(random.PRNGKey(1), p4, (1000,))\n",
    "numpyro.diagnostics.print_summary(samples4, group_by_chain=False)"
   ]
  },
  {
   "cell_type": "code",
   "execution_count": 54,
   "metadata": {},
   "outputs": [
    {
     "data": {
      "text/plain": [
       "Text(0.5, 1.0, 'm4: Linear StudentT')"
      ]
     },
     "execution_count": 54,
     "metadata": {},
     "output_type": "execute_result"
    },
    {
     "data": {
      "image/png": "[encoded data removed]",
      "text/plain": [
       "<Figure size 432x288 with 1 Axes>"
      ]
     },
     "metadata": {
      "needs_background": "light"
     },
     "output_type": "display_data"
    }
   ],
   "source": [
    "x = jnp.linspace(-3.5, 2)\n",
    "\n",
    "_predictive = Predictive(model=model, posterior_samples=samples4, guide=m4)\n",
    "pred = _predictive(random.PRNGKey(2), x, None)\n",
    "\n",
    "loc = pred['rev'].mean(axis=0)\n",
    "low, high = jnp.percentile(pred['rev'], jnp.array([5.0, 95.0]), axis=0)\n",
    "ax = d.plot.scatter('rate', 'revenue', alpha=0.2)\n",
    "ax.plot(x, loc)\n",
    "ax.fill_between(x, low, high, alpha = 0.2)\n",
    "ax.set_title('m4: Linear StudentT')"
   ]
  },
  {
   "cell_type": "code",
   "execution_count": null,
   "metadata": {},
   "outputs": [],
   "source": []
  },
  {
   "cell_type": "code",
   "execution_count": 56,
   "metadata": {},
   "outputs": [
    {
     "name": "stderr",
     "output_type": "stream",
     "text": [
      "/home/pasbury/neg-price-model/venv/lib/python3.8/site-packages/arviz/stats/stats.py:1458: UserWarning: For one or more samples the posterior variance of the log predictive densities exceeds 0.4. This could be indication of WAIC starting to fail. \n",
      "See http://arxiv.org/abs/1507.04544 for details\n",
      "  warnings.warn(\n",
      "/home/pasbury/neg-price-model/venv/lib/python3.8/site-packages/arviz/stats/stats.py:1458: UserWarning: For one or more samples the posterior variance of the log predictive densities exceeds 0.4. This could be indication of WAIC starting to fail. \n",
      "See http://arxiv.org/abs/1507.04544 for details\n",
      "  warnings.warn(\n",
      "/home/pasbury/neg-price-model/venv/lib/python3.8/site-packages/arviz/stats/stats.py:1458: UserWarning: For one or more samples the posterior variance of the log predictive densities exceeds 0.4. This could be indication of WAIC starting to fail. \n",
      "See http://arxiv.org/abs/1507.04544 for details\n",
      "  warnings.warn(\n",
      "/home/pasbury/neg-price-model/venv/lib/python3.8/site-packages/arviz/stats/stats.py:1458: UserWarning: For one or more samples the posterior variance of the log predictive densities exceeds 0.4. This could be indication of WAIC starting to fail. \n",
      "See http://arxiv.org/abs/1507.04544 for details\n",
      "  warnings.warn(\n"
     ]
    },
    {
     "data": {
      "text/html": [
       "<div>\n",
       "<style scoped>\n",
       "    .dataframe tbody tr th:only-of-type {\n",
       "        vertical-align: middle;\n",
       "    }\n",
       "\n",
       "    .dataframe tbody tr th {\n",
       "        vertical-align: top;\n",
       "    }\n",
       "\n",
       "    .dataframe thead th {\n",
       "        text-align: right;\n",
       "    }\n",
       "</style>\n",
       "<table border=\"1\" class=\"dataframe\">\n",
       "  <thead>\n",
       "    <tr style=\"text-align: right;\">\n",
       "      <th></th>\n",
       "      <th>rank</th>\n",
       "      <th>waic</th>\n",
       "      <th>p_waic</th>\n",
       "      <th>d_waic</th>\n",
       "      <th>weight</th>\n",
       "      <th>se</th>\n",
       "      <th>dse</th>\n",
       "      <th>warning</th>\n",
       "      <th>waic_scale</th>\n",
       "    </tr>\n",
       "  </thead>\n",
       "  <tbody>\n",
       "    <tr>\n",
       "      <th>m4 Linear StudentT</th>\n",
       "      <td>0</td>\n",
       "      <td>75.278078</td>\n",
       "      <td>3.527785</td>\n",
       "      <td>0.000000</td>\n",
       "      <td>7.193656e-01</td>\n",
       "      <td>12.942151</td>\n",
       "      <td>0.000000</td>\n",
       "      <td>True</td>\n",
       "      <td>deviance</td>\n",
       "    </tr>\n",
       "    <tr>\n",
       "      <th>m2 Quadratic gaussian</th>\n",
       "      <td>1</td>\n",
       "      <td>88.578585</td>\n",
       "      <td>6.374949</td>\n",
       "      <td>13.300506</td>\n",
       "      <td>2.806344e-01</td>\n",
       "      <td>21.547813</td>\n",
       "      <td>13.882884</td>\n",
       "      <td>True</td>\n",
       "      <td>deviance</td>\n",
       "    </tr>\n",
       "    <tr>\n",
       "      <th>m1 Linear gaussian</th>\n",
       "      <td>2</td>\n",
       "      <td>90.605353</td>\n",
       "      <td>6.305949</td>\n",
       "      <td>15.327274</td>\n",
       "      <td>0.000000e+00</td>\n",
       "      <td>21.098658</td>\n",
       "      <td>13.269101</td>\n",
       "      <td>True</td>\n",
       "      <td>deviance</td>\n",
       "    </tr>\n",
       "    <tr>\n",
       "      <th>m3 Quadratic StudentT</th>\n",
       "      <td>3</td>\n",
       "      <td>93.125580</td>\n",
       "      <td>11.158882</td>\n",
       "      <td>17.847502</td>\n",
       "      <td>1.929568e-13</td>\n",
       "      <td>15.344470</td>\n",
       "      <td>8.335666</td>\n",
       "      <td>True</td>\n",
       "      <td>deviance</td>\n",
       "    </tr>\n",
       "  </tbody>\n",
       "</table>\n",
       "</div>"
      ],
      "text/plain": [
       "                       rank       waic     p_waic     d_waic        weight  \\\n",
       "m4 Linear StudentT        0  75.278078   3.527785   0.000000  7.193656e-01   \n",
       "m2 Quadratic gaussian     1  88.578585   6.374949  13.300506  2.806344e-01   \n",
       "m1 Linear gaussian        2  90.605353   6.305949  15.327274  0.000000e+00   \n",
       "m3 Quadratic StudentT     3  93.125580  11.158882  17.847502  1.929568e-13   \n",
       "\n",
       "                              se        dse  warning waic_scale  \n",
       "m4 Linear StudentT     12.942151   0.000000     True   deviance  \n",
       "m2 Quadratic gaussian  21.547813  13.882884     True   deviance  \n",
       "m1 Linear gaussian     21.098658  13.269101     True   deviance  \n",
       "m3 Quadratic StudentT  15.344470   8.335666     True   deviance  "
      ]
     },
     "execution_count": 56,
     "metadata": {},
     "output_type": "execute_result"
    }
   ],
   "source": [
    "logprob1= log_likelihood(m1.model, samples1, d['rate'].values, d['revenue'].values)\n",
    "az1 = az.from_dict({}, log_likelihood={\"rev\": logprob1[\"rev\"][None, ...]})\n",
    "\n",
    "logprob2= log_likelihood(m2.model, samples2, d['rate'].values, d['revenue'].values)\n",
    "az2 = az.from_dict({}, log_likelihood={\"rev\": logprob2[\"rev\"][None, ...]})\n",
    "\n",
    "logprob3= log_likelihood(m3.model, samples3, d['rate'].values, d['revenue'].values)\n",
    "az3 = az.from_dict({}, log_likelihood={\"rev\": logprob3[\"rev\"][None, ...]})\n",
    "\n",
    "logprob4= log_likelihood(m4.model, samples4, d['rate'].values, d['revenue'].values)\n",
    "az4 = az.from_dict({}, log_likelihood={\"rev\": logprob4[\"rev\"][None, ...]})\n",
    "\n",
    "compare = az.compare({\"m1 Linear gaussian\": az1, \"m2 Quadratic gaussian\": az2, \"m3 Quadratic StudentT\": az3, \"m4 Linear StudentT\": az4}, ic=\"waic\", scale=\"deviance\")\n",
    "compare"
   ]
  },
  {
   "cell_type": "code",
   "execution_count": 134,
   "metadata": {},
   "outputs": [
    {
     "name": "stdout",
     "output_type": "stream",
     "text": [
      "island\n",
      "1    1.0\n",
      "2    1.0\n",
      "3    1.0\n",
      "dtype: float64\n"
     ]
    },
    {
     "data": {
      "text/html": [
       "<div>\n",
       "<style scoped>\n",
       "    .dataframe tbody tr th:only-of-type {\n",
       "        vertical-align: middle;\n",
       "    }\n",
       "\n",
       "    .dataframe tbody tr th {\n",
       "        vertical-align: top;\n",
       "    }\n",
       "\n",
       "    .dataframe thead th {\n",
       "        text-align: right;\n",
       "    }\n",
       "</style>\n",
       "<table border=\"1\" class=\"dataframe\">\n",
       "  <thead>\n",
       "    <tr style=\"text-align: right;\">\n",
       "      <th></th>\n",
       "      <th>sp_A</th>\n",
       "      <th>sp_B</th>\n",
       "      <th>sp_C</th>\n",
       "      <th>sp_D</th>\n",
       "      <th>sp_E</th>\n",
       "    </tr>\n",
       "    <tr>\n",
       "      <th>island</th>\n",
       "      <th></th>\n",
       "      <th></th>\n",
       "      <th></th>\n",
       "      <th></th>\n",
       "      <th></th>\n",
       "    </tr>\n",
       "  </thead>\n",
       "  <tbody>\n",
       "    <tr>\n",
       "      <th>1</th>\n",
       "      <td>0.20</td>\n",
       "      <td>0.20</td>\n",
       "      <td>0.20</td>\n",
       "      <td>0.200</td>\n",
       "      <td>0.200</td>\n",
       "    </tr>\n",
       "    <tr>\n",
       "      <th>2</th>\n",
       "      <td>0.80</td>\n",
       "      <td>0.10</td>\n",
       "      <td>0.05</td>\n",
       "      <td>0.025</td>\n",
       "      <td>0.025</td>\n",
       "    </tr>\n",
       "    <tr>\n",
       "      <th>3</th>\n",
       "      <td>0.05</td>\n",
       "      <td>0.15</td>\n",
       "      <td>0.70</td>\n",
       "      <td>0.050</td>\n",
       "      <td>0.050</td>\n",
       "    </tr>\n",
       "  </tbody>\n",
       "</table>\n",
       "</div>"
      ],
      "text/plain": [
       "         sp_A   sp_B   sp_C   sp_D   sp_E\n",
       "island                                   \n",
       "1        0.20   0.20   0.20  0.200  0.200\n",
       "2        0.80   0.10   0.05  0.025  0.025\n",
       "3        0.05   0.15   0.70  0.050  0.050"
      ]
     },
     "execution_count": 134,
     "metadata": {},
     "output_type": "execute_result"
    }
   ],
   "source": [
    "d = pd.read_csv('data/birds.txt')\n",
    "d.set_index('island', inplace=True)\n",
    "print(d.sum(axis = 1))\n",
    "d"
   ]
  },
  {
   "cell_type": "code",
   "execution_count": 136,
   "metadata": {},
   "outputs": [],
   "source": [
    "def entropy(p):\n",
    "    return -np.sum(p * np.log(p))"
   ]
  },
  {
   "cell_type": "code",
   "execution_count": 138,
   "metadata": {},
   "outputs": [
    {
     "data": {
      "text/plain": [
       "island\n",
       "1    1.609438\n",
       "2    0.743004\n",
       "3    0.983600\n",
       "dtype: float64"
      ]
     },
     "execution_count": 138,
     "metadata": {},
     "output_type": "execute_result"
    }
   ],
   "source": [
    "d.apply(lambda island : entropy(island), axis = 1)"
   ]
  },
  {
   "cell_type": "code",
   "execution_count": 141,
   "metadata": {},
   "outputs": [],
   "source": [
    "def LK_divergence(x):\n",
    "    n_islands, n_species = x.shape\n",
    "    KL_divergence = np.zeros((n_islands, n_islands))\n",
    "    for from_island in range(n_islands):\n",
    "        for to_island in range(n_islands):\n",
    "            p = x[from_island,:]\n",
    "            q = x[to_island,:]\n",
    "            KL_divergence[from_island,to_island] = np.sum(p*(np.log(p) - np.log(q)))\n",
    "    return KL_divergence"
   ]
  },
  {
   "cell_type": "code",
   "execution_count": 142,
   "metadata": {},
   "outputs": [
    {
     "data": {
      "text/plain": [
       "array([[0.        , 0.97040605, 0.63876044],\n",
       "       [0.86643398, 0.        , 2.01091424],\n",
       "       [0.62583761, 1.83884518, 0.        ]])"
      ]
     },
     "execution_count": 142,
     "metadata": {},
     "output_type": "execute_result"
    }
   ],
   "source": [
    "LK_divergence(d.values)"
   ]
  },
  {
   "cell_type": "code",
   "execution_count": 161,
   "metadata": {},
   "outputs": [],
   "source": [
    "d = pd.read_csv('data/foxes.csv', sep=';')"
   ]
  },
  {
   "cell_type": "code",
   "execution_count": 162,
   "metadata": {},
   "outputs": [
    {
     "data": {
      "text/html": [
       "<div>\n",
       "<style scoped>\n",
       "    .dataframe tbody tr th:only-of-type {\n",
       "        vertical-align: middle;\n",
       "    }\n",
       "\n",
       "    .dataframe tbody tr th {\n",
       "        vertical-align: top;\n",
       "    }\n",
       "\n",
       "    .dataframe thead th {\n",
       "        text-align: right;\n",
       "    }\n",
       "</style>\n",
       "<table border=\"1\" class=\"dataframe\">\n",
       "  <thead>\n",
       "    <tr style=\"text-align: right;\">\n",
       "      <th></th>\n",
       "      <th>group</th>\n",
       "      <th>avgfood</th>\n",
       "      <th>groupsize</th>\n",
       "      <th>area</th>\n",
       "      <th>weight</th>\n",
       "    </tr>\n",
       "  </thead>\n",
       "  <tbody>\n",
       "    <tr>\n",
       "      <th>57</th>\n",
       "      <td>18</td>\n",
       "      <td>1.21</td>\n",
       "      <td>8</td>\n",
       "      <td>5.07</td>\n",
       "      <td>3.99</td>\n",
       "    </tr>\n",
       "    <tr>\n",
       "      <th>48</th>\n",
       "      <td>16</td>\n",
       "      <td>0.72</td>\n",
       "      <td>4</td>\n",
       "      <td>3.54</td>\n",
       "      <td>4.25</td>\n",
       "    </tr>\n",
       "    <tr>\n",
       "      <th>47</th>\n",
       "      <td>15</td>\n",
       "      <td>0.73</td>\n",
       "      <td>4</td>\n",
       "      <td>2.65</td>\n",
       "      <td>2.01</td>\n",
       "    </tr>\n",
       "    <tr>\n",
       "      <th>46</th>\n",
       "      <td>15</td>\n",
       "      <td>0.73</td>\n",
       "      <td>4</td>\n",
       "      <td>2.65</td>\n",
       "      <td>5.37</td>\n",
       "    </tr>\n",
       "    <tr>\n",
       "      <th>0</th>\n",
       "      <td>1</td>\n",
       "      <td>0.37</td>\n",
       "      <td>2</td>\n",
       "      <td>1.09</td>\n",
       "      <td>5.02</td>\n",
       "    </tr>\n",
       "  </tbody>\n",
       "</table>\n",
       "</div>"
      ],
      "text/plain": [
       "    group  avgfood  groupsize  area  weight\n",
       "57     18     1.21          8  5.07    3.99\n",
       "48     16     0.72          4  3.54    4.25\n",
       "47     15     0.73          4  2.65    2.01\n",
       "46     15     0.73          4  2.65    5.37\n",
       "0       1     0.37          2  1.09    5.02"
      ]
     },
     "execution_count": 162,
     "metadata": {},
     "output_type": "execute_result"
    }
   ],
   "source": [
    "d.sample(5)"
   ]
  },
  {
   "cell_type": "code",
   "execution_count": 163,
   "metadata": {},
   "outputs": [
    {
     "data": {
      "text/html": [
       "<div>\n",
       "<style scoped>\n",
       "    .dataframe tbody tr th:only-of-type {\n",
       "        vertical-align: middle;\n",
       "    }\n",
       "\n",
       "    .dataframe tbody tr th {\n",
       "        vertical-align: top;\n",
       "    }\n",
       "\n",
       "    .dataframe thead th {\n",
       "        text-align: right;\n",
       "    }\n",
       "</style>\n",
       "<table border=\"1\" class=\"dataframe\">\n",
       "  <thead>\n",
       "    <tr style=\"text-align: right;\">\n",
       "      <th></th>\n",
       "      <th>group</th>\n",
       "      <th>avgfood</th>\n",
       "      <th>groupsize</th>\n",
       "      <th>area</th>\n",
       "      <th>weight</th>\n",
       "      <th>F</th>\n",
       "      <th>S</th>\n",
       "      <th>A</th>\n",
       "      <th>W</th>\n",
       "    </tr>\n",
       "  </thead>\n",
       "  <tbody>\n",
       "    <tr>\n",
       "      <th>count</th>\n",
       "      <td>116.000000</td>\n",
       "      <td>116.000000</td>\n",
       "      <td>116.000000</td>\n",
       "      <td>116.000000</td>\n",
       "      <td>116.000000</td>\n",
       "      <td>1.160000e+02</td>\n",
       "      <td>1.160000e+02</td>\n",
       "      <td>1.160000e+02</td>\n",
       "      <td>1.160000e+02</td>\n",
       "    </tr>\n",
       "    <tr>\n",
       "      <th>mean</th>\n",
       "      <td>17.206897</td>\n",
       "      <td>0.751724</td>\n",
       "      <td>4.344828</td>\n",
       "      <td>3.169138</td>\n",
       "      <td>4.529655</td>\n",
       "      <td>3.100968e-16</td>\n",
       "      <td>-1.780185e-16</td>\n",
       "      <td>-5.933951e-16</td>\n",
       "      <td>4.153765e-16</td>\n",
       "    </tr>\n",
       "    <tr>\n",
       "      <th>std</th>\n",
       "      <td>8.002736</td>\n",
       "      <td>0.198316</td>\n",
       "      <td>1.538511</td>\n",
       "      <td>0.928354</td>\n",
       "      <td>1.184023</td>\n",
       "      <td>1.004338e+00</td>\n",
       "      <td>1.004338e+00</td>\n",
       "      <td>1.004338e+00</td>\n",
       "      <td>1.004338e+00</td>\n",
       "    </tr>\n",
       "    <tr>\n",
       "      <th>min</th>\n",
       "      <td>1.000000</td>\n",
       "      <td>0.370000</td>\n",
       "      <td>2.000000</td>\n",
       "      <td>1.090000</td>\n",
       "      <td>1.920000</td>\n",
       "      <td>-1.933180e+00</td>\n",
       "      <td>-1.530701e+00</td>\n",
       "      <td>-2.249313e+00</td>\n",
       "      <td>-2.213621e+00</td>\n",
       "    </tr>\n",
       "    <tr>\n",
       "      <th>25%</th>\n",
       "      <td>11.750000</td>\n",
       "      <td>0.660000</td>\n",
       "      <td>3.000000</td>\n",
       "      <td>2.590000</td>\n",
       "      <td>3.720000</td>\n",
       "      <td>-4.645220e-01</td>\n",
       "      <td>-8.779020e-01</td>\n",
       "      <td>-6.265396e-01</td>\n",
       "      <td>-6.867840e-01</td>\n",
       "    </tr>\n",
       "    <tr>\n",
       "      <th>50%</th>\n",
       "      <td>18.000000</td>\n",
       "      <td>0.735000</td>\n",
       "      <td>4.000000</td>\n",
       "      <td>3.130000</td>\n",
       "      <td>4.420000</td>\n",
       "      <td>-8.469668e-02</td>\n",
       "      <td>-2.251031e-01</td>\n",
       "      <td>-4.234132e-02</td>\n",
       "      <td>-9.301419e-02</td>\n",
       "    </tr>\n",
       "    <tr>\n",
       "      <th>75%</th>\n",
       "      <td>24.000000</td>\n",
       "      <td>0.800000</td>\n",
       "      <td>5.000000</td>\n",
       "      <td>3.772500</td>\n",
       "      <td>5.375000</td>\n",
       "      <td>2.444853e-01</td>\n",
       "      <td>4.276958e-01</td>\n",
       "      <td>6.527464e-01</td>\n",
       "      <td>7.170575e-01</td>\n",
       "    </tr>\n",
       "    <tr>\n",
       "      <th>max</th>\n",
       "      <td>30.000000</td>\n",
       "      <td>1.210000</td>\n",
       "      <td>8.000000</td>\n",
       "      <td>5.070000</td>\n",
       "      <td>7.550000</td>\n",
       "      <td>2.320864e+00</td>\n",
       "      <td>2.386093e+00</td>\n",
       "      <td>2.056445e+00</td>\n",
       "      <td>2.561985e+00</td>\n",
       "    </tr>\n",
       "  </tbody>\n",
       "</table>\n",
       "</div>"
      ],
      "text/plain": [
       "            group     avgfood   groupsize        area      weight  \\\n",
       "count  116.000000  116.000000  116.000000  116.000000  116.000000   \n",
       "mean    17.206897    0.751724    4.344828    3.169138    4.529655   \n",
       "std      8.002736    0.198316    1.538511    0.928354    1.184023   \n",
       "min      1.000000    0.370000    2.000000    1.090000    1.920000   \n",
       "25%     11.750000    0.660000    3.000000    2.590000    3.720000   \n",
       "50%     18.000000    0.735000    4.000000    3.130000    4.420000   \n",
       "75%     24.000000    0.800000    5.000000    3.772500    5.375000   \n",
       "max     30.000000    1.210000    8.000000    5.070000    7.550000   \n",
       "\n",
       "                  F             S             A             W  \n",
       "count  1.160000e+02  1.160000e+02  1.160000e+02  1.160000e+02  \n",
       "mean   3.100968e-16 -1.780185e-16 -5.933951e-16  4.153765e-16  \n",
       "std    1.004338e+00  1.004338e+00  1.004338e+00  1.004338e+00  \n",
       "min   -1.933180e+00 -1.530701e+00 -2.249313e+00 -2.213621e+00  \n",
       "25%   -4.645220e-01 -8.779020e-01 -6.265396e-01 -6.867840e-01  \n",
       "50%   -8.469668e-02 -2.251031e-01 -4.234132e-02 -9.301419e-02  \n",
       "75%    2.444853e-01  4.276958e-01  6.527464e-01  7.170575e-01  \n",
       "max    2.320864e+00  2.386093e+00  2.056445e+00  2.561985e+00  "
      ]
     },
     "execution_count": 163,
     "metadata": {},
     "output_type": "execute_result"
    }
   ],
   "source": [
    "d[['F', 'S', 'A', 'W']] = scaler.fit_transform(d[['avgfood', 'groupsize', 'area', 'weight']])\n",
    "d.describe()"
   ]
  },
  {
   "cell_type": "code",
   "execution_count": 164,
   "metadata": {},
   "outputs": [],
   "source": [
    "def model(F, S, A, W=None):\n",
    "    a = numpyro.sample(\"a\", dist.Normal(0, 0.2))\n",
    "    bf = numpyro.sample(\"bf\", dist.Normal(0, 0.5))\n",
    "    bs = numpyro.sample(\"bs\", dist.Normal(0, 0.5))\n",
    "    ba = numpyro.sample(\"ba\", dist.Normal(0, 0.5))\n",
    "    sigma = numpyro.sample(\"sigma\", dist.Exponential(1))\n",
    "    #mu = numpyro.deterministic(\"mu\", a + bf*F + bs*S + ba*A)\n",
    "    mu = a + bf*F + bs*S + ba*A\n",
    "    weight = numpyro.sample(\"weight\", dist.Normal(mu, sigma), obs=W)"
   ]
  },
  {
   "cell_type": "code",
   "execution_count": 165,
   "metadata": {},
   "outputs": [
    {
     "name": "stderr",
     "output_type": "stream",
     "text": [
      "100%|██████████| 1000/1000 [00:02<00:00, 474.74it/s, init loss: 334.7635, avg. loss [951-1000]: 159.4331]\n"
     ]
    },
    {
     "name": "stdout",
     "output_type": "stream",
     "text": [
      "\n",
      "                mean       std    median      5.0%     95.0%     n_eff     r_hat\n",
      "         a     -0.00      0.08      0.00     -0.14      0.12   1009.20      1.00\n",
      "        ba      0.28      0.17      0.28      0.01      0.57    755.37      1.00\n",
      "        bf      0.29      0.21      0.29     -0.08      0.61    998.97      1.00\n",
      "        bs     -0.64      0.18     -0.64     -0.95     -0.37   1034.51      1.00\n",
      "     sigma      0.94      0.06      0.94      0.84      1.04    847.92      1.00\n",
      "\n"
     ]
    }
   ],
   "source": [
    "m1 = AutoLaplaceApproximation(model)\n",
    "svi = SVI(model,m1,optim.Adam(1),Trace_ELBO())\n",
    "svi_result = svi.run(random.PRNGKey(0), 1000, d.F.values, d.S.values, d.A.values, d.W.values)\n",
    "p1 = svi_result.params\n",
    "\n",
    "# display summary of quadratic approximation\n",
    "samples1 = m1.sample_posterior(random.PRNGKey(1), p1, (1000,))\n",
    "numpyro.diagnostics.print_summary(samples1, group_by_chain=False)"
   ]
  },
  {
   "cell_type": "code",
   "execution_count": 166,
   "metadata": {},
   "outputs": [
    {
     "name": "stderr",
     "output_type": "stream",
     "text": [
      "100%|██████████| 1000/1000 [00:01<00:00, 742.35it/s, init loss: 1578.7648, avg. loss [951-1000]: 160.5182]\n"
     ]
    },
    {
     "name": "stdout",
     "output_type": "stream",
     "text": [
      "\n",
      "                mean       std    median      5.0%     95.0%     n_eff     r_hat\n",
      "         a     -0.00      0.08     -0.01     -0.13      0.12   1049.96      1.00\n",
      "        bf      0.48      0.18      0.48      0.17      0.78    822.38      1.00\n",
      "        bs     -0.58      0.18     -0.58     -0.89     -0.31    836.43      1.00\n",
      "     sigma      0.95      0.06      0.95      0.84      1.04    958.43      1.00\n",
      "\n"
     ]
    }
   ],
   "source": [
    "def model(F, S, W=None):\n",
    "    a = numpyro.sample(\"a\", dist.Normal(0, 0.2))\n",
    "    bf = numpyro.sample(\"bf\", dist.Normal(0, 0.5))\n",
    "    bs = numpyro.sample(\"bs\", dist.Normal(0, 0.5))\n",
    "    sigma = numpyro.sample(\"sigma\", dist.Exponential(1))\n",
    "    mu = a + bf*F + bs*S\n",
    "    weight = numpyro.sample(\"weight\", dist.Normal(mu, sigma), obs=W)\n",
    "\n",
    "m2 = AutoLaplaceApproximation(model)\n",
    "svi = SVI(model,m2,optim.Adam(1),Trace_ELBO())\n",
    "svi_result = svi.run(random.PRNGKey(0), 1000, d.F.values, d.S.values, d.W.values)\n",
    "p2 = svi_result.params\n",
    "\n",
    "# display summary of quadratic approximation\n",
    "samples2 = m2.sample_posterior(random.PRNGKey(1), p2, (1000,))\n",
    "numpyro.diagnostics.print_summary(samples2, group_by_chain=False)"
   ]
  },
  {
   "cell_type": "code",
   "execution_count": 167,
   "metadata": {},
   "outputs": [
    {
     "name": "stderr",
     "output_type": "stream",
     "text": [
      "100%|██████████| 1000/1000 [00:01<00:00, 754.72it/s, init loss: 3136.8354, avg. loss [951-1000]: 160.1867]\n"
     ]
    },
    {
     "name": "stdout",
     "output_type": "stream",
     "text": [
      "\n",
      "                mean       std    median      5.0%     95.0%     n_eff     r_hat\n",
      "         a     -0.00      0.08     -0.01     -0.13      0.12   1049.96      1.00\n",
      "        ba      0.41      0.15      0.41      0.16      0.65    822.38      1.00\n",
      "        bs     -0.48      0.14     -0.48     -0.72     -0.24    856.36      1.00\n",
      "     sigma      0.95      0.06      0.95      0.85      1.04    960.71      1.00\n",
      "\n"
     ]
    }
   ],
   "source": [
    "def model(S, A, W=None):\n",
    "    a = numpyro.sample(\"a\", dist.Normal(0, 0.2))\n",
    "    bs = numpyro.sample(\"bs\", dist.Normal(0, 0.5))\n",
    "    ba = numpyro.sample(\"ba\", dist.Normal(0, 0.5))\n",
    "    sigma = numpyro.sample(\"sigma\", dist.Exponential(1))\n",
    "    mu = a + bs*S + ba*A\n",
    "    weight = numpyro.sample(\"weight\", dist.Normal(mu, sigma), obs=W)\n",
    "\n",
    "m3 = AutoLaplaceApproximation(model)\n",
    "svi = SVI(model,m3,optim.Adam(1),Trace_ELBO())\n",
    "svi_result = svi.run(random.PRNGKey(0), 1000, d.S.values, d.A.values, d.W.values)\n",
    "p3 = svi_result.params\n",
    "\n",
    "# display summary of quadratic approximation\n",
    "samples3 = m3.sample_posterior(random.PRNGKey(1), p3, (1000,))\n",
    "numpyro.diagnostics.print_summary(samples3, group_by_chain=False)"
   ]
  },
  {
   "cell_type": "code",
   "execution_count": 168,
   "metadata": {},
   "outputs": [
    {
     "name": "stderr",
     "output_type": "stream",
     "text": [
      "100%|██████████| 1000/1000 [00:01<00:00, 997.65it/s, init loss: 3411.7129, avg. loss [951-1000]: 165.0971]\n"
     ]
    },
    {
     "name": "stdout",
     "output_type": "stream",
     "text": [
      "\n",
      "                mean       std    median      5.0%     95.0%     n_eff     r_hat\n",
      "         a      0.01      0.09      0.01     -0.13      0.15    931.50      1.00\n",
      "        bf     -0.03      0.09     -0.03     -0.17      0.14   1111.41      1.00\n",
      "     sigma      1.00      0.07      1.00      0.90      1.13    949.31      1.00\n",
      "\n"
     ]
    }
   ],
   "source": [
    "def model(F, W=None):\n",
    "    a = numpyro.sample(\"a\", dist.Normal(0, 0.2))\n",
    "    bf = numpyro.sample(\"bf\", dist.Normal(0, 0.5))\n",
    "    sigma = numpyro.sample(\"sigma\", dist.Exponential(1))\n",
    "    mu = a + bf*F\n",
    "    weight = numpyro.sample(\"weight\", dist.Normal(mu, sigma), obs=W)\n",
    "\n",
    "m4 = AutoLaplaceApproximation(model)\n",
    "svi = SVI(model,m4,optim.Adam(1),Trace_ELBO())\n",
    "svi_result = svi.run(random.PRNGKey(0), 1000, d.F.values, d.W.values)\n",
    "p4 = svi_result.params\n",
    "\n",
    "# display summary of quadratic approximation\n",
    "samples4 = m4.sample_posterior(random.PRNGKey(1), p4, (1000,))\n",
    "numpyro.diagnostics.print_summary(samples4, group_by_chain=False)"
   ]
  },
  {
   "cell_type": "code",
   "execution_count": 169,
   "metadata": {},
   "outputs": [
    {
     "name": "stderr",
     "output_type": "stream",
     "text": [
      "100%|██████████| 1000/1000 [00:01<00:00, 986.07it/s, init loss: 3284.0828, avg. loss [951-1000]: 165.1109]\n"
     ]
    },
    {
     "name": "stdout",
     "output_type": "stream",
     "text": [
      "\n",
      "                mean       std    median      5.0%     95.0%     n_eff     r_hat\n",
      "         a      0.01      0.09      0.01     -0.13      0.15    931.50      1.00\n",
      "        ba      0.02      0.09      0.02     -0.13      0.18   1111.41      1.00\n",
      "     sigma      1.00      0.07      1.00      0.91      1.13    949.04      1.00\n",
      "\n"
     ]
    }
   ],
   "source": [
    "def model(A, W=None):\n",
    "    a = numpyro.sample(\"a\", dist.Normal(0, 0.2))\n",
    "    ba = numpyro.sample(\"ba\", dist.Normal(0, 0.5))\n",
    "    sigma = numpyro.sample(\"sigma\", dist.Exponential(1))\n",
    "    mu = a + ba*A\n",
    "    weight = numpyro.sample(\"weight\", dist.Normal(mu, sigma), obs=W)\n",
    "\n",
    "m5 = AutoLaplaceApproximation(model)\n",
    "svi = SVI(model,m5,optim.Adam(1),Trace_ELBO())\n",
    "svi_result = svi.run(random.PRNGKey(0), 1000, d.A.values, d.W.values)\n",
    "p5 = svi_result.params\n",
    "\n",
    "# display summary of quadratic approximation\n",
    "samples5 = m5.sample_posterior(random.PRNGKey(1), p5, (1000,))\n",
    "numpyro.diagnostics.print_summary(samples5, group_by_chain=False)"
   ]
  },
  {
   "cell_type": "code",
   "execution_count": 172,
   "metadata": {},
   "outputs": [
    {
     "name": "stderr",
     "output_type": "stream",
     "text": [
      "/home/pasbury/neg-price-model/venv/lib/python3.8/site-packages/arviz/stats/stats.py:1458: UserWarning: For one or more samples the posterior variance of the log predictive densities exceeds 0.4. This could be indication of WAIC starting to fail. \n",
      "See http://arxiv.org/abs/1507.04544 for details\n",
      "  warnings.warn(\n",
      "/home/pasbury/neg-price-model/venv/lib/python3.8/site-packages/arviz/stats/stats.py:1458: UserWarning: For one or more samples the posterior variance of the log predictive densities exceeds 0.4. This could be indication of WAIC starting to fail. \n",
      "See http://arxiv.org/abs/1507.04544 for details\n",
      "  warnings.warn(\n"
     ]
    },
    {
     "data": {
      "text/html": [
       "<div>\n",
       "<style scoped>\n",
       "    .dataframe tbody tr th:only-of-type {\n",
       "        vertical-align: middle;\n",
       "    }\n",
       "\n",
       "    .dataframe tbody tr th {\n",
       "        vertical-align: top;\n",
       "    }\n",
       "\n",
       "    .dataframe thead th {\n",
       "        text-align: right;\n",
       "    }\n",
       "</style>\n",
       "<table border=\"1\" class=\"dataframe\">\n",
       "  <thead>\n",
       "    <tr style=\"text-align: right;\">\n",
       "      <th></th>\n",
       "      <th>rank</th>\n",
       "      <th>waic</th>\n",
       "      <th>p_waic</th>\n",
       "      <th>d_waic</th>\n",
       "      <th>weight</th>\n",
       "      <th>se</th>\n",
       "      <th>dse</th>\n",
       "      <th>warning</th>\n",
       "      <th>waic_scale</th>\n",
       "    </tr>\n",
       "  </thead>\n",
       "  <tbody>\n",
       "    <tr>\n",
       "      <th>m1 Food, groupsize, area</th>\n",
       "      <td>0</td>\n",
       "      <td>324.355732</td>\n",
       "      <td>4.882306</td>\n",
       "      <td>0.000000</td>\n",
       "      <td>0.000000</td>\n",
       "      <td>16.299507</td>\n",
       "      <td>0.000000</td>\n",
       "      <td>True</td>\n",
       "      <td>deviance</td>\n",
       "    </tr>\n",
       "    <tr>\n",
       "      <th>m2 Food, groupsize</th>\n",
       "      <td>1</td>\n",
       "      <td>324.671632</td>\n",
       "      <td>3.609371</td>\n",
       "      <td>0.315900</td>\n",
       "      <td>0.521596</td>\n",
       "      <td>15.865722</td>\n",
       "      <td>3.624160</td>\n",
       "      <td>False</td>\n",
       "      <td>deviance</td>\n",
       "    </tr>\n",
       "    <tr>\n",
       "      <th>m3 groupsize, area</th>\n",
       "      <td>2</td>\n",
       "      <td>324.886821</td>\n",
       "      <td>3.726207</td>\n",
       "      <td>0.531088</td>\n",
       "      <td>0.478404</td>\n",
       "      <td>15.610412</td>\n",
       "      <td>2.943360</td>\n",
       "      <td>True</td>\n",
       "      <td>deviance</td>\n",
       "    </tr>\n",
       "    <tr>\n",
       "      <th>m4 Food</th>\n",
       "      <td>3</td>\n",
       "      <td>334.630024</td>\n",
       "      <td>2.493057</td>\n",
       "      <td>10.274292</td>\n",
       "      <td>0.000000</td>\n",
       "      <td>13.629199</td>\n",
       "      <td>7.272037</td>\n",
       "      <td>False</td>\n",
       "      <td>deviance</td>\n",
       "    </tr>\n",
       "    <tr>\n",
       "      <th>m5 Area</th>\n",
       "      <td>4</td>\n",
       "      <td>334.909465</td>\n",
       "      <td>2.721910</td>\n",
       "      <td>10.553733</td>\n",
       "      <td>0.000000</td>\n",
       "      <td>13.597167</td>\n",
       "      <td>7.327329</td>\n",
       "      <td>False</td>\n",
       "      <td>deviance</td>\n",
       "    </tr>\n",
       "  </tbody>\n",
       "</table>\n",
       "</div>"
      ],
      "text/plain": [
       "                          rank        waic    p_waic     d_waic    weight  \\\n",
       "m1 Food, groupsize, area     0  324.355732  4.882306   0.000000  0.000000   \n",
       "m2 Food, groupsize           1  324.671632  3.609371   0.315900  0.521596   \n",
       "m3 groupsize, area           2  324.886821  3.726207   0.531088  0.478404   \n",
       "m4 Food                      3  334.630024  2.493057  10.274292  0.000000   \n",
       "m5 Area                      4  334.909465  2.721910  10.553733  0.000000   \n",
       "\n",
       "                                 se       dse  warning waic_scale  \n",
       "m1 Food, groupsize, area  16.299507  0.000000     True   deviance  \n",
       "m2 Food, groupsize        15.865722  3.624160    False   deviance  \n",
       "m3 groupsize, area        15.610412  2.943360     True   deviance  \n",
       "m4 Food                   13.629199  7.272037    False   deviance  \n",
       "m5 Area                   13.597167  7.327329    False   deviance  "
      ]
     },
     "execution_count": 172,
     "metadata": {},
     "output_type": "execute_result"
    }
   ],
   "source": [
    "logprob1= log_likelihood(m1.model, samples1, d.F.values, d.S.values, d.A.values, d.W.values)\n",
    "az1 = az.from_dict({}, log_likelihood={\"weight\": logprob1[\"weight\"][None, ...]})\n",
    "\n",
    "logprob2= log_likelihood(m2.model, samples2, d.F.values, d.S.values, d.W.values)\n",
    "az2 = az.from_dict({}, log_likelihood={\"weight\": logprob2[\"weight\"][None, ...]})\n",
    "\n",
    "logprob3= log_likelihood(m3.model, samples3, d.S.values, d.A.values, d.W.values)\n",
    "az3 = az.from_dict({}, log_likelihood={\"weight\": logprob3[\"weight\"][None, ...]})\n",
    "\n",
    "logprob4= log_likelihood(m4.model, samples4, d.F.values, d.W.values)\n",
    "az4 = az.from_dict({}, log_likelihood={\"weight\": logprob4[\"weight\"][None, ...]})\n",
    "\n",
    "logprob5= log_likelihood(m5.model, samples5, d.A.values, d.W.values)\n",
    "az5 = az.from_dict({}, log_likelihood={\"weight\": logprob5[\"weight\"][None, ...]})\n",
    "\n",
    "compare = az.compare({\"m1 Food, groupsize, area\": az1, \"m2 Food, groupsize\": az2, \"m3 groupsize, area\": az3, \"m4 Food\": az4, \"m5 Area\": az5}, ic=\"waic\", scale=\"deviance\")\n",
    "compare"
   ]
  },
  {
   "cell_type": "code",
   "execution_count": 173,
   "metadata": {},
   "outputs": [
    {
     "data": {
      "text/plain": [
       "<AxesSubplot:xlabel='Deviance'>"
      ]
     },
     "execution_count": 173,
     "metadata": {},
     "output_type": "execute_result"
    },
    {
     "data": {
      "image/png": "[encoded data removed]",
      "text/plain": [
       "<Figure size 432x360 with 1 Axes>"
      ]
     },
     "metadata": {
      "needs_background": "light"
     },
     "output_type": "display_data"
    }
   ],
   "source": [
    "az.plot_compare(compare)"
   ]
  },
  {
   "cell_type": "code",
   "execution_count": null,
   "metadata": {},
   "outputs": [],
   "source": []
  }
 ],
 "metadata": {
  "interpreter": {
   "hash": "0789b99f4adc99188d8b4faac15be0fb9c8374a560d4c08f7e9a557c45f5c72c"
  },
  "kernelspec": {
   "display_name": "Python 3.8.10 64-bit ('venv': venv)",
   "language": "python",
   "name": "python3"
  },
  "language_info": {
   "codemirror_mode": {
    "name": "ipython",
    "version": 3
   },
   "file_extension": ".py",
   "mimetype": "text/x-python",
   "name": "python",
   "nbconvert_exporter": "python",
   "pygments_lexer": "ipython3",
   "version": "3.8.10"
  },
  "orig_nbformat": 4
 },
 "nbformat": 4,
 "nbformat_minor": 2
}
